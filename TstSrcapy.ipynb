{
 "cells": [
  {
   "cell_type": "code",
   "execution_count": 1,
   "metadata": {},
   "outputs": [],
   "source": [
    "import chromedriver_autoinstaller\n",
    "import time\n",
    "import numpy as np\n",
    "from selenium import webdriver\n",
    "import requests\n",
    "from bs4 import BeautifulSoup\n",
    "import base64\n",
    "import pandas as pd"
   ]
  },
  {
   "cell_type": "code",
   "execution_count": 45,
   "metadata": {},
   "outputs": [],
   "source": [
    "from selenium.webdriver.support import expected_conditions as EC\n",
    "from selenium.webdriver.support.ui import WebDriverWait\n",
    "from selenium.webdriver.common.by import By"
   ]
  },
  {
   "cell_type": "code",
   "execution_count": 2,
   "metadata": {
    "scrolled": true
   },
   "outputs": [],
   "source": [
    "roads = pd.read_csv('./opendata110road.csv', encoding='utf_8_sig')"
   ]
  },
  {
   "cell_type": "code",
   "execution_count": 3,
   "metadata": {},
   "outputs": [
    {
     "data": {
      "text/html": [
       "<div>\n",
       "<style scoped>\n",
       "    .dataframe tbody tr th:only-of-type {\n",
       "        vertical-align: middle;\n",
       "    }\n",
       "\n",
       "    .dataframe tbody tr th {\n",
       "        vertical-align: top;\n",
       "    }\n",
       "\n",
       "    .dataframe thead th {\n",
       "        text-align: right;\n",
       "    }\n",
       "</style>\n",
       "<table border=\"1\" class=\"dataframe\">\n",
       "  <thead>\n",
       "    <tr style=\"text-align: right;\">\n",
       "      <th></th>\n",
       "      <th>city</th>\n",
       "      <th>site_id</th>\n",
       "      <th>road</th>\n",
       "    </tr>\n",
       "  </thead>\n",
       "  <tbody>\n",
       "    <tr>\n",
       "      <th>count</th>\n",
       "      <td>34461</td>\n",
       "      <td>34461</td>\n",
       "      <td>34461</td>\n",
       "    </tr>\n",
       "    <tr>\n",
       "      <th>unique</th>\n",
       "      <td>22</td>\n",
       "      <td>361</td>\n",
       "      <td>20918</td>\n",
       "    </tr>\n",
       "    <tr>\n",
       "      <th>top</th>\n",
       "      <td>高雄市</td>\n",
       "      <td>桃園市中壢區</td>\n",
       "      <td>中正路</td>\n",
       "    </tr>\n",
       "    <tr>\n",
       "      <th>freq</th>\n",
       "      <td>4603</td>\n",
       "      <td>739</td>\n",
       "      <td>191</td>\n",
       "    </tr>\n",
       "  </tbody>\n",
       "</table>\n",
       "</div>"
      ],
      "text/plain": [
       "         city site_id   road\n",
       "count   34461   34461  34461\n",
       "unique     22     361  20918\n",
       "top       高雄市  桃園市中壢區    中正路\n",
       "freq     4603     739    191"
      ]
     },
     "execution_count": 3,
     "metadata": {},
     "output_type": "execute_result"
    }
   ],
   "source": [
    "roads.describe()"
   ]
  },
  {
   "cell_type": "code",
   "execution_count": 4,
   "metadata": {},
   "outputs": [],
   "source": [
    "bulmngurl = \"https://building-management.publicwork.ntpc.gov.tw/bm_query.jsp?rt=3\""
   ]
  },
  {
   "cell_type": "code",
   "execution_count": 5,
   "metadata": {},
   "outputs": [
    {
     "name": "stdout",
     "output_type": "stream",
     "text": [
      "using chrom url as\n",
      "C:\\ProgramData\\Anaconda3\\lib\\site-packages\\chromedriver_autoinstaller\\99\\chromedriver.exe\n"
     ]
    }
   ],
   "source": [
    "wdpth = str(chromedriver_autoinstaller.install())\n",
    "print('using chrom url as\\n{}'.format(wdpth))"
   ]
  },
  {
   "cell_type": "code",
   "execution_count": 60,
   "metadata": {},
   "outputs": [],
   "source": [
    "_interval = 0\n",
    "options = webdriver.ChromeOptions()\n",
    "browser = webdriver.Chrome(executable_path=wdpth, options=options)\n",
    "browser.get(bulmngurl)"
   ]
  },
  {
   "cell_type": "code",
   "execution_count": 61,
   "metadata": {},
   "outputs": [],
   "source": [
    "search1 = browser.find_element_by_css_selector(\"input#A2V.getDataTxt\")"
   ]
  },
  {
   "cell_type": "code",
   "execution_count": 62,
   "metadata": {},
   "outputs": [],
   "source": [
    "search1.click()\n",
    "time.sleep(2)"
   ]
  },
  {
   "cell_type": "code",
   "execution_count": 63,
   "metadata": {},
   "outputs": [],
   "source": [
    "parent_h = browser.current_window_handle\n",
    "handles = browser.window_handles"
   ]
  },
  {
   "cell_type": "code",
   "execution_count": 64,
   "metadata": {},
   "outputs": [
    {
     "name": "stderr",
     "output_type": "stream",
     "text": [
      "<ipython-input-64-39e12b01c392>:1: DeprecationWarning: use driver.switch_to.window instead\n",
      "  browser.switch_to_window(handles.pop())\n"
     ]
    }
   ],
   "source": [
    "browser.switch_to_window(handles.pop())\n",
    "browser.implicitly_wait(3)"
   ]
  },
  {
   "cell_type": "code",
   "execution_count": 68,
   "metadata": {},
   "outputs": [],
   "source": [
    "usrlinNum = 4\n",
    "search2 = browser.find_element(By.CSS_SELECTOR, \"div.div_w_130[tabindex='{}']\".format(str(usrlinNum)));"
   ]
  },
  {
   "cell_type": "code",
   "execution_count": 70,
   "metadata": {},
   "outputs": [],
   "source": [
    "search2.click()\n",
    "time.sleep(3)"
   ]
  },
  {
   "cell_type": "code",
   "execution_count": 54,
   "metadata": {},
   "outputs": [],
   "source": [
    "#使用執照 #第3筆\n",
    "search2 = browser.find_elements_by_css_selector(\"div.div_w_130\")\n",
    "search2[3].click()\n",
    "time.sleep(3)"
   ]
  },
  {
   "cell_type": "code",
   "execution_count": 42,
   "metadata": {},
   "outputs": [],
   "source": [
    "# wait = WebDriverWait(browser, 3)\n",
    "# submit = wait.until(EC.element_to_be_clickable(\\\n",
    "#     (By.CSS_SELECTOR, 'div.div_w_130')))"
   ]
  },
  {
   "cell_type": "code",
   "execution_count": null,
   "metadata": {},
   "outputs": [],
   "source": [
    "submit.click()"
   ]
  },
  {
   "cell_type": "code",
   "execution_count": 39,
   "metadata": {},
   "outputs": [
    {
     "ename": "InvalidSelectorException",
     "evalue": "Message: invalid selector: An invalid or illegal selector was specified\n  (Session info: chrome=99.0.4844.51)\n",
     "output_type": "error",
     "traceback": [
      "\u001b[1;31m---------------------------------------------------------------------------\u001b[0m",
      "\u001b[1;31mInvalidSelectorException\u001b[0m                  Traceback (most recent call last)",
      "\u001b[1;32m<ipython-input-39-43f740bbbb8c>\u001b[0m in \u001b[0;36m<module>\u001b[1;34m\u001b[0m\n\u001b[1;32m----> 1\u001b[1;33m \u001b[0msearch2\u001b[0m\u001b[1;33m.\u001b[0m\u001b[0mfind_element_by_css_selector\u001b[0m\u001b[1;33m(\u001b[0m\u001b[1;34m\"tabindex.4\"\u001b[0m\u001b[1;33m)\u001b[0m\u001b[1;33m\u001b[0m\u001b[1;33m\u001b[0m\u001b[0m\n\u001b[0m",
      "\u001b[1;32mC:\\ProgramData\\Anaconda3\\lib\\site-packages\\selenium\\webdriver\\remote\\webelement.py\u001b[0m in \u001b[0;36mfind_element_by_css_selector\u001b[1;34m(self, css_selector)\u001b[0m\n\u001b[0;32m    428\u001b[0m             \u001b[0melement\u001b[0m \u001b[1;33m=\u001b[0m \u001b[0melement\u001b[0m\u001b[1;33m.\u001b[0m\u001b[0mfind_element_by_css_selector\u001b[0m\u001b[1;33m(\u001b[0m\u001b[1;34m'#foo'\u001b[0m\u001b[1;33m)\u001b[0m\u001b[1;33m\u001b[0m\u001b[1;33m\u001b[0m\u001b[0m\n\u001b[0;32m    429\u001b[0m         \"\"\"\n\u001b[1;32m--> 430\u001b[1;33m         \u001b[1;32mreturn\u001b[0m \u001b[0mself\u001b[0m\u001b[1;33m.\u001b[0m\u001b[0mfind_element\u001b[0m\u001b[1;33m(\u001b[0m\u001b[0mby\u001b[0m\u001b[1;33m=\u001b[0m\u001b[0mBy\u001b[0m\u001b[1;33m.\u001b[0m\u001b[0mCSS_SELECTOR\u001b[0m\u001b[1;33m,\u001b[0m \u001b[0mvalue\u001b[0m\u001b[1;33m=\u001b[0m\u001b[0mcss_selector\u001b[0m\u001b[1;33m)\u001b[0m\u001b[1;33m\u001b[0m\u001b[1;33m\u001b[0m\u001b[0m\n\u001b[0m\u001b[0;32m    431\u001b[0m \u001b[1;33m\u001b[0m\u001b[0m\n\u001b[0;32m    432\u001b[0m     \u001b[1;32mdef\u001b[0m \u001b[0mfind_elements_by_css_selector\u001b[0m\u001b[1;33m(\u001b[0m\u001b[0mself\u001b[0m\u001b[1;33m,\u001b[0m \u001b[0mcss_selector\u001b[0m\u001b[1;33m)\u001b[0m\u001b[1;33m:\u001b[0m\u001b[1;33m\u001b[0m\u001b[1;33m\u001b[0m\u001b[0m\n",
      "\u001b[1;32mC:\\ProgramData\\Anaconda3\\lib\\site-packages\\selenium\\webdriver\\remote\\webelement.py\u001b[0m in \u001b[0;36mfind_element\u001b[1;34m(self, by, value)\u001b[0m\n\u001b[0;32m    656\u001b[0m                 \u001b[0mvalue\u001b[0m \u001b[1;33m=\u001b[0m \u001b[1;34m'[name=\"%s\"]'\u001b[0m \u001b[1;33m%\u001b[0m \u001b[0mvalue\u001b[0m\u001b[1;33m\u001b[0m\u001b[1;33m\u001b[0m\u001b[0m\n\u001b[0;32m    657\u001b[0m \u001b[1;33m\u001b[0m\u001b[0m\n\u001b[1;32m--> 658\u001b[1;33m         return self._execute(Command.FIND_CHILD_ELEMENT,\n\u001b[0m\u001b[0;32m    659\u001b[0m                              {\"using\": by, \"value\": value})['value']\n\u001b[0;32m    660\u001b[0m \u001b[1;33m\u001b[0m\u001b[0m\n",
      "\u001b[1;32mC:\\ProgramData\\Anaconda3\\lib\\site-packages\\selenium\\webdriver\\remote\\webelement.py\u001b[0m in \u001b[0;36m_execute\u001b[1;34m(self, command, params)\u001b[0m\n\u001b[0;32m    631\u001b[0m             \u001b[0mparams\u001b[0m \u001b[1;33m=\u001b[0m \u001b[1;33m{\u001b[0m\u001b[1;33m}\u001b[0m\u001b[1;33m\u001b[0m\u001b[1;33m\u001b[0m\u001b[0m\n\u001b[0;32m    632\u001b[0m         \u001b[0mparams\u001b[0m\u001b[1;33m[\u001b[0m\u001b[1;34m'id'\u001b[0m\u001b[1;33m]\u001b[0m \u001b[1;33m=\u001b[0m \u001b[0mself\u001b[0m\u001b[1;33m.\u001b[0m\u001b[0m_id\u001b[0m\u001b[1;33m\u001b[0m\u001b[1;33m\u001b[0m\u001b[0m\n\u001b[1;32m--> 633\u001b[1;33m         \u001b[1;32mreturn\u001b[0m \u001b[0mself\u001b[0m\u001b[1;33m.\u001b[0m\u001b[0m_parent\u001b[0m\u001b[1;33m.\u001b[0m\u001b[0mexecute\u001b[0m\u001b[1;33m(\u001b[0m\u001b[0mcommand\u001b[0m\u001b[1;33m,\u001b[0m \u001b[0mparams\u001b[0m\u001b[1;33m)\u001b[0m\u001b[1;33m\u001b[0m\u001b[1;33m\u001b[0m\u001b[0m\n\u001b[0m\u001b[0;32m    634\u001b[0m \u001b[1;33m\u001b[0m\u001b[0m\n\u001b[0;32m    635\u001b[0m     \u001b[1;32mdef\u001b[0m \u001b[0mfind_element\u001b[0m\u001b[1;33m(\u001b[0m\u001b[0mself\u001b[0m\u001b[1;33m,\u001b[0m \u001b[0mby\u001b[0m\u001b[1;33m=\u001b[0m\u001b[0mBy\u001b[0m\u001b[1;33m.\u001b[0m\u001b[0mID\u001b[0m\u001b[1;33m,\u001b[0m \u001b[0mvalue\u001b[0m\u001b[1;33m=\u001b[0m\u001b[1;32mNone\u001b[0m\u001b[1;33m)\u001b[0m\u001b[1;33m:\u001b[0m\u001b[1;33m\u001b[0m\u001b[1;33m\u001b[0m\u001b[0m\n",
      "\u001b[1;32mC:\\ProgramData\\Anaconda3\\lib\\site-packages\\selenium\\webdriver\\remote\\webdriver.py\u001b[0m in \u001b[0;36mexecute\u001b[1;34m(self, driver_command, params)\u001b[0m\n\u001b[0;32m    319\u001b[0m         \u001b[0mresponse\u001b[0m \u001b[1;33m=\u001b[0m \u001b[0mself\u001b[0m\u001b[1;33m.\u001b[0m\u001b[0mcommand_executor\u001b[0m\u001b[1;33m.\u001b[0m\u001b[0mexecute\u001b[0m\u001b[1;33m(\u001b[0m\u001b[0mdriver_command\u001b[0m\u001b[1;33m,\u001b[0m \u001b[0mparams\u001b[0m\u001b[1;33m)\u001b[0m\u001b[1;33m\u001b[0m\u001b[1;33m\u001b[0m\u001b[0m\n\u001b[0;32m    320\u001b[0m         \u001b[1;32mif\u001b[0m \u001b[0mresponse\u001b[0m\u001b[1;33m:\u001b[0m\u001b[1;33m\u001b[0m\u001b[1;33m\u001b[0m\u001b[0m\n\u001b[1;32m--> 321\u001b[1;33m             \u001b[0mself\u001b[0m\u001b[1;33m.\u001b[0m\u001b[0merror_handler\u001b[0m\u001b[1;33m.\u001b[0m\u001b[0mcheck_response\u001b[0m\u001b[1;33m(\u001b[0m\u001b[0mresponse\u001b[0m\u001b[1;33m)\u001b[0m\u001b[1;33m\u001b[0m\u001b[1;33m\u001b[0m\u001b[0m\n\u001b[0m\u001b[0;32m    322\u001b[0m             response['value'] = self._unwrap_value(\n\u001b[0;32m    323\u001b[0m                 response.get('value', None))\n",
      "\u001b[1;32mC:\\ProgramData\\Anaconda3\\lib\\site-packages\\selenium\\webdriver\\remote\\errorhandler.py\u001b[0m in \u001b[0;36mcheck_response\u001b[1;34m(self, response)\u001b[0m\n\u001b[0;32m    240\u001b[0m                 \u001b[0malert_text\u001b[0m \u001b[1;33m=\u001b[0m \u001b[0mvalue\u001b[0m\u001b[1;33m[\u001b[0m\u001b[1;34m'alert'\u001b[0m\u001b[1;33m]\u001b[0m\u001b[1;33m.\u001b[0m\u001b[0mget\u001b[0m\u001b[1;33m(\u001b[0m\u001b[1;34m'text'\u001b[0m\u001b[1;33m)\u001b[0m\u001b[1;33m\u001b[0m\u001b[1;33m\u001b[0m\u001b[0m\n\u001b[0;32m    241\u001b[0m             \u001b[1;32mraise\u001b[0m \u001b[0mexception_class\u001b[0m\u001b[1;33m(\u001b[0m\u001b[0mmessage\u001b[0m\u001b[1;33m,\u001b[0m \u001b[0mscreen\u001b[0m\u001b[1;33m,\u001b[0m \u001b[0mstacktrace\u001b[0m\u001b[1;33m,\u001b[0m \u001b[0malert_text\u001b[0m\u001b[1;33m)\u001b[0m\u001b[1;33m\u001b[0m\u001b[1;33m\u001b[0m\u001b[0m\n\u001b[1;32m--> 242\u001b[1;33m         \u001b[1;32mraise\u001b[0m \u001b[0mexception_class\u001b[0m\u001b[1;33m(\u001b[0m\u001b[0mmessage\u001b[0m\u001b[1;33m,\u001b[0m \u001b[0mscreen\u001b[0m\u001b[1;33m,\u001b[0m \u001b[0mstacktrace\u001b[0m\u001b[1;33m)\u001b[0m\u001b[1;33m\u001b[0m\u001b[1;33m\u001b[0m\u001b[0m\n\u001b[0m\u001b[0;32m    243\u001b[0m \u001b[1;33m\u001b[0m\u001b[0m\n\u001b[0;32m    244\u001b[0m     \u001b[1;32mdef\u001b[0m \u001b[0m_value_or_default\u001b[0m\u001b[1;33m(\u001b[0m\u001b[0mself\u001b[0m\u001b[1;33m,\u001b[0m \u001b[0mobj\u001b[0m\u001b[1;33m,\u001b[0m \u001b[0mkey\u001b[0m\u001b[1;33m,\u001b[0m \u001b[0mdefault\u001b[0m\u001b[1;33m)\u001b[0m\u001b[1;33m:\u001b[0m\u001b[1;33m\u001b[0m\u001b[1;33m\u001b[0m\u001b[0m\n",
      "\u001b[1;31mInvalidSelectorException\u001b[0m: Message: invalid selector: An invalid or illegal selector was specified\n  (Session info: chrome=99.0.4844.51)\n"
     ]
    }
   ],
   "source": [
    "search2.find_element_by_css_selector(\"tabindex.4\")"
   ]
  },
  {
   "cell_type": "code",
   "execution_count": 33,
   "metadata": {},
   "outputs": [
    {
     "ename": "TypeError",
     "evalue": "'WebElement' object is not iterable",
     "output_type": "error",
     "traceback": [
      "\u001b[1;31m---------------------------------------------------------------------------\u001b[0m",
      "\u001b[1;31mTypeError\u001b[0m                                 Traceback (most recent call last)",
      "\u001b[1;32m<ipython-input-33-0fb17869e91c>\u001b[0m in \u001b[0;36m<module>\u001b[1;34m\u001b[0m\n\u001b[1;32m----> 1\u001b[1;33m \u001b[1;32mfor\u001b[0m \u001b[0mkk\u001b[0m \u001b[1;32min\u001b[0m \u001b[0msearch2\u001b[0m\u001b[1;33m:\u001b[0m\u001b[1;33m\u001b[0m\u001b[1;33m\u001b[0m\u001b[0m\n\u001b[0m\u001b[0;32m      2\u001b[0m     \u001b[0mprint\u001b[0m\u001b[1;33m(\u001b[0m\u001b[0mkk\u001b[0m\u001b[1;33m)\u001b[0m\u001b[1;33m\u001b[0m\u001b[1;33m\u001b[0m\u001b[0m\n",
      "\u001b[1;31mTypeError\u001b[0m: 'WebElement' object is not iterable"
     ]
    }
   ],
   "source": [
    "for kk in search2:\n",
    "    print(kk)"
   ]
  },
  {
   "cell_type": "code",
   "execution_count": 21,
   "metadata": {},
   "outputs": [],
   "source": [
    "search2.click()\n",
    "time.sleep(2)"
   ]
  },
  {
   "cell_type": "code",
   "execution_count": 58,
   "metadata": {},
   "outputs": [
    {
     "name": "stderr",
     "output_type": "stream",
     "text": [
      "<ipython-input-58-f959254c5d81>:1: DeprecationWarning: use driver.switch_to.window instead\n",
      "  browser.switch_to_window(parent_h)\n"
     ]
    }
   ],
   "source": [
    "browser.switch_to_window(parent_h)"
   ]
  },
  {
   "cell_type": "code",
   "execution_count": null,
   "metadata": {},
   "outputs": [],
   "source": []
  },
  {
   "cell_type": "code",
   "execution_count": 59,
   "metadata": {},
   "outputs": [],
   "source": [
    "browser.close()"
   ]
  },
  {
   "cell_type": "code",
   "execution_count": null,
   "metadata": {},
   "outputs": [],
   "source": []
  },
  {
   "cell_type": "code",
   "execution_count": 5,
   "metadata": {},
   "outputs": [],
   "source": [
    "url = \"https://cpabm.cpami.gov.tw/e_help.jsp\"\n",
    "r = requests.get(url)\n",
    "soup = BeautifulSoup(r.text, 'html.parser')\n",
    "a = soup.find_all('a')\n",
    "links = []"
   ]
  },
  {
   "cell_type": "code",
   "execution_count": 12,
   "metadata": {
    "scrolled": true
   },
   "outputs": [
    {
     "name": "stdout",
     "output_type": "stream",
     "text": [
      "<a href=\"javascript:void(0);\" onclick=\"doCpt04Submit('PopWindow','/cpt0406m.do')\" title=\"建築商情資料下載\"><span class=\"icon\">．</span>建築商情資料下載</a>\n"
     ]
    }
   ],
   "source": [
    "for A in a:\n",
    "    if ('建築商情資料下載' in A):\n",
    "        print(A)\n",
    "        links.append(A.get('href'))"
   ]
  },
  {
   "cell_type": "code",
   "execution_count": null,
   "metadata": {},
   "outputs": [],
   "source": [
    "#elems = WebDriverWait(driver,10).until(EC.presence_of_all_elements_located((By.CSS_SELECTOR, \".sc-eYdvao.kvdWiq [href]\")))"
   ]
  },
  {
   "cell_type": "code",
   "execution_count": 31,
   "metadata": {},
   "outputs": [
    {
     "data": {
      "text/plain": [
       "<a href=\"javascript:void(0);\" onclick=\"doCpt04Submit('PopWindow','/cpt0406m.do')\" title=\"建築商情資料下載\"><span class=\"icon\">．</span>建築商情資料下載</a>"
      ]
     },
     "execution_count": 31,
     "metadata": {},
     "output_type": "execute_result"
    }
   ],
   "source": [
    "for A in a:\n",
    "    if ('建築商情資料下載' in A):\n",
    "        temps = A\n",
    "temps"
   ]
  },
  {
   "cell_type": "code",
   "execution_count": 37,
   "metadata": {},
   "outputs": [
    {
     "data": {
      "text/plain": [
       "['javascript:void(0);']"
      ]
     },
     "execution_count": 37,
     "metadata": {},
     "output_type": "execute_result"
    }
   ],
   "source": [
    "temps.get_attribute_list('href')"
   ]
  },
  {
   "cell_type": "code",
   "execution_count": null,
   "metadata": {},
   "outputs": [],
   "source": []
  },
  {
   "cell_type": "code",
   "execution_count": null,
   "metadata": {},
   "outputs": [],
   "source": []
  },
  {
   "cell_type": "code",
   "execution_count": null,
   "metadata": {},
   "outputs": [],
   "source": [
    "elems = driver.find_elements_by_css_selector(\".sc-eYdvao.kvdWiq [href]\")\n",
    "links = [elem.get_attribute('href') for elem in elems]"
   ]
  },
  {
   "cell_type": "code",
   "execution_count": 29,
   "metadata": {
    "collapsed": true
   },
   "outputs": [
    {
     "data": {
      "text/plain": [
       "[<a class=\"sr-only sr-only-focusable\" href=\"#content\" id=\"gotocenter\" title=\"跳到主要內容\">跳到主要內容</a>,\n",
       " <a class=\"btn-bar pc-hide\" href=\"\">\n",
       " <i aria-hidden=\"true\" class=\"fa fa-bars\"></i>\n",
       " </a>,\n",
       " <a accesskey=\"U\" href=\"#U\" id=\"AU\" name=\"U\" title=\"上方功能區塊\">:::</a>,\n",
       " <a href=\"/CPTL/index.jsp\" title=\"全國建築管理入口網\">\n",
       " <img alt=\"全國建築管理資訊系統入口網LOGO\" src=\"/CPTL/maliportal/images/index/logo.png\"/>\n",
       " </a>,\n",
       " <a href=\"index.jsp\" title=\"回首頁\">回首頁</a>,\n",
       " <a href=\"mailto:cipei@cpami.gov.tw\" title=\"系統服務信箱\">系統服務信箱</a>,\n",
       " <a href=\"javascript:void(0);\" onclick=\"doCpt04Submit('LocationformForDo','cpt0601m')\" title=\"事件服務請求\">事件服務請求</a>,\n",
       " <a href=\"\" title=\"提供瞭解網站整體架構及鍵盤快捷鍵\">網站導覽</a>,\n",
       " <a href=\"\" title=\"雙語詞彙\">雙語詞彙</a>,\n",
       " <a href=\"https://www.google.com.tw/advanced_search?hl=zh-TW&amp;as_q=&amp;num=100&amp;as_sitesearch=cloudbm.cpami.gov.tw/CPTL&amp;cof=FORID%3A10&amp;ie=UTF-8&amp;sa=%E6%90%9C%E5%B0%8B&amp;siteurl=www\" target=\"blank\" title=\"進階搜尋\">\n",
       " <img alt=\"進階搜尋圖示\" class=\"svg\" src=\"/CPTL/maliportal/images/index/equalizer.svg\"/></a>,\n",
       " <a class=\"fontSize\" data-size=\"small-font_\" href=\"#\" title=\"小字級\">小</a>,\n",
       " <a class=\"fontSize active\" data-size=\"middle-font_\" href=\"#\" title=\"中字級\">中</a>,\n",
       " <a class=\"fontSize\" data-size=\"big-font_\" href=\"#\" title=\"大字級\">大</a>,\n",
       " <a class=\"top_share\" href=\"\" title=\"網站分享\">\n",
       " <img alt=\"網站分享LOGO\" src=\"/CPTL/maliportal/images/index/share.svg\"/></a>,\n",
       " <a href=\"javascript:void(0);\" title=\"建管業務\">\n",
       " \t\t\t\t\t建管業務\n",
       " \t\t\t\t\t<i aria-hidden=\"true\" class=\"fa fa-angle-down ml-auto\"></i></a>,\n",
       " <a href=\"javascript:void(0);\" onclick=\"doCpt04Submit('LocationformForHerfAddContext','/cpt0401m.do')\" title=\"建築師登記\"><span class=\"icon\">．</span>建築師登記</a>,\n",
       " <a href=\"javascript:void(0);\" onclick=\"doCpt04Submit('LocationformForHerf','https://cloudbm.cpami.gov.tw/ARSO')\" title=\"建築師開業管理\"><span class=\"icon\">．</span>建築師開業管理</a>,\n",
       " <a href=\"javascript:void(0);\" onclick=\"doCpt04Submit('LocationformForHerfAddContext','/cpt0201m.do')\" title=\"建築執照申辦\"><span class=\"icon\">．</span>建築執照申辦</a>,\n",
       " <a href=\"javascript:void(0);\" onclick=\"doCpt04Submit('LocationformForHerfAddContext','/cpt0403m.do')\" title=\"綠建築評估系統\"><span class=\"icon\">．</span>綠建築評估系統</a>,\n",
       " <a class=\"\" href=\"http://npbmad.cpami.gov.tw/\" target=\"blank\" title=\"臺灣國家公園建築執照暨建築物公共安全檢查申報管理系統\"><span class=\"icon\">．</span>臺灣國家公園建築執照暨建築物公共安全檢查申報管理系統</a>,\n",
       " <a href=\"javascript:void(0);\" onclick=\"doCpt04Submit('LocationformForHerf','http://cpabm.cpami.gov.tw/22workerCheck')\" title=\"施工管理資訊系統\"><span class=\"icon\">．</span>施工管理資訊系統</a>,\n",
       " <a href=\"javascript:void(0);\" onclick=\"doCpt04Submit('LocationformForHerfAddContext','/cpt0404m.do')\" title=\"公安耐震評估檢查\"><span class=\"icon\">．</span>公安耐震評估檢查</a>,\n",
       " <a href=\"javascript:void(0);\" onclick=\"doCpt04Submit('PopWindow','/maliapp/cpt04/cpt0405m.jsp')\" title=\"疑似石綿建材\"><span class=\"icon\">．</span>疑似石綿建材</a>,\n",
       " <a href=\"javascript:void(0);\" onclick=\"doCpt04Submit('LocationformForHerfAddContext','/cpt0202m.do')\" title=\"建築物公共安全標準檢查資訊\"><span class=\"icon\">．</span>建築物公共安全標準檢查資訊</a>,\n",
       " <a href=\"javascript:void(0);\" onclick=\"doCpt04Submit('LocationformForHerf','http://cpabm.cpami.gov.tw/apm')\" title=\"公寓大廈報備系統\"><span class=\"icon\">．</span>公寓大廈報備系統</a>,\n",
       " <a href=\"javascript:void(0);\" onclick=\"doCpt04Submit('LocationformForHerf','http://cpabm.cpami.gov.tw/wwwpakMgr')\" title=\"建築物昇降設備及機械停車設備\"><span class=\"icon\">．</span>建築物昇降設備及機械停車設備</a>,\n",
       " <a href=\"javascript:void(0);\" onclick=\"doCpt04Submit('LocationformForHerf','http://cpabm-tch.cpami.gov.tw/squatter')\" title=\"新違章建築立即處理資訊系統\"><span class=\"icon\">．</span>新違章建築立即處理資訊系統</a>,\n",
       " <a href=\"javascript:void(0);\" onclick=\"doCpt04Submit('LocationformForHerf','http://cpabm.cpami.gov.tw/cers/pages/information/renu.html')\" title=\"建築工程履歷查詢系統\"><span class=\"icon\">．</span>建築工程履歷查詢系統</a>,\n",
       " <a href=\"javascript:void(0);\" onclick=\"doCpt04Submit('PopWindow','/cpt0406m.do')\" title=\"建築商情資料下載\"><span class=\"icon\">．</span>建築商情資料下載</a>,\n",
       " <a href=\"javascript:void(0);\" onclick=\"doCpt04Submit('PopWindow','/cpt0407m.do')\" title=\"全國建築執照存根查詢\"><span class=\"icon\">．</span>全國建築執照存根查詢</a>,\n",
       " <a href=\"javascript:void(0);\" onclick=\"doCpt04Submit('LocationformForHerf','http://dbuild.cpami.gov.tw/Welcome.do')\" title=\"OpenData資料開放平台\"><span class=\"icon\">．</span>OpenData資料開放平台</a>,\n",
       " <a href=\"javascript:void(0);\" onclick=\"doCpt04Submit('PopWindow','/cpt0408m.do')\" title=\"申請書表資訊\"><span class=\"icon\">．</span>申請書表資訊</a>,\n",
       " <a href=\"javascript:void(0);\" onclick=\"doCpt04Submit('PopWindow','/cpt0409m.do')\" title=\"建築相關法規\"><span class=\"icon\">．</span>建築相關法規</a>,\n",
       " <a href=\"javascript:void(0);\" onclick=\"doCpt04Submit('PopWindow','/cpt0410m.do')\" title=\"縣市建管法令咨詢\"><span class=\"icon\">．</span>縣市建管法令咨詢</a>,\n",
       " <a href=\"javascript:void(0);\" onclick=\"doCpt04Submit('LocationformForHerf','https://cloudbm.cpami.gov.tw/cco')\" title=\"專業工程技師簽證許可\"><span class=\"icon\">．</span>專業工程技師簽證許可</a>,\n",
       " <a href=\"javascript:void(0);\" onclick=\"doCpt04Submit('LocationformForHerfAddContext','/cpt0402m.do')\" title=\"建築新技術、新工法、 新設備及新材料認可資訊\"><span class=\"icon\">．</span>建築新技術、新工法、 新設備及新材料認可資訊</a>,\n",
       " <a href=\"javascript:void(0);\" onclick=\"doCpt04Submit('LocationformForHerf','https://www.ey.gov.tw/Page/5A8A0CB5B41DA11E/84ca877a-f946-4684-a19d-732a351dc448')\" title=\"內政部行動支付政策\"><span class=\"icon\">．</span>內政部行動支付政策</a>,\n",
       " <a href=\"javascript:void(0);\" title=\"營造業務\">營造業務\n",
       " \t\t\t\t\t\t<i aria-hidden=\"true\" class=\"fa fa-angle-down ml-auto\"></i></a>,\n",
       " <a href=\"javascript:void(0);\" onclick=\"doCpt04Submit('LocationformForHerfAddContext','/getParamsCpt05Action.do')\" title=\"營管資訊查詢\"><span class=\"icon\">．</span>營管資訊查詢</a>,\n",
       " <a href=\"javascript:void(0);\" onclick=\"doCpt04Submit('LocationformForHerfAddContext','/cpt0502m.do')\" title=\"營造業工地主任執業證資訊查詢\"><span class=\"icon\">．</span>營造業工地主任執業證資訊查詢</a>,\n",
       " <a href=\"javascript:void(0);\" onclick=\"doCpt04Submit('LocationformForHerfAddContext','/cpt0503m.do')\" title=\"營造業評鑑及複評結果查詢\"><span class=\"icon\">．</span>營造業評鑑及複評結果查詢</a>,\n",
       " <a href=\"javascript:void(0);\" onclick=\"doCpt04Submit('LocationformForHerf','https://cpabm.cpami.gov.tw/EMAI/')\" title=\"營造業專任工程人員專業技術講習\"><span class=\"icon\">．</span>營造業專任工程人員專業技術講習</a>,\n",
       " <a href=\"javascript:void(0);\" onclick=\"doCpt04Submit('LocationformForHerfAddContext','/cpt0504m.do')\" title=\"營造業法規\"><span class=\"icon\">．</span>營造業法規</a>,\n",
       " <a href=\"javascript:void(0);\" onclick=\"doCpt04Submit('LocationformForHerfAddContext','/cpt0505m.do')\" title=\"營造業書表資料\"><span class=\"icon\">．</span>營造業書表資料</a>,\n",
       " <a href=\"javascript:void(0);\" onclick=\"doCpt04Submit('LocationformForHerf','http://cpabm.cpami.gov.tw/exam/')\" title=\"營造業工地主任4年回訓\"><span class=\"icon\">．</span>營造業工地主任4年回訓</a>,\n",
       " <a href=\"javascript:void(0);\" title=\"證照與講習\">證照與講習\n",
       " \t\t\t\t\t\t<i aria-hidden=\"true\" class=\"fa fa-angle-down ml-auto\"></i></a>,\n",
       " <a href=\"javascript:void(0);\" onclick=\"doCpt04Submit('LocationformForHerfAddContext','/cpt0602m.do')\" title=\"公司/機構資料查詢\"><span class=\"icon\">．</span>公司/機構資料查詢</a>,\n",
       " <a href=\"javascript:void(0);\" onclick=\"doCpt04Submit('LocationformForHerfAddContext','/cpt0603m.do')\" title=\"人員資料查詢\"><span class=\"icon\">．</span>人員資料查詢</a>,\n",
       " <a href=\"javascript:void(0);\" onclick=\"doCpt04Submit('LocationformForHerf','https://cpabm.cpami.gov.tw/build-exam/Welcome.do')\" title=\"公寓大廈管理服務人員培訓\"><span class=\"icon\">．</span>公寓大廈管理服務人員培訓</a>,\n",
       " <a href=\"javascript:void(0);\" onclick=\"doCpt04Submit('LocationformForHerf','http://cpabm.cpami.gov.tw/apmexam/')\" title=\"公寓大廈管理服務人員回訓\"><span class=\"icon\">．</span>公寓大廈管理服務人員回訓</a>,\n",
       " <a href=\"javascript:void(0);\" onclick=\"doCpt04Submit('LocationformForHerf','http://cpabm.cpami.gov.tw/InterDecoExam/')\" title=\"建築物室內裝修專業技術人員換證回訓講習\"><span class=\"icon\">．</span>建築物室內裝修專業技術人員換證回訓講習</a>,\n",
       " <a href=\"javascript:void(0);\" onclick=\"doCpt04Submit('LocationformForHerf','http://cpabm.cpami.gov.tw/elvtexam/')\" title=\"建築物昇降設備/機械停車設備檢查員、專業技術人員培回訓系統\"><span class=\"icon\">．</span>建築物昇降設備/機械停車設備檢查員、專業技術人員培回訓系統</a>,\n",
       " <a href=\"javascript:void(0);\" onclick=\"doCpt04Submit('LocationformForHerf','http://cpabm.cpami.gov.tw/PubExam/')\" title=\"建築物公共安全檢查業檢查人認可資格講習\"><span class=\"icon\">．</span>建築物公共安全檢查業檢查人認可資格講習</a>,\n",
       " <a href=\"javascript:void(0);\" title=\"防救災系統\">防救災系統\n",
       " \t\t\t\t\t\t<i aria-hidden=\"true\" class=\"fa fa-angle-down ml-auto\"></i></a>,\n",
       " <a href=\"https://cloudbm.cpami.gov.tw/DBMH/\" target=\"blank\" title=\"災害後危險建築物緊急評估資訊系統\"><span class=\"icon\">．</span>災害後危險建築物緊急評估資訊系統</a>,\n",
       " <a href=\"https://cloudbm.cpami.gov.tw/KINX/\" target=\"blank\" title=\"建築物耐震能力評估資訊系統\"><span class=\"icon\">．</span>建築物耐震能力評估資訊系統</a>,\n",
       " <a href=\"https://cloudbm.cpami.gov.tw/WORX/\" target=\"blank\" title=\"工程重機械資訊\"><span class=\"icon\">．</span>工程重機械資訊</a>,\n",
       " <a href=\"https://cloudbm.cpami.gov.tw/ADVS/\" target=\"blank\" title=\"招牌廣告巡查系統\"><span class=\"icon\">．</span>招牌廣告巡查系統</a>,\n",
       " <a href=\"https://cloudbm.cpami.gov.tw/BLS/applylogin.do\" target=\"blank\" title=\"新線上申請入口專區\">新線上申請入口專區</a>,\n",
       " <a href=\"https://cloudbm.cpami.gov.tw/bccs\" target=\"blank\" title=\"登入\">公務專區</a>,\n",
       " <a href=\"https://cpabm.cpami.gov.tw/index.jsp\" title=\"舊版入口網\">舊版入口網</a>,\n",
       " <a href=\"index.jsp\" title=\"回首頁\">回首頁</a>,\n",
       " <a href=\"\" title=\"系統服務信箱\">系統服務信箱</a>,\n",
       " <a href=\"\" title=\"事件服務請求\">事件服務請求</a>,\n",
       " <a href=\"\" title=\"提供瞭解網站整體架構及鍵盤快捷鍵\">網站導覽</a>,\n",
       " <a href=\"\" title=\"雙語詞彙\">雙語詞彙</a>,\n",
       " <a class=\"fontSize\" data-size=\"small-font_\" href=\"#\" title=\"小字級\">小</a>,\n",
       " <a class=\"fontSize active\" data-size=\"middle-font_\" href=\"#\" title=\"中字級\">中</a>,\n",
       " <a class=\"fontSize\" data-size=\"big-font_\" href=\"#\" title=\"大字級\">大</a>,\n",
       " <a href=\"index.jsp\" target=\"blank\" title=\"進階搜尋\"><img alt=\"進階搜尋圖示\" class=\"svg\" src=\"maliportal/images/index/equalizer.svg\"/></a>,\n",
       " <a accesskey=\"C\" href=\"#C\" id=\"AC\" name=\"C\" title=\"中央內容區塊\">:::</a>,\n",
       " <a href=\"/CPTL/cpt0301m.do\" title=\"一般民眾\">\n",
       " <img alt=\"一般民眾圖示\" src=\"/CPTL/maliportal/images/index/teamwork.svg\"/> 一般民眾\n",
       " \t\t\t\t\t\t\t</a>,\n",
       " <a href=\"/CPTL/cpt0302m.do\" title=\"建築師及技師\">\n",
       " <img alt=\"建築師及技師圖示\" src=\"/CPTL/maliportal/images/index/engineer.svg\"/> 建築師及技師\n",
       " \t\t\t\t\t\t\t</a>,\n",
       " <a href=\"/CPTL/cpt0303m.do\" title=\"專業機構及廠商\">\n",
       " <img alt=\"專業機構及廠商圖示\" src=\"/CPTL/maliportal/images/index/engineer01.svg\"/> 專業機構及廠商\n",
       " \t\t\t\t\t\t\t</a>,\n",
       " <a href=\"/CPTL/cpt0304m.do\" title=\"建管業務主管單位\">\n",
       " <img alt=\"建管業務主管單位圖示\" src=\"/CPTL/maliportal/images/index/museum.svg\"/> 建管業務主管單位\n",
       " \t\t\t\t\t\t\t</a>,\n",
       " <a href=\"/CPTL/cpt0306m.do\" title=\"營造業務主管單位\">\n",
       " <img alt=\"營造業務主管單位圖示\" src=\"/CPTL/maliportal/images/index/drawing01.svg\"/> 營造業務主管單位\n",
       " \t\t\t\t\t\t\t</a>,\n",
       " <a href=\"/CPTL/cpt0305m.do\" title=\"建管委訓單位\">\n",
       " <img alt=\"建管委訓單位圖示\" src=\"/CPTL/maliportal/images/index/drawing.svg\"/> 建管委訓單位\n",
       " \t\t\t\t\t\t\t</a>,\n",
       " <a href=\"/CPTL/cpt0307m.do\" title=\"營造業委訓及評鑑單位\">\n",
       " <img alt=\"營建委訓及評鑑單位圖示\" src=\"/CPTL/maliportal/images/index/reward.svg\"/> 營造業委訓及評鑑單位\n",
       " \t\t\t\t\t\t\t</a>,\n",
       " <a class=\"swiper-button-prev\" href=\"#\" title=\"上一則主題\"><span>＞</span></a>,\n",
       " <a class=\"swiper-button-next\" href=\"#\" title=\"下一則主題\"><span>＜</span></a>,\n",
       " <a href=\"#tabs_group01\" title=\"最新消息\">最新消息</a>,\n",
       " <a href=\"#tabs_group02\" title=\"教育訓練\">教育訓練</a>,\n",
       " <a href=\"#tabs_group03\" title=\"新聞稿\">新聞稿</a>,\n",
       " <a href=\"/CPTL/cpt0102m.do\" title=\"更多最新消息連結\">\n",
       " \t\t\t\t\t\t\t\t\t更多<span> 〉〉</span>\n",
       " </a>,\n",
       " <a accesskey=\"Z\" href=\"#Z\" id=\"AZ\" name=\"Z\" title=\"下方選單連結區，此區塊列有[本署簡介]、[最新消息]、[便民服務]等連結\">:::</a>,\n",
       " <a href=\"https://www.cpami.gov.tw/%E9%97%9C%E6%96%BC%E7%87%9F%E5%BB%BA%E7%BD%B2/%E5%90%84%E5%96%AE%E4%BD%8D%E8%81%B7%E6%8E%8C.html\" target=\"_blank\" title=\"職掌及組織\">職掌及組織</a>,\n",
       " <a href=\"https://www.cpami.gov.tw/%E9%97%9C%E6%96%BC%E7%87%9F%E5%BB%BA%E7%BD%B2/%E7%BD%B2%E9%95%B7%E7%B0%A1%E4%BB%8B.html\" target=\"_blank\" title=\"署長專區\">署長專區</a>,\n",
       " <a href=\"https://www.cpami.gov.tw/%E6%9C%80%E6%96%B0%E6%B6%88%E6%81%AF/%E6%A5%AD%E5%8B%99%E6%96%B0%E8%A8%8A.html\" target=\"_blank\" title=\"業務新訊\">業務新訊</a>,\n",
       " <a href=\"https://www.cpami.gov.tw/%E6%9C%80%E6%96%B0%E6%B6%88%E6%81%AF/%E6%B3%95%E8%A6%8F%E5%85%AC%E5%91%8A.html\" target=\"_blank\" title=\"法規公告\">法規公告</a>,\n",
       " <a href=\"https://www.cpami.gov.tw/%E6%9C%80%E6%96%B0%E6%B6%88%E6%81%AF/%E8%A7%A3%E9%87%8B%E5%87%BD%E5%BD%99%E7%B7%A8-1.html\" target=\"_blank\" title=\"解釋函彙編\">解釋函彙編</a>,\n",
       " <a href=\"https://www.cpami.gov.tw/%E4%BE%BF%E6%B0%91%E6%9C%8D%E5%8B%99/%E5%96%AE%E4%B8%80%E7%AA%97%E5%8F%A3.html\" target=\"_blank\" title=\"單一窗口\">單一窗口</a>,\n",
       " <a href=\"https://www.cpami.gov.tw/%E4%BE%BF%E6%B0%91%E6%9C%8D%E5%8B%99/%E4%B8%8B%E8%BC%89%E5%B0%88%E5%8D%80/%E4%B8%8B%E8%BC%89%E5%B0%88%E5%8D%80%E6%B8%85%E5%96%AE.html\" target=\"_blank\" title=\"下載專區\">下載專區</a>,\n",
       " <a href=\"javascript:void(0);\" onclick=\"doCpt04Submit('PopWindow','/cpt001.jsp')\" title=\"政府網站資料開放宣告\">政府網站資料開放宣告</a>,\n",
       " <a href=\"javascript:void(0);\" onclick=\"doCpt04Submit('PopWindow','/cpt002.jsp')\" title=\"隱私權及安全政策\">隱私權及安全政策</a>,\n",
       " <a href=\"tel:+886-2-1234567\">\n",
       " <img alt=\"系統客服專線圖示\" class=\"svg\" src=\"maliportal/images/index/call.svg\"/>\n",
       " <span>\n",
       " \t\t\t\t\t\t\t\t\t\t02-2748-5205\n",
       " \t\t\t\t\t\t\t\t\t</span>\n",
       " </a>,\n",
       " <a href=\"http://www.gov.tw/\" style=\"display:block;\" target=\"_blank\" title=\"我的E政府(另開新視窗)\">\n",
       " <img alt=\"我的E政府\" src=\"maliportal/images/gov.png\"/>\n",
       " </a>,\n",
       " <a href=\"#\" style=\"display:block;\" title=\"移至無障礙標章網頁\">\n",
       " <img alt=\"通過AA檢測等級無障礙網頁檢測\" height=\"31\" src=\"maliportal/images/AA.png\" width=\"88\"/>\n",
       " </a>,\n",
       " <a class=\"btnTop\" href=\"javascript:;\" title=\"回頂部[連結]\">\n",
       " <img alt=\"回頂部圖示\" class=\"svg\" src=\"maliportal/images/index/top.svg\"/>\n",
       " </a>]"
      ]
     },
     "execution_count": 29,
     "metadata": {},
     "output_type": "execute_result"
    }
   ],
   "source": [
    "a"
   ]
  },
  {
   "cell_type": "code",
   "execution_count": 27,
   "metadata": {},
   "outputs": [],
   "source": [
    "wdpth = None\n",
    "chromepth = None\n",
    "_interval = 0\n",
    "url = \"https://cloudbm.cpami.gov.tw/CPTL/\"\n",
    "#url = \"https://building-management.publicwork.ntpc.gov.tw/bm_query.jsp?rt=3\"\n",
    "wdpth = None or wdpth\n",
    "chromepth = None or chromepth         \n",
    "options = webdriver.ChromeOptions()\n",
    "\n",
    "# hide mode\n",
    "#options.add_argument(\"headless\")\n",
    "if wdpth == None:\n",
    "    wdpth = str(chromedriver_autoinstaller.install())\n",
    "\n",
    "if chromepth != None:\n",
    "    options.binary_location = str(chromepth) \n",
    "\n",
    "chromepth = chromepth\n",
    "wdpth = wdpth\n",
    "options = options"
   ]
  },
  {
   "cell_type": "code",
   "execution_count": 28,
   "metadata": {},
   "outputs": [],
   "source": [
    "_interval = 0 or _interval\n",
    "browser = webdriver.Chrome(executable_path=wdpth, options=options)\n",
    "browser.get(url)"
   ]
  },
  {
   "cell_type": "code",
   "execution_count": null,
   "metadata": {},
   "outputs": [],
   "source": [
    "search = browser.find_element_by_id(\"searchWord\")"
   ]
  },
  {
   "cell_type": "code",
   "execution_count": null,
   "metadata": {},
   "outputs": [],
   "source": [
    "search = browser.find_element_by_xpath(\"/html/body/form/div[10]/div[2]/img[2]\")"
   ]
  },
  {
   "cell_type": "code",
   "execution_count": null,
   "metadata": {},
   "outputs": [],
   "source": [
    "#submitTag = driver.find_element_by_id('su')"
   ]
  },
  {
   "cell_type": "code",
   "execution_count": null,
   "metadata": {},
   "outputs": [],
   "source": [
    "browser.close()"
   ]
  },
  {
   "cell_type": "code",
   "execution_count": null,
   "metadata": {},
   "outputs": [],
   "source": []
  },
  {
   "cell_type": "code",
   "execution_count": null,
   "metadata": {},
   "outputs": [],
   "source": []
  },
  {
   "cell_type": "code",
   "execution_count": 19,
   "metadata": {},
   "outputs": [],
   "source": [
    "links = [\"http://ser12.cpami.gov.tw/e_help/01/HCGBM.html\"]"
   ]
  },
  {
   "cell_type": "code",
   "execution_count": 20,
   "metadata": {
    "scrolled": false
   },
   "outputs": [],
   "source": [
    "df = pd.DataFrame()\n",
    "for link in links:\n",
    "    #print('requesting: {}/{}'.format(i,len(links)))\n",
    "    #logging.info()\n",
    "    t = pd.read_html(link, header=0)\n",
    "    df = df.append(t[0], ignore_index=True)"
   ]
  },
  {
   "cell_type": "code",
   "execution_count": 22,
   "metadata": {},
   "outputs": [
    {
     "data": {
      "text/html": [
       "<div>\n",
       "<style scoped>\n",
       "    .dataframe tbody tr th:only-of-type {\n",
       "        vertical-align: middle;\n",
       "    }\n",
       "\n",
       "    .dataframe tbody tr th {\n",
       "        vertical-align: top;\n",
       "    }\n",
       "\n",
       "    .dataframe thead th {\n",
       "        text-align: right;\n",
       "    }\n",
       "</style>\n",
       "<table border=\"1\" class=\"dataframe\">\n",
       "  <thead>\n",
       "    <tr style=\"text-align: right;\">\n",
       "      <th></th>\n",
       "      <th>縣市別</th>\n",
       "      <th>執照類別</th>\n",
       "      <th>建造號碼</th>\n",
       "      <th>發照日期</th>\n",
       "      <th>起造人</th>\n",
       "      <th>設計人</th>\n",
       "      <th>承造人</th>\n",
       "      <th>建築地點</th>\n",
       "      <th>總樓地板面積(㎡)</th>\n",
       "      <th>地下層數</th>\n",
       "      <th>地上層數</th>\n",
       "      <th>樓層高度(m)</th>\n",
       "      <th>建物用途</th>\n",
       "      <th>變更次數</th>\n",
       "    </tr>\n",
       "  </thead>\n",
       "  <tbody>\n",
       "    <tr>\n",
       "      <th>0</th>\n",
       "      <td>新北市</td>\n",
       "      <td>建造執照</td>\n",
       "      <td>103莊建字第00664-03號</td>\n",
       "      <td>1110121</td>\n",
       "      <td>中悅建設開發股份有限公司負責人：陳再河</td>\n",
       "      <td>李文勝</td>\n",
       "      <td>晃茂營造股份有限公司</td>\n",
       "      <td>新北市新莊區副都心段一小段0380-0000號</td>\n",
       "      <td>45714.93</td>\n",
       "      <td>5.0</td>\n",
       "      <td>20</td>\n",
       "      <td>86.6</td>\n",
       "      <td>一般事務所(G2)、店鋪(G3)</td>\n",
       "      <td>3</td>\n",
       "    </tr>\n",
       "    <tr>\n",
       "      <th>1</th>\n",
       "      <td>新北市</td>\n",
       "      <td>建造執照</td>\n",
       "      <td>105汐建字第00076-03號</td>\n",
       "      <td>1110114</td>\n",
       "      <td>臺億建築經理股份有限公司(負責人:紀玉枝)</td>\n",
       "      <td>郭秋利</td>\n",
       "      <td>祝旺開發股份有限公司</td>\n",
       "      <td>新北市汐止區秀山段1083-0000號</td>\n",
       "      <td>73690.04</td>\n",
       "      <td>3.0</td>\n",
       "      <td>6</td>\n",
       "      <td>18.0</td>\n",
       "      <td>H2-集合住宅</td>\n",
       "      <td>3</td>\n",
       "    </tr>\n",
       "    <tr>\n",
       "      <th>2</th>\n",
       "      <td>新北市</td>\n",
       "      <td>建造執照</td>\n",
       "      <td>106股建字第00415-02號</td>\n",
       "      <td>1110125</td>\n",
       "      <td>合眾建築經理股份有限公司代表人：顏文澤</td>\n",
       "      <td>陳金水</td>\n",
       "      <td>禾進營造工程有限公司</td>\n",
       "      <td>新北市五股區登林段0726-0000號</td>\n",
       "      <td>38477.78</td>\n",
       "      <td>5.0</td>\n",
       "      <td>24</td>\n",
       "      <td>84.3</td>\n",
       "      <td>集合住宅H2</td>\n",
       "      <td>2</td>\n",
       "    </tr>\n",
       "  </tbody>\n",
       "</table>\n",
       "</div>"
      ],
      "text/plain": [
       "   縣市別  執照類別              建造號碼     發照日期                    起造人  設計人  \\\n",
       "0  新北市  建造執照  103莊建字第00664-03號  1110121    中悅建設開發股份有限公司負責人：陳再河  李文勝   \n",
       "1  新北市  建造執照  105汐建字第00076-03號  1110114  臺億建築經理股份有限公司(負責人:紀玉枝)  郭秋利   \n",
       "2  新北市  建造執照  106股建字第00415-02號  1110125    合眾建築經理股份有限公司代表人：顏文澤  陳金水   \n",
       "\n",
       "          承造人                     建築地點  總樓地板面積(㎡)  地下層數  地上層數  樓層高度(m)  \\\n",
       "0  晃茂營造股份有限公司  新北市新莊區副都心段一小段0380-0000號   45714.93   5.0    20     86.6   \n",
       "1  祝旺開發股份有限公司      新北市汐止區秀山段1083-0000號   73690.04   3.0     6     18.0   \n",
       "2  禾進營造工程有限公司      新北市五股區登林段0726-0000號   38477.78   5.0    24     84.3   \n",
       "\n",
       "               建物用途  變更次數  \n",
       "0  一般事務所(G2)、店鋪(G3)     3  \n",
       "1           H2-集合住宅     3  \n",
       "2            集合住宅H2     2  "
      ]
     },
     "execution_count": 22,
     "metadata": {},
     "output_type": "execute_result"
    }
   ],
   "source": [
    "df.head(3)"
   ]
  },
  {
   "cell_type": "code",
   "execution_count": null,
   "metadata": {},
   "outputs": [],
   "source": []
  },
  {
   "cell_type": "code",
   "execution_count": null,
   "metadata": {},
   "outputs": [],
   "source": []
  },
  {
   "cell_type": "code",
   "execution_count": null,
   "metadata": {},
   "outputs": [],
   "source": []
  },
  {
   "cell_type": "code",
   "execution_count": 73,
   "metadata": {},
   "outputs": [],
   "source": [
    "from googlesearch import search\n",
    "import requests\n",
    "import time\n",
    "import random\n",
    "from bs4 import BeautifulSoup\n",
    "import re"
   ]
  },
  {
   "cell_type": "code",
   "execution_count": null,
   "metadata": {},
   "outputs": [],
   "source": []
  },
  {
   "cell_type": "code",
   "execution_count": 72,
   "metadata": {},
   "outputs": [],
   "source": [
    "query = \"hoho\""
   ]
  },
  {
   "cell_type": "code",
   "execution_count": 74,
   "metadata": {},
   "outputs": [],
   "source": [
    "def google_api(text, _stop=6, _pause=2.0):\n",
    "    locals()['_{0}list'.format(text)] = []\n",
    "    for j in search(text, stop=_stop, pause=_pause): \n",
    "        locals()['_{0}list'.format(query)].append(j)\n",
    "    return locals()['_{0}list'.format(text)]"
   ]
  },
  {
   "cell_type": "code",
   "execution_count": 71,
   "metadata": {},
   "outputs": [],
   "source": [
    "def google_scrape(Search_list):\n",
    "    title_list=[]\n",
    "    #url='http://www.baidu.com/s?rsv_idx=1&wd='LPL&usm=2&ie=utf-8&sl_lang=en&rsv_srlang=en&rsv_rq=en&rqlang=cn\n",
    "    url='https://www.google.com.tw/search?q='\n",
    "    user_agents = ['Mozilla/5.0 (Windows NT 6.1; WOW64; rv:23.0) Gecko/20130406 Firefox/23.0', \\\n",
    "          'Mozilla/5.0 (Windows NT 6.1; WOW64; rv:18.0) Gecko/20100101 Firefox/18.0', \\\n",
    "          'Mozilla/5.0 (Windows; U; Windows NT 6.1; en-US) AppleWebKit/533+ \\\n",
    "          (KHTML, like Gecko) Element Browser 5.0', \\\n",
    "          'IBM WebExplorer /v0.94', 'Galaxy/1.0 [en] (Mac OS X 10.5.6; U; en)', \\\n",
    "          'Mozilla/5.0 (compatible; MSIE 10.0; Windows NT 6.1; WOW64; Trident/6.0)', \\\n",
    "          'Opera/9.80 (Windows NT 6.0) Presto/2.12.388 Version/12.14', \\\n",
    "          'Mozilla/5.0 (iPad; CPU OS 6_0 like Mac OS X) AppleWebKit/536.26 (KHTML, like Gecko) \\\n",
    "           Version/6.0 Mobile/10A5355d Safari/8536.25', \\\n",
    "          'Mozilla/5.0 (Windows NT 6.1) AppleWebKit/537.36 (KHTML, like Gecko) \\\n",
    "           Chrome/28.0.1468.0 Safari/537.36', \\\n",
    "          'Mozilla/5.0 (compatible; MSIE 9.0; Windows NT 6.0; Trident/5.0; TheWorld)']   \n",
    "    proxies = {\n",
    "      \"http\": \"http://113.200.214.164:9999\"}\n",
    "    index = random.randint(0, 9)\n",
    "    user_agent = user_agents[index]\n",
    "    headers = {'User-Agent': user_agent}\n",
    "    for x in Search_list:\n",
    "        time.sleep(1)\n",
    "        res=requests.get(url = url+x,headers = headers,proxies = proxies)\n",
    "        soup=BeautifulSoup(res.text, \"html.parser\")\n",
    "        search_text=soup.find_all(\"div\", class_=\"g\")\n",
    "        title_list=[result.find(\"a\").text for result in search_text]\n",
    "        print(title_list)\n",
    "# google_scrape(['LOL LMS'])"
   ]
  },
  {
   "cell_type": "code",
   "execution_count": null,
   "metadata": {},
   "outputs": [],
   "source": [
    "css_soup = BeautifulSoup('<p class=\"body strikeout\"></p>', 'html.parser')"
   ]
  },
  {
   "cell_type": "code",
   "execution_count": null,
   "metadata": {},
   "outputs": [],
   "source": []
  },
  {
   "cell_type": "code",
   "execution_count": 150,
   "metadata": {
    "scrolled": false
   },
   "outputs": [],
   "source": [
    "Search_list = [query]\n",
    "\n",
    "title_list=[]\n",
    "regex = re.compile('[a-zA-Z]')\n",
    "url='https://www.google.com.tw/search?q='\n",
    "user_agents = ['Mozilla/5.0 (Windows NT 6.1; WOW64; rv:23.0) Gecko/20130406 Firefox/23.0', \\\n",
    "      'Mozilla/5.0 (Windows NT 6.1; WOW64; rv:18.0) Gecko/20100101 Firefox/18.0', \\\n",
    "      'Mozilla/5.0 (Windows; U; Windows NT 6.1; en-US) AppleWebKit/533+ \\\n",
    "      (KHTML, like Gecko) Element Browser 5.0', \\\n",
    "      'IBM WebExplorer /v0.94', 'Galaxy/1.0 [en] (Mac OS X 10.5.6; U; en)', \\\n",
    "      'Mozilla/5.0 (compatible; MSIE 10.0; Windows NT 6.1; WOW64; Trident/6.0)', \\\n",
    "      'Opera/9.80 (Windows NT 6.0) Presto/2.12.388 Version/12.14', \\\n",
    "      'Mozilla/5.0 (iPad; CPU OS 6_0 like Mac OS X) AppleWebKit/536.26 (KHTML, like Gecko) \\\n",
    "       Version/6.0 Mobile/10A5355d Safari/8536.25', \\\n",
    "      'Mozilla/5.0 (Windows NT 6.1) AppleWebKit/537.36 (KHTML, like Gecko) \\\n",
    "       Chrome/28.0.1468.0 Safari/537.36', \\\n",
    "      'Mozilla/5.0 (compatible; MSIE 9.0; Windows NT 6.0; Trident/5.0; TheWorld)'] \n",
    "proxies = {\n",
    "  \"http\": \"http://113.200.214.164:9999\"\n",
    "}\n",
    "\n",
    "index = random.randint(0, 9)\n",
    "user_agent = user_agents[index]\n",
    "headers = {'User-Agent': user_agent}\n",
    "x = Search_list[0]\n",
    "time.sleep(1)\n",
    "res=requests.get(url = url+x, headers = headers, proxies = proxies)\n",
    "#soup=BeautifulSoup(res.text, \"html.parser\")\n",
    "soup=BeautifulSoup(res.text, \"lxml\")\n",
    "\n",
    "# search_text = soup.select(\"div.g\")\n",
    "\n",
    "# search_text = []\n",
    "# for EachPart in soup.find_all(\"div\", {\"class\" : regex}):\n",
    "#     search_text.append(EachPart.get_text())\n",
    "\n",
    "# title_list=[result.find(\"a\").text for result in search_text]\n",
    "\n",
    "# search_text=soup.find_all(\"div\", class_=\"g\")\n",
    "# title_list=[result.find(\"a\").text for result in search_text]\n",
    "# print(title_list)"
   ]
  },
  {
   "cell_type": "code",
   "execution_count": 83,
   "metadata": {
    "scrolled": false
   },
   "outputs": [
    {
     "ename": "AttributeError",
     "evalue": "'Doctype' object has no attribute 'select'",
     "output_type": "error",
     "traceback": [
      "\u001b[1;31m---------------------------------------------------------------------------\u001b[0m",
      "\u001b[1;31mAttributeError\u001b[0m                            Traceback (most recent call last)",
      "\u001b[1;32m<ipython-input-83-5e88730c41cf>\u001b[0m in \u001b[0;36m<module>\u001b[1;34m\u001b[0m\n\u001b[0;32m      1\u001b[0m \u001b[1;32mfor\u001b[0m \u001b[0mc\u001b[0m \u001b[1;32min\u001b[0m \u001b[0m_contents\u001b[0m\u001b[1;33m:\u001b[0m\u001b[1;33m\u001b[0m\u001b[1;33m\u001b[0m\u001b[0m\n\u001b[1;32m----> 2\u001b[1;33m     \u001b[0mtt\u001b[0m\u001b[1;33m=\u001b[0m \u001b[0mc\u001b[0m\u001b[1;33m.\u001b[0m\u001b[0mselect\u001b[0m\u001b[1;33m(\u001b[0m\u001b[1;34m\"div.g\"\u001b[0m\u001b[1;33m)\u001b[0m\u001b[1;33m\u001b[0m\u001b[1;33m\u001b[0m\u001b[0m\n\u001b[0m\u001b[0;32m      3\u001b[0m     \u001b[0mprint\u001b[0m\u001b[1;33m(\u001b[0m\u001b[0mtt\u001b[0m\u001b[1;33m)\u001b[0m\u001b[1;33m\u001b[0m\u001b[1;33m\u001b[0m\u001b[0m\n",
      "\u001b[1;32mC:\\ProgramData\\Anaconda3\\lib\\site-packages\\bs4\\element.py\u001b[0m in \u001b[0;36m__getattr__\u001b[1;34m(self, attr)\u001b[0m\n\u001b[0;32m    919\u001b[0m             \u001b[1;32mreturn\u001b[0m \u001b[0mself\u001b[0m\u001b[1;33m\u001b[0m\u001b[1;33m\u001b[0m\u001b[0m\n\u001b[0;32m    920\u001b[0m         \u001b[1;32melse\u001b[0m\u001b[1;33m:\u001b[0m\u001b[1;33m\u001b[0m\u001b[1;33m\u001b[0m\u001b[0m\n\u001b[1;32m--> 921\u001b[1;33m             raise AttributeError(\n\u001b[0m\u001b[0;32m    922\u001b[0m                 \"'%s' object has no attribute '%s'\" % (\n\u001b[0;32m    923\u001b[0m                     self.__class__.__name__, attr))\n",
      "\u001b[1;31mAttributeError\u001b[0m: 'Doctype' object has no attribute 'select'"
     ]
    }
   ],
   "source": [
    "for c in _contents:\n",
    "    tt= c.select(\"div.g\")\n",
    "    print(tt)"
   ]
  },
  {
   "cell_type": "code",
   "execution_count": 151,
   "metadata": {},
   "outputs": [],
   "source": [
    "search_text=soup.find_all(\"div\", class_=\"g\")\n",
    "search_text"
   ]
  },
  {
   "cell_type": "code",
   "execution_count": 152,
   "metadata": {},
   "outputs": [
    {
     "data": {
      "text/plain": [
       "[]"
      ]
     },
     "execution_count": 152,
     "metadata": {},
     "output_type": "execute_result"
    }
   ],
   "source": [
    "search_text"
   ]
  },
  {
   "cell_type": "code",
   "execution_count": 153,
   "metadata": {},
   "outputs": [
    {
     "data": {
      "text/plain": [
       "[]"
      ]
     },
     "execution_count": 153,
     "metadata": {},
     "output_type": "execute_result"
    }
   ],
   "source": [
    "search_text = soup.select(\"div.g\")\n",
    "search_text"
   ]
  },
  {
   "cell_type": "code",
   "execution_count": 154,
   "metadata": {
    "scrolled": true
   },
   "outputs": [
    {
     "data": {
      "text/plain": [
       "[]"
      ]
     },
     "execution_count": 154,
     "metadata": {},
     "output_type": "execute_result"
    }
   ],
   "source": [
    "search_text = soup.select(\"body#search\")\n",
    "search_text"
   ]
  },
  {
   "cell_type": "code",
   "execution_count": 102,
   "metadata": {},
   "outputs": [],
   "source": [
    "search_text=soup.find_all(\"div\", attrs={'id':'search'})\n",
    "search_text"
   ]
  },
  {
   "cell_type": "code",
   "execution_count": 70,
   "metadata": {
    "scrolled": true
   },
   "outputs": [
    {
     "ename": "NameError",
     "evalue": "name '_contents' is not defined",
     "output_type": "error",
     "traceback": [
      "\u001b[1;31m---------------------------------------------------------------------------\u001b[0m",
      "\u001b[1;31mNameError\u001b[0m                                 Traceback (most recent call last)",
      "\u001b[1;32m<ipython-input-70-efa84f8b73ac>\u001b[0m in \u001b[0;36m<module>\u001b[1;34m\u001b[0m\n\u001b[1;32m----> 1\u001b[1;33m \u001b[0m_contents\u001b[0m\u001b[1;33m\u001b[0m\u001b[1;33m\u001b[0m\u001b[0m\n\u001b[0m",
      "\u001b[1;31mNameError\u001b[0m: name '_contents' is not defined"
     ]
    }
   ],
   "source": [
    "_contents"
   ]
  },
  {
   "cell_type": "code",
   "execution_count": 155,
   "metadata": {},
   "outputs": [
    {
     "name": "stdout",
     "output_type": "stream",
     "text": [
      "<a href=\"/?sa=X&amp;ved=0ahUKEwi2wqqE-7D1AhVuHKYKHe96DVoQOwgC\"><svg aria-label=\"Google\" fill=\"none\" height=\"36\" stroke=\"#4285f4\" stroke-width=\"18\" viewbox=\"0 0 520 174\" width=\"92\"><path d=\"M69 70.4l61 0m-9 3.5a56 57 0 1 1-17-47\" stroke-width=\"19px\"></path><ellipse cx=\"179\" cy=\"90\" rx=\"33\" ry=\"34\" stroke=\"#ea4335\"></ellipse><ellipse cx=\"270\" cy=\"90\" rx=\"33\" ry=\"34\" stroke=\"#fbbc04\"></ellipse><ellipse cx=\"358\" cy=\"90\" rx=\"32\" ry=\"34\" stroke-width=\"17px\"></ellipse><path d=\"M391 49l0 73l-2 0a 22 22-30 0 1-59 24\"></path><path d=\"M423 5l0 130\" style=\"stroke:#34a853\"></path><path d=\"M509 110a32 35-3 1 1 3-29M517 76l-63 24\" stroke=\"#ea4335\" stroke-width=\"16px\"></path></svg></a>\n"
     ]
    }
   ],
   "source": [
    "for i in soup.select(\"div\")[0]:\n",
    "    print(i)"
   ]
  },
  {
   "cell_type": "code",
   "execution_count": 109,
   "metadata": {
    "scrolled": false
   },
   "outputs": [
    {
     "data": {
      "text/plain": [
       "bs4.element.Tag"
      ]
     },
     "execution_count": 109,
     "metadata": {},
     "output_type": "execute_result"
    }
   ],
   "source": [
    "type(soup.select(\"div\")[0])"
   ]
  },
  {
   "cell_type": "code",
   "execution_count": null,
   "metadata": {},
   "outputs": [],
   "source": [
    "ttt = soup.find_all(\"div\", {\"class\" : \"g\"})"
   ]
  },
  {
   "cell_type": "code",
   "execution_count": null,
   "metadata": {},
   "outputs": [],
   "source": []
  },
  {
   "cell_type": "code",
   "execution_count": 65,
   "metadata": {},
   "outputs": [],
   "source": [
    "# regex =\"g\"\n",
    "regex = re.compile('[a-zA-Z]')"
   ]
  },
  {
   "cell_type": "code",
   "execution_count": 63,
   "metadata": {},
   "outputs": [],
   "source": [
    "search_text = []\n",
    "for EachPart in soup.find_all(\"div\", {\"class\" : regex}):\n",
    "    search_text.append(EachPart.get_text())"
   ]
  },
  {
   "cell_type": "code",
   "execution_count": 58,
   "metadata": {},
   "outputs": [],
   "source": [
    "ttt = soup.find_all(\"div\", {\"class\" : \"g\"})"
   ]
  },
  {
   "cell_type": "code",
   "execution_count": 140,
   "metadata": {},
   "outputs": [
    {
     "data": {
      "text/plain": [
       "[]"
      ]
     },
     "execution_count": 140,
     "metadata": {},
     "output_type": "execute_result"
    }
   ],
   "source": [
    "ttt = soup.find_all(\"div#search\")\n",
    "ttt"
   ]
  },
  {
   "cell_type": "code",
   "execution_count": null,
   "metadata": {},
   "outputs": [],
   "source": [
    "soup = BeautifulSoup('<div class=\"g\"></p>', 'html.parser')"
   ]
  },
  {
   "cell_type": "code",
   "execution_count": 139,
   "metadata": {},
   "outputs": [
    {
     "data": {
      "text/plain": [
       "[]"
      ]
     },
     "execution_count": 139,
     "metadata": {},
     "output_type": "execute_result"
    }
   ],
   "source": [
    "ttt = soup.select(\"div#search\")\n",
    "ttt"
   ]
  },
  {
   "cell_type": "code",
   "execution_count": 126,
   "metadata": {},
   "outputs": [
    {
     "data": {
      "text/plain": [
       "[]"
      ]
     },
     "execution_count": 126,
     "metadata": {},
     "output_type": "execute_result"
    }
   ],
   "source": [
    "ttt = soup.find_all(\"div\", string=re.compile(\"^search\"), )\n",
    "ttt"
   ]
  },
  {
   "cell_type": "code",
   "execution_count": null,
   "metadata": {},
   "outputs": [],
   "source": [
    ", string=re.compile(\"^Link\"))"
   ]
  },
  {
   "cell_type": "code",
   "execution_count": null,
   "metadata": {},
   "outputs": [],
   "source": []
  },
  {
   "cell_type": "code",
   "execution_count": null,
   "metadata": {},
   "outputs": [],
   "source": [
    "(\"div\", {\"class\" : regex})"
   ]
  },
  {
   "cell_type": "code",
   "execution_count": 134,
   "metadata": {},
   "outputs": [
    {
     "data": {
      "text/plain": [
       "183"
      ]
     },
     "execution_count": 134,
     "metadata": {},
     "output_type": "execute_result"
    }
   ],
   "source": [
    "regex = re.compile('[a-zA-Z]')\n",
    "rrr = soup.find_all(\"div\", {\"class\" : regex})\n",
    "len(rrr)"
   ]
  },
  {
   "cell_type": "code",
   "execution_count": 138,
   "metadata": {
    "scrolled": false
   },
   "outputs": [
    {
     "data": {
      "text/plain": [
       "8"
      ]
     },
     "execution_count": 138,
     "metadata": {},
     "output_type": "execute_result"
    }
   ],
   "source": [
    "regex = re.compile(\"^g\")\n",
    "sss = soup.find_all(\"div\", {\"class\" : regex})\n",
    "len(sss)"
   ]
  },
  {
   "cell_type": "code",
   "execution_count": 135,
   "metadata": {},
   "outputs": [
    {
     "data": {
      "text/plain": [
       "[<div class=\"gGQDvd iIWm4b\"><a class=\"Q71vJc\" href=\"/search?q=hoho%E6%9C%8D%E9%A3%BE&amp;sa=X&amp;ved=2ahUKEwjd19e05rD1AhXQ_WEKHTWDCycQ1QJ6BAgGEAI\"><accordion-entry-search-icon><span class=\"ieB2Dd S003Ke ZoN4Lb z1asCe MZy1Rb\" style=\"height:20px;line-height:20px;width:20px\"><svg focusable=\"false\" viewbox=\"0 0 24 24\" xmlns=\"http://www.w3.org/2000/svg\"><path d=\"M15.5 14h-.79l-.28-.27A6.471 6.471 0 0 0 16 9.5 6.5 6.5 0 1 0 9.5 16c1.61 0 3.09-.59 4.23-1.57l.27.28v.79l5 4.99L20.49 19l-4.99-5zm-6 0C7.01 14 5 11.99 5 9.5S7.01 5 9.5 5 14 7.01 14 9.5 11.99 14 9.5 14z\"></path></svg></span></accordion-entry-search-icon><div class=\"kjGX2\"><span><div class=\"BNeawe s3v9rd AP7Wnd lRVwie\">hoho服飾</div></span></div></a></div>,\n",
       " <div class=\"gGQDvd iIWm4b\"><a class=\"Q71vJc\" href=\"/search?q=hoho%E8%A9%95%E5%83%B9&amp;sa=X&amp;ved=2ahUKEwjd19e05rD1AhXQ_WEKHTWDCycQ1QJ6BAgGEAQ\"><accordion-entry-search-icon><span class=\"ieB2Dd S003Ke ZoN4Lb z1asCe MZy1Rb\" style=\"height:20px;line-height:20px;width:20px\"><svg focusable=\"false\" viewbox=\"0 0 24 24\" xmlns=\"http://www.w3.org/2000/svg\"><path d=\"M15.5 14h-.79l-.28-.27A6.471 6.471 0 0 0 16 9.5 6.5 6.5 0 1 0 9.5 16c1.61 0 3.09-.59 4.23-1.57l.27.28v.79l5 4.99L20.49 19l-4.99-5zm-6 0C7.01 14 5 11.99 5 9.5S7.01 5 9.5 5 14 7.01 14 9.5 11.99 14 9.5 14z\"></path></svg></span></accordion-entry-search-icon><div class=\"kjGX2\"><span><div class=\"BNeawe s3v9rd AP7Wnd lRVwie\">hoho評價</div></span></div></a></div>,\n",
       " <div class=\"gGQDvd iIWm4b\"><a class=\"Q71vJc\" href=\"/search?q=hoho%E6%98%AF%E8%AA%B0&amp;sa=X&amp;ved=2ahUKEwjd19e05rD1AhXQ_WEKHTWDCycQ1QJ6BAgGEAY\"><accordion-entry-search-icon><span class=\"ieB2Dd S003Ke ZoN4Lb z1asCe MZy1Rb\" style=\"height:20px;line-height:20px;width:20px\"><svg focusable=\"false\" viewbox=\"0 0 24 24\" xmlns=\"http://www.w3.org/2000/svg\"><path d=\"M15.5 14h-.79l-.28-.27A6.471 6.471 0 0 0 16 9.5 6.5 6.5 0 1 0 9.5 16c1.61 0 3.09-.59 4.23-1.57l.27.28v.79l5 4.99L20.49 19l-4.99-5zm-6 0C7.01 14 5 11.99 5 9.5S7.01 5 9.5 5 14 7.01 14 9.5 11.99 14 9.5 14z\"></path></svg></span></accordion-entry-search-icon><div class=\"kjGX2\"><span><div class=\"BNeawe s3v9rd AP7Wnd lRVwie\">hoho是誰</div></span></div></a></div>,\n",
       " <div class=\"gGQDvd iIWm4b\"><a class=\"Q71vJc\" href=\"/search?q=hoho%E6%B8%85%E6%BD%94%E8%A9%95%E5%83%B9&amp;sa=X&amp;ved=2ahUKEwjd19e05rD1AhXQ_WEKHTWDCycQ1QJ6BAgGEAg\"><accordion-entry-search-icon><span class=\"ieB2Dd S003Ke ZoN4Lb z1asCe MZy1Rb\" style=\"height:20px;line-height:20px;width:20px\"><svg focusable=\"false\" viewbox=\"0 0 24 24\" xmlns=\"http://www.w3.org/2000/svg\"><path d=\"M15.5 14h-.79l-.28-.27A6.471 6.471 0 0 0 16 9.5 6.5 6.5 0 1 0 9.5 16c1.61 0 3.09-.59 4.23-1.57l.27.28v.79l5 4.99L20.49 19l-4.99-5zm-6 0C7.01 14 5 11.99 5 9.5S7.01 5 9.5 5 14 7.01 14 9.5 11.99 14 9.5 14z\"></path></svg></span></accordion-entry-search-icon><div class=\"kjGX2\"><span><div class=\"BNeawe s3v9rd AP7Wnd lRVwie\">hoho清潔評價</div></span></div></a></div>,\n",
       " <div class=\"gGQDvd iIWm4b\"><a class=\"Q71vJc\" href=\"/search?q=hoho%E6%B4%97%E5%86%B7%E6%B0%A3&amp;sa=X&amp;ved=2ahUKEwjd19e05rD1AhXQ_WEKHTWDCycQ1QJ6BAgGEAo\"><accordion-entry-search-icon><span class=\"ieB2Dd S003Ke ZoN4Lb z1asCe MZy1Rb\" style=\"height:20px;line-height:20px;width:20px\"><svg focusable=\"false\" viewbox=\"0 0 24 24\" xmlns=\"http://www.w3.org/2000/svg\"><path d=\"M15.5 14h-.79l-.28-.27A6.471 6.471 0 0 0 16 9.5 6.5 6.5 0 1 0 9.5 16c1.61 0 3.09-.59 4.23-1.57l.27.28v.79l5 4.99L20.49 19l-4.99-5zm-6 0C7.01 14 5 11.99 5 9.5S7.01 5 9.5 5 14 7.01 14 9.5 11.99 14 9.5 14z\"></path></svg></span></accordion-entry-search-icon><div class=\"kjGX2\"><span><div class=\"BNeawe s3v9rd AP7Wnd lRVwie\">hoho洗冷氣</div></span></div></a></div>,\n",
       " <div class=\"gGQDvd iIWm4b\"><a class=\"Q71vJc\" href=\"/search?q=hoho%E8%A9%95%E5%83%B9ptt&amp;sa=X&amp;ved=2ahUKEwjd19e05rD1AhXQ_WEKHTWDCycQ1QJ6BAgGEAw\"><accordion-entry-search-icon><span class=\"ieB2Dd S003Ke ZoN4Lb z1asCe MZy1Rb\" style=\"height:20px;line-height:20px;width:20px\"><svg focusable=\"false\" viewbox=\"0 0 24 24\" xmlns=\"http://www.w3.org/2000/svg\"><path d=\"M15.5 14h-.79l-.28-.27A6.471 6.471 0 0 0 16 9.5 6.5 6.5 0 1 0 9.5 16c1.61 0 3.09-.59 4.23-1.57l.27.28v.79l5 4.99L20.49 19l-4.99-5zm-6 0C7.01 14 5 11.99 5 9.5S7.01 5 9.5 5 14 7.01 14 9.5 11.99 14 9.5 14z\"></path></svg></span></accordion-entry-search-icon><div class=\"kjGX2\"><span><div class=\"BNeawe s3v9rd AP7Wnd lRVwie\">hoho評價ptt</div></span></div></a></div>,\n",
       " <div class=\"gGQDvd iIWm4b\"><a class=\"Q71vJc\" href=\"/search?q=hoho%E5%8D%A1&amp;sa=X&amp;ved=2ahUKEwjd19e05rD1AhXQ_WEKHTWDCycQ1QJ6BAgGEA4\"><accordion-entry-search-icon><span class=\"ieB2Dd S003Ke ZoN4Lb z1asCe MZy1Rb\" style=\"height:20px;line-height:20px;width:20px\"><svg focusable=\"false\" viewbox=\"0 0 24 24\" xmlns=\"http://www.w3.org/2000/svg\"><path d=\"M15.5 14h-.79l-.28-.27A6.471 6.471 0 0 0 16 9.5 6.5 6.5 0 1 0 9.5 16c1.61 0 3.09-.59 4.23-1.57l.27.28v.79l5 4.99L20.49 19l-4.99-5zm-6 0C7.01 14 5 11.99 5 9.5S7.01 5 9.5 5 14 7.01 14 9.5 11.99 14 9.5 14z\"></path></svg></span></accordion-entry-search-icon><div class=\"kjGX2\"><span><div class=\"BNeawe s3v9rd AP7Wnd lRVwie\">hoho卡</div></span></div></a></div>,\n",
       " <div class=\"gGQDvd iIWm4b\"><a class=\"Q71vJc\" href=\"/search?q=hoho%E6%B0%B4%E6%99%B6%E8%A9%95%E5%83%B9&amp;sa=X&amp;ved=2ahUKEwjd19e05rD1AhXQ_WEKHTWDCycQ1QJ6BAgGEBA\"><accordion-entry-search-icon><span class=\"ieB2Dd S003Ke ZoN4Lb z1asCe MZy1Rb\" style=\"height:20px;line-height:20px;width:20px\"><svg focusable=\"false\" viewbox=\"0 0 24 24\" xmlns=\"http://www.w3.org/2000/svg\"><path d=\"M15.5 14h-.79l-.28-.27A6.471 6.471 0 0 0 16 9.5 6.5 6.5 0 1 0 9.5 16c1.61 0 3.09-.59 4.23-1.57l.27.28v.79l5 4.99L20.49 19l-4.99-5zm-6 0C7.01 14 5 11.99 5 9.5S7.01 5 9.5 5 14 7.01 14 9.5 11.99 14 9.5 14z\"></path></svg></span></accordion-entry-search-icon><div class=\"kjGX2\"><span><div class=\"BNeawe s3v9rd AP7Wnd lRVwie\">hoho水晶評價</div></span></div></a></div>]"
      ]
     },
     "execution_count": 135,
     "metadata": {},
     "output_type": "execute_result"
    }
   ],
   "source": [
    "sss"
   ]
  },
  {
   "cell_type": "code",
   "execution_count": 129,
   "metadata": {},
   "outputs": [
    {
     "data": {
      "text/plain": [
       "[]"
      ]
     },
     "execution_count": 129,
     "metadata": {},
     "output_type": "execute_result"
    }
   ],
   "source": [
    "sss = soup.find_all(\"div\",_=re.compile(\"^search\"))\n",
    "sss"
   ]
  },
  {
   "cell_type": "code",
   "execution_count": 122,
   "metadata": {},
   "outputs": [
    {
     "data": {
      "text/plain": [
       "[<body jsmodel=\"hspDDf\"><header id=\"hdr\"><script nonce=\"fX2y+hV59VRMdplkU9rEVA==\">(function(){\n",
       " var k=this||self,l=function(){},m=function(a){var b=typeof a;return\"object\"==b&&null!=a||\"function\"==b},n=function(a,b){function c(){}c.prototype=b.prototype;a.j=b.prototype;a.prototype=new c;a.prototype.constructor=a;a.l=function(d,e,f){for(var g=Array(arguments.length-2),h=2;h<arguments.length;h++)g[h-2]=arguments[h];return b.prototype[e].apply(d,g)}};var p=Array.prototype.indexOf?function(a,b){return Array.prototype.indexOf.call(a,b,void 0)}:function(a,b){if(\"string\"===typeof a)return\"string\"!==typeof b||1!=b.length?-1:a.indexOf(b,0);for(var c=0;c<a.length;c++)if(c in a&&a[c]===b)return c;return-1};var q=function(a){return\"string\"==typeof a.className?a.className:a.getAttribute&&a.getAttribute(\"class\")||\"\"},r=function(a,b){\"string\"==typeof a.className?a.className=b:a.setAttribute&&a.setAttribute(\"class\",b)},t=function(a,b){a.classList?b=a.classList.contains(b):(a=a.classList?a.classList:q(a).match(/\\S+/g)||[],b=0<=p(a,b));return b},w=function(){var a=u,b=v;a.classList?a.classList.remove(b):t(a,b)&&r(a,Array.prototype.filter.call(a.classList?a.classList:q(a).match(/\\S+/g)||[],function(c){return c!=\n",
       " b}).join(\" \"))};function x(){var a=k.navigator;return a&&(a=a.userAgent)?a:\"\"};var y=function(a){y[\" \"](a);return a};y[\" \"]=l;var z=-1!=x().indexOf(\"Gecko\")&&!(-1!=x().toLowerCase().indexOf(\"webkit\")&&-1==x().indexOf(\"Edge\"))&&!(-1!=x().indexOf(\"Trident\")||-1!=x().indexOf(\"MSIE\"))&&-1==x().indexOf(\"Edge\");var A=function(a,b){this.type=a;this.target=b};A.prototype.g=function(){};var B=function(){if(!k.addEventListener||!Object.defineProperty)return!1;var a=!1,b=Object.defineProperty({},\"passive\",{get:function(){a=!0}});try{k.addEventListener(\"test\",l,b),k.removeEventListener(\"test\",l,b)}catch(c){}return a}();var D=function(a){A.call(this,a?a.type:\"\");this.relatedTarget=this.target=null;this.button=this.screenY=this.screenX=this.clientY=this.clientX=0;this.key=\"\";this.keyCode=0;this.metaKey=this.shiftKey=this.altKey=this.ctrlKey=!1;this.state=null;this.pointerId=0;this.pointerType=\"\";this.h=null;if(a){var b=this.type=a.type,c=a.changedTouches&&a.changedTouches.length?a.changedTouches[0]:null;this.target=a.target||a.srcElement;var d=a.relatedTarget;if(d){if(z){a:{try{y(d.nodeName);var e=!0;break a}catch(f){}e=\n",
       " !1}e||(d=null)}}else\"mouseover\"==b?d=a.fromElement:\"mouseout\"==b&&(d=a.toElement);this.relatedTarget=d;c?(this.clientX=void 0!==c.clientX?c.clientX:c.pageX,this.clientY=void 0!==c.clientY?c.clientY:c.pageY,this.screenX=c.screenX||0,this.screenY=c.screenY||0):(this.clientX=void 0!==a.clientX?a.clientX:a.pageX,this.clientY=void 0!==a.clientY?a.clientY:a.pageY,this.screenX=a.screenX||0,this.screenY=a.screenY||0);this.button=a.button;this.keyCode=a.keyCode||0;this.key=a.key||\"\";this.ctrlKey=a.ctrlKey;this.altKey=a.altKey;this.shiftKey=a.shiftKey;this.metaKey=a.metaKey;this.pointerId=a.pointerId||0;this.pointerType=\"string\"===typeof a.pointerType?a.pointerType:C[a.pointerType]||\"\";this.state=a.state;this.h=a;a.defaultPrevented&&D.j.g.call(this)}};n(D,A);var C={2:\"touch\",3:\"pen\",4:\"mouse\"};D.prototype.g=function(){D.j.g.call(this);var a=this.h;a.preventDefault?a.preventDefault():a.returnValue=!1};var E=\"closure_listenable_\"+(1E6*Math.random()|0);var F=0;var G=function(a,b,c,d,e){this.listener=a;this.proxy=null;this.src=b;this.type=c;this.capture=!!d;this.h=e;this.key=++F;this.g=this.i=!1},H=function(a){a.g=!0;a.listener=null;a.proxy=null;a.src=null;a.h=null};var I=function(a){this.src=a;this.g={};this.h=0};I.prototype.add=function(a,b,c,d,e){var f=a.toString();a=this.g[f];a||(a=this.g[f]=[],this.h++);var g;a:{for(g=0;g<a.length;++g){var h=a[g];if(!h.g&&h.listener==b&&h.capture==!!d&&h.h==e)break a}g=-1}-1<g?(b=a[g],c||(b.i=!1)):(b=new G(b,this.src,f,!!d,e),b.i=c,a.push(b));return b};var J=\"closure_lm_\"+(1E6*Math.random()|0),K={},L=0,N=function(a,b,c,d,e){if(d&&d.once)return M(a,b,c,d,e);if(Array.isArray(b)){for(var f=0;f<b.length;f++)N(a,b[f],c,d,e);return null}c=O(c);return a&&a[E]?a.g(b,c,m(d)?!!d.capture:!!d,e):P(a,b,c,!1,d,e)},P=function(a,b,c,d,e,f){if(!b)throw Error(\"a\");var g=m(e)?!!e.capture:!!e,h=Q(a);h||(a[J]=h=new I(a));c=h.add(b,c,d,g,f);if(c.proxy)return c;d=R();c.proxy=d;d.src=a;d.listener=c;if(a.addEventListener)B||(e=g),void 0===e&&(e=!1),a.addEventListener(b.toString(),d,e);else if(a.attachEvent)a.attachEvent(S(b.toString()),d);else if(a.addListener&&a.removeListener)a.addListener(d);else throw Error(\"b\");L++;return c},R=function(){var a=T,b=function(c){return a.call(b.src,b.listener,c)};return b},M=function(a,b,c,d,e){if(Array.isArray(b)){for(var f=0;f<b.length;f++)M(a,b[f],c,d,e);return null}c=O(c);return a&&a[E]?a.h(b,c,m(d)?!!d.capture:!!d,e):P(a,b,c,!0,d,e)},U=function(a){if(\"number\"!==typeof a&&a&&!a.g){var b=a.src;if(b&&b[E])b.o(a);else{var c=a.type,d=a.proxy;b.removeEventListener?b.removeEventListener(c,d,a.capture):b.detachEvent?b.detachEvent(S(c),d):b.addListener&&b.removeListener&&b.removeListener(d);L--;if(c=Q(b)){d=a.type;if(d in c.g){var e=c.g[d],f=p(e,a),g;(g=0<=f)&&Array.prototype.splice.call(e,f,1);g&&(H(a),0==c.g[d].length&&(delete c.g[d],c.h--))}0==c.h&&(c.src=null,b[J]=null)}else H(a)}}},S=function(a){return a in K?K[a]:K[a]=\"on\"+a},T=function(a,b){if(a.g)a=!0;else{b=new D(b,this);var c=a.listener,d=a.h||a.src;a.i&&U(a);a=c.call(d,b)}return a},Q=function(a){a=a[J];return a instanceof I?a:null},V=\"__closure_events_fn_\"+(1E9*Math.random()>>>0),O=function(a){if(\"function\"===typeof a)return a;a[V]||(a[V]=function(b){return a.handleEvent(b)});return a[V]};var v,u=document.documentElement,W;function X(){U(W);W=M(u,\"mousedown\",function(){w();Y()},{capture:!0})}function Y(){U(W);W=N(u,\"keydown\",function(a){if(9===a.keyCode){a=u;var b=v;if(a.classList)a.classList.add(b);else if(!t(a,b)){var c=q(a);r(a,c+(0<c.length?\" \"+b:b))}X()}})};v=\"zAoYTe\";Y();}).call(this);(function(){var c=500;(function(){\n",
       " window.screen&&window.screen.width<=c&&window.screen.height<=c&&document.getElementById(\"hdr\").classList.add(\"sml\");}).call(this);})();</script><div class=\"cOl4Id\"><a href=\"/?sa=X&amp;ved=0ahUKEwjd19e05rD1AhXQ_WEKHTWDCycQOwgC\"><svg aria-label=\"Google\" fill=\"none\" height=\"36\" stroke=\"#4285f4\" stroke-width=\"18\" viewbox=\"0 0 520 174\" width=\"92\"><path d=\"M69 70.4l61 0m-9 3.5a56 57 0 1 1-17-47\" stroke-width=\"19px\"></path><ellipse cx=\"179\" cy=\"90\" rx=\"33\" ry=\"34\" stroke=\"#ea4335\"></ellipse><ellipse cx=\"270\" cy=\"90\" rx=\"33\" ry=\"34\" stroke=\"#fbbc04\"></ellipse><ellipse cx=\"358\" cy=\"90\" rx=\"32\" ry=\"34\" stroke-width=\"17px\"></ellipse><path d=\"M391 49l0 73l-2 0a 22 22-30 0 1-59 24\"></path><path d=\"M423 5l0 130\" style=\"stroke:#34a853\"></path><path d=\"M509 110a32 35-3 1 1 3-29M517 76l-63 24\" stroke=\"#ea4335\" stroke-width=\"16px\"></path></svg></a></div><div class=\"bz1lBb\"><form class=\"Pg70bf\" id=\"sf\"><a class=\"l\" href=\"/?output=search&amp;sa=X&amp;ved=0ahUKEwjd19e05rD1AhXQ_WEKHTWDCycQPAgE\"><svg aria-label=\"Google\" fill=\"none\" height=\"22\" stroke=\"#4285f4\" stroke-width=\"18\" viewbox=\"0 0 520 174\" width=\"66\"><ellipse cx=\"179\" cy=\"90\" rx=\"33\" ry=\"34\" stroke=\"#ea4335\"></ellipse><ellipse cx=\"270\" cy=\"90\" rx=\"33\" ry=\"34\" stroke=\"#fbbc04\"></ellipse><ellipse cx=\"359\" cy=\"90\" rx=\"31\" ry=\"34\"></ellipse><path d=\"M69 70l61 0m-9 4a56 57 0 1 1-17-47M391 49l0 72l-2 0a 16 17 24 0 1-58 24\"></path><path d=\"M423 5l0 130\" stroke=\"#34a853\"></path><path d=\"M509 110a32 35-3 1 1 3-29M517 76l-63 24\" stroke=\"#ea4335\"></path></svg></a><div class=\"H0PQec\"><div class=\"sbc esbc\"><input autocapitalize=\"none\" autocomplete=\"off\" class=\"noHIxc\" name=\"q\" spellcheck=\"false\" type=\"text\" value=\"hoho\"/><input name=\"oq\" type=\"hidden\"/><input name=\"aqs\" type=\"hidden\"/><div class=\"sc\"></div></div></div><button id=\"qdClwb\" type=\"submit\"></button></form></div><noscript><meta content=\"0;url=/search?q=hoho&amp;gbv=1&amp;sei=CjHhYd2qPND7hwO1hq64Ag\" http-equiv=\"refresh\"/><style>table,div,span,p{display:none}</style><div style=\"display:block\">如果系統沒有在數秒鐘後將您重新導向，請按一下<a href=\"/search?q=hoho&amp;gbv=1&amp;sei=CjHhYd2qPND7hwO1hq64Ag\">這裡</a>。</div></noscript></header><div id=\"main\"><div><div class=\"KP7LCb\"> <div class=\"bRsWnc\"> <div class=\"N6RWV\"> <div class=\"Pg70bf Uv67qb\"> <span class=\"OXXup\">全部</span><a class=\"eZt8xd\" href=\"/search?q=hoho&amp;source=lnms&amp;tbm=vid&amp;sa=X&amp;ved=0ahUKEwjd19e05rD1AhXQ_WEKHTWDCycQ_AUICCgB\">影片</a><a class=\"eZt8xd\" href=\"/search?q=hoho&amp;source=lnms&amp;tbm=isch&amp;sa=X&amp;ved=0ahUKEwjd19e05rD1AhXQ_WEKHTWDCycQ_AUICSgC\">圖片</a><a class=\"eZt8xd\" href=\"/search?q=hoho&amp;source=lnms&amp;tbm=nws&amp;sa=X&amp;ved=0ahUKEwjd19e05rD1AhXQ_WEKHTWDCycQ_AUICigD\">新聞</a> <a href=\"https://maps.google.com.tw/maps?q=hoho&amp;um=1&amp;ie=UTF-8&amp;sa=X&amp;ved=0ahUKEwjd19e05rD1AhXQ_WEKHTWDCycQ_AUICygE\">地圖</a> <a href=\"/search?q=hoho&amp;source=lnms&amp;tbm=shop&amp;sa=X&amp;ved=0ahUKEwjd19e05rD1AhXQ_WEKHTWDCycQ_AUIDCgF\">購物</a> <a href=\"/search?q=hoho&amp;source=lnms&amp;tbm=bks&amp;sa=X&amp;ved=0ahUKEwjd19e05rD1AhXQ_WEKHTWDCycQ_AUIDSgG\">書籍</a> <div class=\"FElbsf\"><a href=\"/advanced_search\" id=\"st-toggle\" role=\"button\" style=\"white-space:nowrap\">搜尋工具</a></div> </div> </div> </div> </div><div class=\"Pg70bf wEsjbd ZINbbc xpd O9g5cc uUPGi\" id=\"st-card\" style=\"display:none\"><style>.wEsjbd{background-color:#fff;height:44px;white-space:nowrap}.coPU8c{height:60px;-o-overflow-scrolling:touch;overflow-x:auto;overflow-y:hidden}.Xj2aue{height:44px;overflow:hidden}.RnNGze{margin:11px 16px}.wEsjbd div,.wEsjbd a,.wEsjbd li{outline-width:0;outline:none}</style><div class=\"Xj2aue\"><div class=\"coPU8c\"><div class=\"RnNGze\"><style>.PA9J5{display:inline-block}.RXaOfd{display:inline-block;height:22px;position:relative;padding-top:0;padding-bottom:0;padding-right:16px;padding-left:0;line-height:22px;cursor:pointer;text-transform:uppercase;font-size:12px;color:#70757a}.sa1toc{display:none;position:absolute;background:#fff;border:1px solid #d6d6d6;box-shadow:0 2px 4px rgba(0,0,0,0.3);margin:0;white-space:nowrap;z-index:103;line-height:17px;padding-top:5px;padding-bottom:5px;padding-left:0}.PA9J5:hover .sa1toc{display:block}.mGSy8d a:active,.RXaOfd:active{color:#4285f4}</style><div class=\"PA9J5\"><div class=\"RXaOfd\" role=\"button\" tabindex=\"0\"><style>.TWMOUc{display:inline-block;padding-right:14px;white-space:nowrap}.vQYuGf{font-weight:bold}.OmTIzf{border-color:#909090 transparent;border-style:solid;border-width:4px 4px 0 4px;width:0;height:0;margin-left:-10px;top:50%;margin-top:-2px;position:absolute}.RXaOfd:active .OmTIzf{border-color:#4285f4 transparent}</style><div class=\"TWMOUc\">不限國家/地區</div><span class=\"OmTIzf\"></span></div><ul class=\"sa1toc ozatM\"><style>.ozatM{font-size:12px;text-transform:uppercase}.ozatM .yNFsl,.ozatM li{list-style-type:none;list-style-position:outside;list-style-image:none}.yNFsl.SkUj4c,.yNFsl a{color:rgba(0,0,0,0.54);text-decoration:none;padding:6px 44px 6px 14px;line-height:17px;display:block}.SkUj4c{background-image:url(//ssl.gstatic.com/ui/v1/menu/checkmark2.png);background-position:right center;background-repeat:no-repeat}.SkUj4c:active{background-color:#f8f9fa}</style><li class=\"yNFsl SkUj4c\">不限國家/地區</li><li class=\"yNFsl\"><a href=\"/search?q=hoho&amp;source=lnt&amp;tbs=ctr:countryTW&amp;cr=countryTW&amp;sa=X&amp;ved=0ahUKEwjd19e05rD1AhXQ_WEKHTWDCycQpwUIDw\">國家/地區：台灣</a></li></ul></div><div class=\"PA9J5\"><div class=\"RXaOfd\" role=\"button\" tabindex=\"0\"><div class=\"TWMOUc\">不限語言</div><span class=\"OmTIzf\"></span></div><ul class=\"sa1toc ozatM\"><li class=\"yNFsl SkUj4c\">不限語言</li><li class=\"yNFsl\"><a href=\"/search?q=hoho&amp;source=lnt&amp;tbs=lr:lang_1zh-CN%7Clang_1zh-TW&amp;lr=lang_zh-CN%7Clang_zh-TW&amp;sa=X&amp;ved=0ahUKEwjd19e05rD1AhXQ_WEKHTWDCycQpwUIEQ\">所有中文網頁</a></li><li class=\"yNFsl\"><a href=\"/search?q=hoho&amp;source=lnt&amp;tbs=lr:lang_1zh-TW&amp;lr=lang_zh-TW&amp;sa=X&amp;ved=0ahUKEwjd19e05rD1AhXQ_WEKHTWDCycQpwUIEg\">繁體中文網頁</a></li></ul></div><div class=\"PA9J5\"><div class=\"RXaOfd\" role=\"button\" tabindex=\"0\"><div class=\"TWMOUc\">不限時間</div><span class=\"OmTIzf\"></span></div><ul class=\"sa1toc ozatM\"><li class=\"yNFsl SkUj4c\">不限時間</li><li class=\"yNFsl\"><a href=\"/search?q=hoho&amp;source=lnt&amp;tbs=qdr:h&amp;sa=X&amp;ved=0ahUKEwjd19e05rD1AhXQ_WEKHTWDCycQpwUIFA\"> 過去 1 小時</a></li><li class=\"yNFsl\"><a href=\"/search?q=hoho&amp;source=lnt&amp;tbs=qdr:d&amp;sa=X&amp;ved=0ahUKEwjd19e05rD1AhXQ_WEKHTWDCycQpwUIFQ\"> 過去 24 小時</a></li><li class=\"yNFsl\"><a href=\"/search?q=hoho&amp;source=lnt&amp;tbs=qdr:w&amp;sa=X&amp;ved=0ahUKEwjd19e05rD1AhXQ_WEKHTWDCycQpwUIFg\"> 過去 1 週</a></li><li class=\"yNFsl\"><a href=\"/search?q=hoho&amp;source=lnt&amp;tbs=qdr:m&amp;sa=X&amp;ved=0ahUKEwjd19e05rD1AhXQ_WEKHTWDCycQpwUIFw\"> 過去 1 個月</a></li><li class=\"yNFsl\"><a href=\"/search?q=hoho&amp;source=lnt&amp;tbs=qdr:y&amp;sa=X&amp;ved=0ahUKEwjd19e05rD1AhXQ_WEKHTWDCycQpwUIGA\"> 過去 1 年</a></li></ul></div><div class=\"PA9J5\"><div class=\"RXaOfd\" role=\"button\" tabindex=\"0\"><div class=\"TWMOUc\">所有結果</div><span class=\"OmTIzf\"></span></div><ul class=\"sa1toc ozatM\"><li class=\"yNFsl SkUj4c\">所有結果</li><li class=\"yNFsl\"><a href=\"/search?q=hoho&amp;source=lnt&amp;tbs=li:1&amp;sa=X&amp;ved=0ahUKEwjd19e05rD1AhXQ_WEKHTWDCycQpwUIGg\">一字不差</a></li></ul></div></div></div></div><script nonce=\"fX2y+hV59VRMdplkU9rEVA==\">(function(){\n",
       " var a=document.getElementById(\"st-toggle\"),b=document.getElementById(\"st-card\");a&&b&&a.addEventListener(\"click\",function(c){b.style.display=b.style.display?\"\":\"none\";c.preventDefault()},!1);}).call(this);</script></div></div><style>.ZINbbc{background-color:#fff;margin-bottom:10px;box-shadow:0 1px 6px rgba(32,33,36,0.28);border-radius:8px}.uUPGi{font-size:14px;line-height:20px;}.O9g5cc>*:first-child{border-top-left-radius:8px;border-top-right-radius:8px}.O9g5cc>*:last-child{border-bottom-left-radius:8px;border-bottom-right-radius:8px}.O9g5cc>.qxDOhb>*:first-child{border-top-left-radius:8px;border-top-right-radius:8px}.O9g5cc>.qxDOhb>*:last-child{border-bottom-left-radius:8px;border-bottom-right-radius:8px}.rLshyf,.BmP5tf{padding-top:12px;padding-bottom:12px}.YOx3Ab{padding-left:16px;}.w1C3Le,.BmP5tf,.G5NbBd,.CS4w5b{padding-left:16px;padding-right:16px;}.G5NbBd{padding-bottom:12px}.CS4w5b{padding-top:12px}.dJMePd,.Qc4Zr{display:flex}.Qc4Zr{align-items:center}.T4Yo{justify-content:space-between}.v5yQqb{position:relative}a.fdYsqf{color:#4b11a8}.v0rrvd{padding-bottom:16px}.cz3goc{display:block}.F7oSbc{padding-top:16px}.a7DO2d{padding-top:16px;margin-top:-32px}.OSrXXb{text-overflow:ellipsis;overflow:hidden}.QkcpZ{padding-right:20px}.ynAwRc{color:#1558d6}a:visited .ynAwRc,a:visited.ynAwRc{color:#4b11a8}.q8U8x{font-family:Google Sans,Roboto,Helvetica Neue,Arial,sans-serif;font-weight:400}.lUn2nc{padding-right:12px}.MBeuO{font-family:Roboto,Helvetica Neue,Arial,sans-serif;font-size:18px;line-height:24px}.MUxGbd{font-size:14px;font-family:Roboto,Helvetica Neue,Arial,sans-serif;line-height:20px;padding-top:1px;margin-bottom:-1px}.MUxGbd.v0nnCb{font-size:16px;line-height:20px;padding-top:1px;margin-bottom:-1px}.aLF0Z{white-space:nowrap}.UPajGf{-webkit-box-orient:vertical;display:-webkit-box;-webkit-line-clamp:1;overflow:hidden;white-space:normal}.d8lRkd{}.d8lRkd{white-space:nowrap}.lyLwlc{color:#202124}.CnP9N{margin-right:8px}.VqFMTc{background-color:#fff;color:#006621;display:inline-block;font-family:inherit;font-size:11px;margin-left:0px;white-space:nowrap}.NceN9e{border-radius:3px;border:1px solid #006621;padding:1px 3px 0 2px;line-height:11px;margin-right:7px;}.p8AiDd{padding:0;margin-right:0}.qzEoUe{color:#006621;white-space:-o-nowrap}.ApHyTb{font-family:Roboto,Helvetica Neue,Arial,sans-serif;font-size:12px;line-height:16px}.r7TaRd{padding-left:8px}.wuQ4Ob{color:#70757a}.WZ8Tjf{color:#70757a}.WZ8Tjf a:visited{color:#acacac}.fUamLb{white-space:nowrap}hr{border:0;border-bottom:1px solid #dfe1e5;margin:0}.BUybKe,.HsnFBf{margin-left:16px}.BUybKe,.oM2GA{margin-right:16px}.XO7rhc{margin-right:-16px;margin-left:-16px}.ZM7ZNb{margin-right:-16px}.HbX59e{margin-left:0px}.r2fjmd{margin-bottom:0px;margin-top:0px}.oru2pc{clear:both}.c7YKNb{overflow:auto}div.E8hWLe{padding-top:4px;padding-bottom:12px}.E8hWLe.Fc5wFe{padding-bottom:0}.lndKif{margin-top:-8px}.nEWj3b{display:inline-block;padding:8px 0}.NIGJ4d{display:inline-block;padding:8px 0 8px 26px}.SVMeif .nEWj3b.IwtZVc{align-items:center;display:flex;justify-content:space-between}.nRbjc{background-color:rgba(0,0,0,0.03);border-radius:8px 8px 8px 8px;display:flex;flex-direction:column;height:40px;justify-content:center;margin:-8px 0 -6px 10px;overflow:hidden}.nRbjc g-img{align-items:center;background-color:#fff;display:flex;justify-content:center;overflow:hidden}.tNxQIb{font-family:Roboto,Helvetica Neue,Arial,sans-serif;font-size:16px;line-height:20px}.nGphre{float:right;padding-left:16px}.UykT9d{border-radius:8px;display:block}.nYT7Qb{clear:both}.kCrYT{padding:12px 16px 12px}.RJI4s{vertical-align:middle}.l97dzf{font-weight:400}.zBAuLc{line-height:normal;margin:0;padding:0}.BNeawe{white-space:pre-line;word-wrap:break-word}.deIvCb{font-size:16px;line-height:20px;font-weight:400}.deIvCb.HrGdeb{color:#fff}.deIvCb.AP7Wnd{color:#202124}.tAd8D{font-size:14px;line-height:20px}.tAd8D.HrGdeb{color:rgba(255,255,255,.70)}.tAd8D.AP7Wnd{color:#70757a}.xUrNXd.VyZZLb{color:rgba(255,255,255,.70)}.xUrNXd.UMOHqf{color:#70757a}.tP9Zud{display:inline-block;}.QzarWc{color:#3c4043}.oqSTJd{color:#70757a}.Hk2yDb,.Hk2yDb span{width:65px;height:15px;display:inline-block;background:repeat-x 0 0;background-size:13px 15px;font-size:0;line-height:0}.Hk2yDb.KsR1A{background-image:url(\"data:image/svg+xml,\\00003csvg width='13px' height='15px' xmlns='http://www.w3.org/2000/svg'>\\00003cpath fill='%23d1d1d1' d='m0,7.6l4.7,0,1.5-4.5,1.5,4.5,4.7,0-3.8,2.8,1.5,4.5-3.8-2.8-3.8,2.8,1.5-4.5'/>\\00003c/svg>\")}.Hk2yDb.KsR1A span{background-image:url(\"data:image/svg+xml,\\00003csvg width='13px' height='15px' xmlns='http://www.w3.org/2000/svg'>\\00003cpath fill='%23fabb05' d='m0,7.6l4.7,0,1.5-4.5,1.5,4.5,4.7,0-3.8,2.8,1.5,4.5-3.8-2.8-3.8,2.8,1.5-4.5'/>\\00003c/svg>\")}.AraNOb{text-decoration:underline}.skVgpb{display:table;table-layout:fixed;width:100%}.VGHMXd{display:table-cell;vertical-align:middle;height:52px;text-align:center}.LpaDrb{margin:0 auto 8px;display:block}.vbShOe{padding-top:0}.x54gtf{height:1px;background-color:#dfe1e5;margin:0 16px}.Q0HXG{height:1px;background-color:#dfe1e5}.h1hFNe{display:inline-block;position:relative}.Iaa5if{overflow:hidden;position:relative}.l7d08{align-items:center;display:flex;flex-direction:column;justify-content:space-around}.ji5jpf{text-align:center}.uEec3{font-size:12px;line-height:16px}.uEec3.HrGdeb{color:rgba(255,255,255,.70)}.uEec3.AP7Wnd{color:#70757a}.AVsepf{padding-bottom:8px}.AVsepf.u2x1Od{padding-bottom:0}.s3v9rd{font-size:14px;line-height:20px}.s3v9rd.HrGdeb{color:#fff}.s3v9rd.AP7Wnd{color:#202124}.rl7ilb{display:block;clear:both}.vvjwJb{color:#1967d2;font-size:16px;line-height:20px}a:visited .vvjwJb,.vvjwJb a:visited{color:#4B11A8}.vvjwJb.HrGdeb{color:#fff}a:visited .vvjwJb.HrGdeb,.vvjwJb.HrGdeb a:visited{color:rgba(255,255,255,.70)}.UPmit{font-size:14px;line-height:20px}.UPmit.HrGdeb{color:rgba(255,255,255,.70)}.UPmit.AP7Wnd{color:#0d652d}.Ey4n2{padding-bottom:12px}.yRG22b{padding-left:48px;margin:0}.MSiauf{padding-bottom:8px}.XLloXe{color:#1967d2;font-size:14px;line-height:20px}a:visited .XLloXe,.XLloXe a:visited{color:#4B11A8}.XLloXe.HrGdeb{color:#fff}a:visited .XLloXe.HrGdeb,.XLloXe.HrGdeb a:visited{color:rgba(255,255,255,.70)}.mEUgP{font-weight:bold;font-size:16px;color:#000;margin:0;padding:12px 16px 12px}.iIWm4b{box-sizing:border-box;min-height:48px}.gGQDvd{padding:14px;position:relative}.Q71vJc{display:block;position:relative;width:100%}.kjGX2{position:absolute;left:48px;right:0;vertical-align:bottom;display:inline-block;color:#3c4043}.ieB2Dd{width:40px;height:40px;overflow:hidden;margin-top:-10px;margin-bottom:-16px;margin-right:8px;border-radius:4px;display:inline-block;border-radius:50%;padding:10px}.S003Ke{flex:none}.z1asCe{display:inline-block;fill:currentColor;height:24px;line-height:24px;position:relative;width:24px}.z1asCe svg{display:block;height:100%;width:100%}.ZoN4Lb{color:rgba(0,0,0,.54)}.nAXVG{color:#70757a}.IxQsL{color:rgba(0,0,0,.26)}.xFO1De{color:#fff}.ooFpK{color:rgba(255,255,255,.30)}.mtnwac{color:#4285f4}.WxeeKb{color:#34a853}.hIVRU{color:#f29900}.EXaTMc{color:#fbbc04}.sxn46d{color:#000}.gqMTF{color:#1a73e8}.zpn8Mb{color:#d93025}.dEUPmd{color:#1e8e3e}.lRVwie{text-overflow:ellipsis;white-space:nowrap;overflow:hidden}.nMymef{display:flex}.G5eFlf{flex:1;display:block}.nMymef span{text-align:center}</style><div><!--SW_C_X--></div><div></div><div class=\"uEierd\"><div class=\"ZINbbc O9g5cc uUPGi\"><div class=\"v5yQqb\"><a class=\"cz3goc BmP5tf\" data-al=\"1\" href=\"http://www.google.com.tw/aclk?sa=l&amp;ai=DChcSEwiEut605rD1AhXK1pYKHcxDCOQYABAAGgJ0bA&amp;sig=AOD64_13e9wMU6ekygiBy5AUPP4RlNS-pQ&amp;ved=2ahUKEwjd19e05rD1AhXQ_WEKHTWDCycQ0Qx6BAgMEAE&amp;adurl=\" role=\"presentation\"><div aria-level=\"3\" class=\"CCgQ5 MUxGbd v0nnCb aLF0Z OSrXXb\" role=\"heading\"><span>HoHo好服務 24小時線上即時預約 - 居家清潔、家電清洗服務選HoHo</span></div><div aria-label=\"www.hohoho.com.tw/\" class=\"d8lRkd OSrXXb MUxGbd lyLwlc aLF0Z\" role=\"link\"><span class=\"CnP9N VqFMTc NceN9e\">廣告</span><span aria-hidden=\"true\" class=\"qzEoUe\" role=\"text\">www.hohoho.com.tw/</span><span class=\"fUamLb r7TaRd MUxGbd wuQ4Ob WZ8Tjf\" data-hveid=\"CAwQAg\" style=\"color:#202124\"><span>02 6606 0255</span></span></div></a><span></span></div><hr class=\"BUybKe\"/><w-ad-creative-spacer><div class=\"oru2pc\" style=\"height:12px\"></div></w-ad-creative-spacer><div class=\"w1C3Le\"><div class=\"MUxGbd yDYNvb lyLwlc\">全台優質多元化居家生活服務網，價格透明不亂加價，千位網友口碑推薦，登入會員立即預約生活服務。提供最齊全的居家清潔與家電清洗服務，價格透明公道，輕鬆享受的居家生活，登入會員立即預約！ 全站刷卡分期0利率。居家大掃除清潔。行李箱到府收送維修。窗簾拆洗收送服務。隱形鐵窗安裝。皮沙發/布沙發到府清潔。</div></div><w-ad-creative-spacer><div class=\"oru2pc\" style=\"height:12px\"></div></w-ad-creative-spacer><hr class=\"BUybKe\"/><div class=\"E8hWLe lndKif BmP5tf\"><div class=\"MUxGbd v0nnCb lyLwlc\"><a class=\"q8U8x tNxQIb ynAwRc nEWj3b\" data-al=\"1\" href=\"http://www.google.com.tw/aclk?sa=l&amp;ai=DChcSEwiEut605rD1AhXK1pYKHcxDCOQYABABGgJ0bA&amp;sig=AOD64_3RcMZ0vXsg4mkwvzJYoh9mYdk2Jw&amp;ved=2ahUKEwjd19e05rD1AhXQ_WEKHTWDCycQwgUoAHoECAwQBA&amp;adurl=\"><div class=\"lKeYrd\">專業居家到府清潔服務</div></a></div><div class=\"MUxGbd v0nnCb lyLwlc\"><a class=\"q8U8x tNxQIb ynAwRc nEWj3b\" data-al=\"1\" href=\"http://www.google.com.tw/aclk?sa=l&amp;ai=DChcSEwiEut605rD1AhXK1pYKHcxDCOQYABACGgJ0bA&amp;sig=AOD64_2sZxOFG6EC6DIFLsGmCjBekyEW9A&amp;ved=2ahUKEwjd19e05rD1AhXQ_WEKHTWDCycQwgUoAXoECAwQBQ&amp;adurl=\"><div class=\"lKeYrd\">居家清潔與居家除蟎</div></a></div><div class=\"MUxGbd v0nnCb lyLwlc\"><a class=\"q8U8x tNxQIb ynAwRc nEWj3b\" data-al=\"1\" href=\"http://www.google.com.tw/aclk?sa=l&amp;ai=DChcSEwiEut605rD1AhXK1pYKHcxDCOQYABADGgJ0bA&amp;sig=AOD64_0Sm14_ecet0iZ74carMWsPlCVfzg&amp;ved=2ahUKEwjd19e05rD1AhXQ_WEKHTWDCycQwgUoAnoECAwQBg&amp;adurl=\"><div class=\"lKeYrd\">專業冷氣清洗服務</div></a></div><div class=\"MUxGbd v0nnCb lyLwlc\"><a class=\"q8U8x tNxQIb ynAwRc nEWj3b OMVs0e\" data-al=\"1\" href=\"http://www.google.com.tw/aclk?sa=l&amp;ai=DChcSEwiEut605rD1AhXK1pYKHcxDCOQYABAEGgJ0bA&amp;sig=AOD64_27DAwAWvPG3NKFr1lsDfyjVt_LuQ&amp;ved=2ahUKEwjd19e05rD1AhXQ_WEKHTWDCycQwgUoA3oECAwQBw&amp;adurl=\"><div class=\"lKeYrd\">床墊沙發到府清潔保養</div></a></div></div></div></div><div><div class=\"ZINbbc xpd O9g5cc uUPGi\"><div class=\"kCrYT\"><div class=\"nGphre\"><img alt=\"\" class=\"UykT9d\" data-deferred=\"1\" id=\"dimg_1\" src=\"data:image/gif;base64,R0lGODlhAQABAIAAAP///////yH5BAEKAAEALAAAAAABAAEAAAICTAEAOw==\" style=\"max-width:72px;max-height:72px\"/></div><span><h3 class=\"zBAuLc l97dzf\"><div class=\"BNeawe deIvCb AP7Wnd\">HoHo-好服務【居家清潔／到府服務】</div></h3></span><span><div class=\"BNeawe tAd8D AP7Wnd\"><span class=\"xUrNXd UMOHqf tP9Zud\"> <span aria-hidden=\"true\" class=\"oqSTJd\">4.3</span> <div aria-label=\"評等為 4.3，最高 5\" class=\"Hk2yDb KsR1A\" role=\"img\"><span style=\"width:58px\"></span></div> <span>(243)</span> </span>\n",
       " 位於台北的家庭清潔服務</div></span><div class=\"nYT7Qb\"></div></div><div class=\"Q0HXG\"></div><div class=\"kCrYT\"><div class=\"skVgpb\"><a class=\"VGHMXd\" href=\"https://maps.google.com.tw/maps?um=1&amp;ie=UTF-8&amp;fb=1&amp;gl=tw&amp;sa=X&amp;geocode=KQV-tQp-rEI0MSRX6aegtyv2&amp;daddr=114%E5%8F%B0%E5%8C%97%E5%B8%82%E5%85%A7%E6%B9%96%E5%8D%80%E7%91%9E%E5%85%89%E8%B7%AF66%E5%B7%B736%E8%99%9FHoHo-%E5%A5%BD%E6%9C%8D%E5%8B%99%E3%80%90%E5%B1%85%E5%AE%B6%E6%B8%85%E6%BD%94%EF%BC%8F%E5%88%B0%E5%BA%9C%E6%9C%8D%E5%8B%99%E3%80%91%E8%99%9F+4%E6%A8%93&amp;ved=2ahUKEwjd19e05rD1AhXQ_WEKHTWDCycQlDt6BAgAEAM\"><div class=\"LpaDrb l7d08\" style=\"width:24px;height:24px\"><img alt=\"\" class=\"h1hFNe\" data-deferred=\"1\" id=\"dimg_3\" src=\"data:image/gif;base64,R0lGODlhAQABAIAAAP///////yH5BAEKAAEALAAAAAABAAEAAAICTAEAOw==\" style=\"max-width:24px;max-height:24px\"/></div><div class=\"BNeawe ji5jpf uEec3 AP7Wnd\">規劃路線</div></a><a class=\"VGHMXd\" href=\"/url?esrc=s&amp;q=&amp;rct=j&amp;sa=U&amp;url=https://www.hohoho.com.tw/&amp;ved=2ahUKEwjd19e05rD1AhXQ_WEKHTWDCycQgU96BAgAEAQ&amp;usg=AOvVaw1VJ4_aJqv_PncFdV_bzy9m\"><div class=\"LpaDrb l7d08\" style=\"width:24px;height:24px\"><img alt=\"\" class=\"h1hFNe\" data-deferred=\"1\" id=\"dimg_5\" src=\"data:image/gif;base64,R0lGODlhAQABAIAAAP///////yH5BAEKAAEALAAAAAABAAEAAAICTAEAOw==\" style=\"max-width:24px;max-height:24px\"/></div><div class=\"BNeawe ji5jpf uEec3 AP7Wnd\">網站</div></a></div></div><div class=\"vbShOe kCrYT\"><div class=\"AVsepf\"><div class=\"BNeawe s3v9rd AP7Wnd\"><span><span class=\"BNeawe s3v9rd AP7Wnd\">地址</span></span>： <span><span class=\"BNeawe tAd8D AP7Wnd\">114台北市內湖區瑞光路66巷36號號 4樓</span></span></div></div><div class=\"AVsepf\"><div class=\"BNeawe s3v9rd AP7Wnd\"><span><span class=\"BNeawe s3v9rd AP7Wnd\">營業時間</span></span>： <span><span class=\"BNeawe tAd8D AP7Wnd\">營業中 ⋅ 結束營業時間：18:00</span></span></div></div><div class=\"AVsepf u2x1Od\"><div class=\"BNeawe s3v9rd AP7Wnd\"><span><span class=\"BNeawe s3v9rd AP7Wnd\">電話號碼</span></span>： <span><span class=\"BNeawe tAd8D AP7Wnd\">02 6606 0255</span></span></div></div></div></div></div><div><div class=\"ZINbbc xpd O9g5cc uUPGi\"><div class=\"kCrYT\"><a href=\"/url?esrc=s&amp;q=&amp;rct=j&amp;sa=U&amp;url=https://www.hohoho.com.tw/&amp;ved=2ahUKEwjd19e05rD1AhXQ_WEKHTWDCycQFnoECAsQAg&amp;usg=AOvVaw2x9ic6l5k_cC5CT1FWYuhM\"><h3 class=\"zBAuLc l97dzf\"><div class=\"BNeawe vvjwJb AP7Wnd\">HoHo好服務｜居家清潔、家電清洗、整理收納首選預約服務平台</div></h3><div class=\"BNeawe UPmit AP7Wnd\">www.hohoho.com.tw</div></a></div><div class=\"x54gtf\"></div><div class=\"kCrYT\"><div><div class=\"BNeawe s3v9rd AP7Wnd\"><div><div><div class=\"BNeawe s3v9rd AP7Wnd\">HoHo為全台首選居家服務預約平台，提供您居家清潔打掃、冷氣與洗衣機清洗、整理收納等服務，輕鬆預約家庭所需要的清潔與清洗服務。價格公開且擁有上萬筆好評，讓HoHo帶 ...<br/><span class=\"BNeawe\"><a href=\"/url?esrc=s&amp;q=&amp;rct=j&amp;sa=U&amp;url=https://www.hohoho.com.tw/shopping/service.aspx%3FproductNumber%3DE0016937&amp;ved=2ahUKEwjd19e05rD1AhXQ_WEKHTWDCycQ0gJ6BAgLEAQ&amp;usg=AOvVaw2s0TmkePXT5aUnTcUEKgBt\"><span class=\"XLloXe AP7Wnd\">居家清潔服務</span></a></span> · <span class=\"BNeawe\"><a href=\"/url?esrc=s&amp;q=&amp;rct=j&amp;sa=U&amp;url=https://www.hohoho.com.tw/shopping/products.aspx%3FgroupId%3D0cb4bc53-36fb-45f8-8d46-0759814fee8f&amp;ved=2ahUKEwjd19e05rD1AhXQ_WEKHTWDCycQ0gJ6BAgLEAU&amp;usg=AOvVaw2OD0myB9qMhu_8YDB8LiN1\"><span class=\"XLloXe AP7Wnd\">鐘點清潔</span></a></span> · <span class=\"BNeawe\"><a href=\"/url?esrc=s&amp;q=&amp;rct=j&amp;sa=U&amp;url=https://www.hohoho.com.tw/shopping/products.aspx%3FgroupId%3D3c0db804-c05d-4244-8d7b-31d3b1d85cb6&amp;ved=2ahUKEwjd19e05rD1AhXQ_WEKHTWDCycQ0gJ6BAgLEAY&amp;usg=AOvVaw14g3c0rk3Fomlddb01VH_P\"><span class=\"XLloXe AP7Wnd\">大掃除、裝潢清潔</span></a></span> · <span class=\"BNeawe\"><a href=\"/url?esrc=s&amp;q=&amp;rct=j&amp;sa=U&amp;url=https://www.hohoho.com.tw/shopping/quotation.aspx%3FproductNumber%3DS0000065&amp;ved=2ahUKEwjd19e05rD1AhXQ_WEKHTWDCycQ0gJ6BAgLEAc&amp;usg=AOvVaw1182N_5UWN8Nl4pTqq_Uyw\"><span class=\"XLloXe AP7Wnd\">大掃除清潔服務(大台北</span></a></span></div></div></div></div></div></div></div></div><div><div class=\"ZINbbc xpd O9g5cc uUPGi\"><div class=\"kCrYT\"><a href=\"/url?esrc=s&amp;q=&amp;rct=j&amp;sa=U&amp;url=https://www.crystalhoho111.com/categories/%25E8%2583%25BD%25E9%2587%258F%25E5%2595%2586%25E5%2593%2581&amp;ved=2ahUKEwjd19e05rD1AhXQ_WEKHTWDCycQFnoECAoQAg&amp;usg=AOvVaw3eWI7mDAPDwj0vyabj8aFC\"><h3 class=\"zBAuLc l97dzf\"><div class=\"BNeawe vvjwJb AP7Wnd\">HOHO   水晶寶寶 - 繁體中文</div></h3><div class=\"BNeawe UPmit AP7Wnd\">www.crystalhoho111.com › categories › 能量商品</div></a></div><div class=\"x54gtf\"></div><div class=\"kCrYT\"><div><div class=\"BNeawe s3v9rd AP7Wnd\"><div><div><div class=\"BNeawe s3v9rd AP7Wnd\">HOHO   水晶寶寶. 商品排序. 商品排序; 上架時間: 由新到舊; 上架時間: 由舊到新; 價格: 由高至低; 價格: 由低至高. 每頁顯示24 個.<br/><span class=\"BNeawe\"><a href=\"/url?esrc=s&amp;q=&amp;rct=j&amp;sa=U&amp;url=https://www.crystalhoho111.com/products/%25F0%259F%2592%259C%25F0%259F%2591%2598%25F0%259F%2592%259C%25E5%25A4%25A9%25E4%25BD%25BF%25E7%25BE%25BD%25E7%25BF%25BC%25E8%2597%258D%25E9%2587%259D%25E7%2599%25BD%25E6%25B0%25B4%25E6%2599%25B6%25F0%259F%2592%259C%25F0%259F%2591%2598%25F0%259F%2592%259C&amp;ved=2ahUKEwjd19e05rD1AhXQ_WEKHTWDCycQ0gJ6BAgKEAQ&amp;usg=AOvVaw24eQim29-PrFhDb6YK0Ejx\"><span class=\"XLloXe AP7Wnd\">天使羽翼藍針白水晶</span></a></span> · <span class=\"BNeawe\"><a href=\"/url?esrc=s&amp;q=&amp;rct=j&amp;sa=U&amp;url=https://www.crystalhoho111.com/products/bottle&amp;ved=2ahUKEwjd19e05rD1AhXQ_WEKHTWDCycQ0gJ6BAgKEAU&amp;usg=AOvVaw0P6ny8lGI85C6jiG_rIFMn\"><span class=\"XLloXe AP7Wnd\">整組水瓶瓶身</span></a></span> · <span class=\"BNeawe\"><a href=\"/url?esrc=s&amp;q=&amp;rct=j&amp;sa=U&amp;url=https://www.crystalhoho111.com/products/%25F0%259F%258C%2588%25F0%259F%258C%2588%25F0%259F%258C%2588ho%25E7%2599%2582%25E7%2599%2592%25E5%258D%25A1%25F0%259F%258C%2588%25F0%259F%258C%2588%25F0%259F%258C%2588&amp;ved=2ahUKEwjd19e05rD1AhXQ_WEKHTWDCycQ0gJ6BAgKEAY&amp;usg=AOvVaw09uMWpCdhdqKVvt2L5zJja\"><span class=\"XLloXe AP7Wnd\">HO療癒卡</span></a></span> · <span class=\"BNeawe\"><a href=\"/url?esrc=s&amp;q=&amp;rct=j&amp;sa=U&amp;url=https://www.crystalhoho111.com/pages/%25E6%25B0%25B4%25E6%2599%25B6%25E3%2581%25AE%25E6%2584%259F%25E6%2587%2589&amp;ved=2ahUKEwjd19e05rD1AhXQ_WEKHTWDCycQ0gJ6BAgKEAc&amp;usg=AOvVaw1BPN7Ohb22NNICZ2DPbAUd\"><span class=\"XLloXe AP7Wnd\">礦石の感應</span></a></span></div></div></div></div></div></div></div></div><div><div class=\"ZINbbc xpd O9g5cc uUPGi\"><div class=\"kCrYT\"><a href=\"/url?esrc=s&amp;q=&amp;rct=j&amp;sa=U&amp;url=https://www.facebook.com/hohoho.tw/&amp;ved=2ahUKEwjd19e05rD1AhXQ_WEKHTWDCycQFnoECAkQAg&amp;usg=AOvVaw3AvGkNYWBD-_3XHyu-toVQ\"><h3 class=\"zBAuLc l97dzf\"><div class=\"BNeawe vvjwJb AP7Wnd\">HoHo - 好服務、好生活 - Facebook</div></h3><div class=\"BNeawe UPmit AP7Wnd\">www.facebook.com › Pages › Other › Brand › Product/service</div></a></div><div class=\"x54gtf\"></div><div class=\"kCrYT\"><div><div class=\"BNeawe s3v9rd AP7Wnd\"><div><div><div class=\"BNeawe s3v9rd AP7Wnd\">HoHo - 好服務、好生活, 內湖區. 26162 likes · 290 talking about this. 提供多項到府清潔服務。 服務價格透明，對清潔服務人員品質有一定的要求，希望可以提供你一個 ...</div></div></div></div></div></div></div></div><div><div class=\"ZINbbc xpd O9g5cc uUPGi\"><div class=\"kCrYT\"><a href=\"/url?esrc=s&amp;q=&amp;rct=j&amp;sa=U&amp;url=https://zh-tw.facebook.com/hohoho.tw/&amp;ved=2ahUKEwjd19e05rD1AhXQ_WEKHTWDCycQFnoECAcQAg&amp;usg=AOvVaw0c23yhSsNe34ohdkVlHCh8\"><h3 class=\"zBAuLc l97dzf\"><div class=\"BNeawe vvjwJb AP7Wnd\">HoHo - 好服務、好生活- 首頁 - Facebook</div></h3><div class=\"BNeawe UPmit AP7Wnd\">zh-tw.facebook.com › 粉絲專頁 › 其他 › 品牌 › 商品／服務</div></a></div><div class=\"x54gtf\"></div><div class=\"kCrYT\"><div><div class=\"BNeawe s3v9rd AP7Wnd\"><div><div><div class=\"BNeawe s3v9rd AP7Wnd\">HoHo - 好服務、好生活， 內湖區。 26138 個讚· 286 人正在談論這個。提供多項到府清潔服務。 服務價格透明，對清潔服務人員品質有一定的要求，希望可以提供你一個隨時 ...</div></div></div></div></div></div></div></div><div><div class=\"ZINbbc xpd O9g5cc uUPGi\"><div class=\"kCrYT\"><a href=\"/url?esrc=s&amp;q=&amp;rct=j&amp;sa=U&amp;url=https://www.hoho2021.com/products&amp;ved=2ahUKEwjd19e05rD1AhXQ_WEKHTWDCycQFnoECAgQAg&amp;usg=AOvVaw3kWg0p1a57g5ZLDA1RokgO\"><h3 class=\"zBAuLc l97dzf\"><div class=\"BNeawe vvjwJb AP7Wnd\">Ho'Ho - 首頁NEW</div></h3><div class=\"BNeawe UPmit AP7Wnd\">www.hoho2021.com › products</div></a></div><div class=\"x54gtf\"></div><div class=\"kCrYT\"><div><div class=\"BNeawe s3v9rd AP7Wnd\"><div><div><div class=\"BNeawe s3v9rd AP7Wnd\">party time你最耀眼毛衣. NT$680 · 美背附襯墊細帶背心. NT$290 · 這個微辣兩件式套裝. NT$650 · 五角領附襯墊上衣. NT$390 · 率性字母連帽套裝. NT$680 · 時髦派對羊羔毛兩穿 ...</div></div></div></div></div></div></div></div><div><div class=\"ZINbbc xpd O9g5cc uUPGi\"><div class=\"kCrYT\"><a href=\"/url?esrc=s&amp;q=&amp;rct=j&amp;sa=U&amp;url=https://www.instagram.com/hohoiiv/&amp;ved=2ahUKEwjd19e05rD1AhXQ_WEKHTWDCycQFnoECAUQAg&amp;usg=AOvVaw0WcObwFbV7MjMU-eUIAW3Y\"><h3 class=\"zBAuLc l97dzf\"><div class=\"BNeawe vvjwJb AP7Wnd\">hoho (@hohoiiv) • Instagram photos and videos</div></h3><div class=\"BNeawe UPmit AP7Wnd\">www.instagram.com › hohoiiv</div></a></div><div class=\"x54gtf\"></div><div class=\"kCrYT\"><div><div class=\"BNeawe s3v9rd AP7Wnd\"><div><div><div class=\"BNeawe s3v9rd AP7Wnd\">12.8k Followers, 1007 Following, 313 Posts - See Instagram photos and videos from hoho (@hohoiiv)</div></div></div></div></div></div></div></div><div><div class=\"ZINbbc xpd O9g5cc uUPGi\"><div class=\"kCrYT\"><a href=\"/url?esrc=s&amp;q=&amp;rct=j&amp;sa=U&amp;url=https://shopee.tw/daweizhao&amp;ved=2ahUKEwjd19e05rD1AhXQ_WEKHTWDCycQFnoECAQQAg&amp;usg=AOvVaw2UV1mm2E4y0o_jk6gXM6qp\"><h3 class=\"zBAuLc l97dzf\"><div class=\"BNeawe vvjwJb AP7Wnd\">HoHo居家生活館, 線上商店 - 蝦皮購物</div></h3><div class=\"BNeawe UPmit AP7Wnd\">shopee.tw › daweizhao</div></a></div><div class=\"x54gtf\"></div><div class=\"kCrYT\"><div><div class=\"BNeawe s3v9rd AP7Wnd\"><div><div><div class=\"BNeawe s3v9rd AP7Wnd\">HoHo 居家生活館  歡迎光臨✨Hoho 居家生活館✨ 全平台最便宜又齊全居家生活用品銷售   當然很多人問[ 便宜有用嗎？品質不好也沒用] 我們敢說——只要用過我們家產品的 ...</div></div></div></div></div></div></div></div><div><div class=\"ZINbbc xpd O9g5cc uUPGi\"><div class=\"kCrYT\"><a href=\"/url?esrc=s&amp;q=&amp;rct=j&amp;sa=U&amp;url=https://www.youtube.com/channel/UCT2-qgDP0MBzEoxgT7kLibQ&amp;ved=2ahUKEwjd19e05rD1AhXQ_WEKHTWDCycQFnoECAMQAg&amp;usg=AOvVaw3vKUoWlsGdIRAphnQr-W46\"><h3 class=\"zBAuLc l97dzf\"><div class=\"BNeawe vvjwJb AP7Wnd\">HoHo好服務好生活</div></h3><div class=\"BNeawe UPmit AP7Wnd\">www.youtube.com › channel</div></a></div><div class=\"x54gtf\"></div><div class=\"kCrYT\"><div><div class=\"BNeawe s3v9rd AP7Wnd\"><div><div><div class=\"BNeawe s3v9rd AP7Wnd\">HoHo廠商推薦給我們這條【3D魔法布】   https://bit.ly/32IBKgp *比市售抹布高出8倍吸水力*是一條不挑髒汙的抹布，油汙、水漬、灰塵都很好擦*任意裁剪大小也不會解體真 ...</div></div></div></div></div></div></div></div><div><div class=\"ZINbbc xpd O9g5cc uUPGi\"><div class=\"kCrYT\"><a href=\"/url?esrc=s&amp;q=&amp;rct=j&amp;sa=U&amp;url=https://www.bnext.com.tw/article/60057/hoho&amp;ved=2ahUKEwjd19e05rD1AhXQ_WEKHTWDCycQFnoECAIQAg&amp;usg=AOvVaw04XGtYnTD5HNDRKU2-vmUw\"><h3 class=\"zBAuLc l97dzf\"><div class=\"BNeawe vvjwJb AP7Wnd\">HoHo線上平台整合服務量能豎立居家服務市場新標竿 - 數位時代</div></h3><div class=\"BNeawe UPmit AP7Wnd\">www.bnext.com.tw › article › hoho</div></a></div><div class=\"x54gtf\"></div><div class=\"kCrYT\"><div><div class=\"BNeawe s3v9rd AP7Wnd\"><div><div><div class=\"BNeawe s3v9rd AP7Wnd\"><span class=\"xUrNXd UMOHqf\">2020年11月16日</span><span class=\"xUrNXd UMOHqf\"> · </span>不過，自從合邦商網在2018年成立HoHo好服務平台後，民眾想要使用居家清潔修繕服務不必這麼麻煩，只要上網填表預約，就能在家輕鬆等師傅上門服務。 第一個 ...</div></div></div></div></div></div></div></div><div><div class=\"ZINbbc xpd O9g5cc uUPGi\"><div class=\"kCrYT\"><a href=\"/url?esrc=s&amp;q=&amp;rct=j&amp;sa=U&amp;url=https://www.ctwant.com/article/102267&amp;ved=2ahUKEwjd19e05rD1AhXQ_WEKHTWDCycQFnoECAEQAg&amp;usg=AOvVaw2H6xu28vliUPkfWImDqWMi\"><h3 class=\"zBAuLc l97dzf\"><div class=\"BNeawe vvjwJb AP7Wnd\">陳小春曬「一家四口」全家福么兒Hoho終於曝光！網驚長太像</div></h3><div class=\"BNeawe UPmit AP7Wnd\">www.ctwant.com › 娛樂</div></a></div><div class=\"x54gtf\"></div><div class=\"kCrYT\"><div><div class=\"BNeawe s3v9rd AP7Wnd\"><div><div><div class=\"BNeawe s3v9rd AP7Wnd\"><span class=\"xUrNXd UMOHqf\">2021年2月13日</span><span class=\"xUrNXd UMOHqf\"> · </span>藝人陳小春2020年與應采兒結婚，育有7歲的兒子Jasper和不到2歲的次子Hoho，雖然他曾帶著Jasper一起上陸綜真人秀《爸爸去哪兒》，但Hoho卻極少曝光。</div></div></div></div></div></div></div></div><div><div class=\"ZINbbc xpd O9g5cc uUPGi\"><div></div><div class=\"mEUgP\"><span><div class=\"BNeawe\">相關搜尋</div></span></div><div class=\"x54gtf\"></div><div><div class=\"gGQDvd iIWm4b\"><a class=\"Q71vJc\" href=\"/search?q=hoho%E6%9C%8D%E9%A3%BE&amp;sa=X&amp;ved=2ahUKEwjd19e05rD1AhXQ_WEKHTWDCycQ1QJ6BAgGEAI\"><accordion-entry-search-icon><span class=\"ieB2Dd S003Ke ZoN4Lb z1asCe MZy1Rb\" style=\"height:20px;line-height:20px;width:20px\"><svg focusable=\"false\" viewbox=\"0 0 24 24\" xmlns=\"http://www.w3.org/2000/svg\"><path d=\"M15.5 14h-.79l-.28-.27A6.471 6.471 0 0 0 16 9.5 6.5 6.5 0 1 0 9.5 16c1.61 0 3.09-.59 4.23-1.57l.27.28v.79l5 4.99L20.49 19l-4.99-5zm-6 0C7.01 14 5 11.99 5 9.5S7.01 5 9.5 5 14 7.01 14 9.5 11.99 14 9.5 14z\"></path></svg></span></accordion-entry-search-icon><div class=\"kjGX2\"><span><div class=\"BNeawe s3v9rd AP7Wnd lRVwie\">hoho服飾</div></span></div></a></div></div><div class=\"x54gtf\"></div><div><div class=\"gGQDvd iIWm4b\"><a class=\"Q71vJc\" href=\"/search?q=hoho%E8%A9%95%E5%83%B9&amp;sa=X&amp;ved=2ahUKEwjd19e05rD1AhXQ_WEKHTWDCycQ1QJ6BAgGEAQ\"><accordion-entry-search-icon><span class=\"ieB2Dd S003Ke ZoN4Lb z1asCe MZy1Rb\" style=\"height:20px;line-height:20px;width:20px\"><svg focusable=\"false\" viewbox=\"0 0 24 24\" xmlns=\"http://www.w3.org/2000/svg\"><path d=\"M15.5 14h-.79l-.28-.27A6.471 6.471 0 0 0 16 9.5 6.5 6.5 0 1 0 9.5 16c1.61 0 3.09-.59 4.23-1.57l.27.28v.79l5 4.99L20.49 19l-4.99-5zm-6 0C7.01 14 5 11.99 5 9.5S7.01 5 9.5 5 14 7.01 14 9.5 11.99 14 9.5 14z\"></path></svg></span></accordion-entry-search-icon><div class=\"kjGX2\"><span><div class=\"BNeawe s3v9rd AP7Wnd lRVwie\">hoho評價</div></span></div></a></div></div><div class=\"x54gtf\"></div><div><div class=\"gGQDvd iIWm4b\"><a class=\"Q71vJc\" href=\"/search?q=hoho%E6%98%AF%E8%AA%B0&amp;sa=X&amp;ved=2ahUKEwjd19e05rD1AhXQ_WEKHTWDCycQ1QJ6BAgGEAY\"><accordion-entry-search-icon><span class=\"ieB2Dd S003Ke ZoN4Lb z1asCe MZy1Rb\" style=\"height:20px;line-height:20px;width:20px\"><svg focusable=\"false\" viewbox=\"0 0 24 24\" xmlns=\"http://www.w3.org/2000/svg\"><path d=\"M15.5 14h-.79l-.28-.27A6.471 6.471 0 0 0 16 9.5 6.5 6.5 0 1 0 9.5 16c1.61 0 3.09-.59 4.23-1.57l.27.28v.79l5 4.99L20.49 19l-4.99-5zm-6 0C7.01 14 5 11.99 5 9.5S7.01 5 9.5 5 14 7.01 14 9.5 11.99 14 9.5 14z\"></path></svg></span></accordion-entry-search-icon><div class=\"kjGX2\"><span><div class=\"BNeawe s3v9rd AP7Wnd lRVwie\">hoho是誰</div></span></div></a></div></div><div class=\"x54gtf\"></div><div><div class=\"gGQDvd iIWm4b\"><a class=\"Q71vJc\" href=\"/search?q=hoho%E6%B8%85%E6%BD%94%E8%A9%95%E5%83%B9&amp;sa=X&amp;ved=2ahUKEwjd19e05rD1AhXQ_WEKHTWDCycQ1QJ6BAgGEAg\"><accordion-entry-search-icon><span class=\"ieB2Dd S003Ke ZoN4Lb z1asCe MZy1Rb\" style=\"height:20px;line-height:20px;width:20px\"><svg focusable=\"false\" viewbox=\"0 0 24 24\" xmlns=\"http://www.w3.org/2000/svg\"><path d=\"M15.5 14h-.79l-.28-.27A6.471 6.471 0 0 0 16 9.5 6.5 6.5 0 1 0 9.5 16c1.61 0 3.09-.59 4.23-1.57l.27.28v.79l5 4.99L20.49 19l-4.99-5zm-6 0C7.01 14 5 11.99 5 9.5S7.01 5 9.5 5 14 7.01 14 9.5 11.99 14 9.5 14z\"></path></svg></span></accordion-entry-search-icon><div class=\"kjGX2\"><span><div class=\"BNeawe s3v9rd AP7Wnd lRVwie\">hoho清潔評價</div></span></div></a></div></div><div class=\"x54gtf\"></div><div><div class=\"gGQDvd iIWm4b\"><a class=\"Q71vJc\" href=\"/search?q=hoho%E6%B4%97%E5%86%B7%E6%B0%A3&amp;sa=X&amp;ved=2ahUKEwjd19e05rD1AhXQ_WEKHTWDCycQ1QJ6BAgGEAo\"><accordion-entry-search-icon><span class=\"ieB2Dd S003Ke ZoN4Lb z1asCe MZy1Rb\" style=\"height:20px;line-height:20px;width:20px\"><svg focusable=\"false\" viewbox=\"0 0 24 24\" xmlns=\"http://www.w3.org/2000/svg\"><path d=\"M15.5 14h-.79l-.28-.27A6.471 6.471 0 0 0 16 9.5 6.5 6.5 0 1 0 9.5 16c1.61 0 3.09-.59 4.23-1.57l.27.28v.79l5 4.99L20.49 19l-4.99-5zm-6 0C7.01 14 5 11.99 5 9.5S7.01 5 9.5 5 14 7.01 14 9.5 11.99 14 9.5 14z\"></path></svg></span></accordion-entry-search-icon><div class=\"kjGX2\"><span><div class=\"BNeawe s3v9rd AP7Wnd lRVwie\">hoho洗冷氣</div></span></div></a></div></div><div class=\"x54gtf\"></div><div><div class=\"gGQDvd iIWm4b\"><a class=\"Q71vJc\" href=\"/search?q=hoho%E8%A9%95%E5%83%B9ptt&amp;sa=X&amp;ved=2ahUKEwjd19e05rD1AhXQ_WEKHTWDCycQ1QJ6BAgGEAw\"><accordion-entry-search-icon><span class=\"ieB2Dd S003Ke ZoN4Lb z1asCe MZy1Rb\" style=\"height:20px;line-height:20px;width:20px\"><svg focusable=\"false\" viewbox=\"0 0 24 24\" xmlns=\"http://www.w3.org/2000/svg\"><path d=\"M15.5 14h-.79l-.28-.27A6.471 6.471 0 0 0 16 9.5 6.5 6.5 0 1 0 9.5 16c1.61 0 3.09-.59 4.23-1.57l.27.28v.79l5 4.99L20.49 19l-4.99-5zm-6 0C7.01 14 5 11.99 5 9.5S7.01 5 9.5 5 14 7.01 14 9.5 11.99 14 9.5 14z\"></path></svg></span></accordion-entry-search-icon><div class=\"kjGX2\"><span><div class=\"BNeawe s3v9rd AP7Wnd lRVwie\">hoho評價ptt</div></span></div></a></div></div><div class=\"x54gtf\"></div><div><div class=\"gGQDvd iIWm4b\"><a class=\"Q71vJc\" href=\"/search?q=hoho%E5%8D%A1&amp;sa=X&amp;ved=2ahUKEwjd19e05rD1AhXQ_WEKHTWDCycQ1QJ6BAgGEA4\"><accordion-entry-search-icon><span class=\"ieB2Dd S003Ke ZoN4Lb z1asCe MZy1Rb\" style=\"height:20px;line-height:20px;width:20px\"><svg focusable=\"false\" viewbox=\"0 0 24 24\" xmlns=\"http://www.w3.org/2000/svg\"><path d=\"M15.5 14h-.79l-.28-.27A6.471 6.471 0 0 0 16 9.5 6.5 6.5 0 1 0 9.5 16c1.61 0 3.09-.59 4.23-1.57l.27.28v.79l5 4.99L20.49 19l-4.99-5zm-6 0C7.01 14 5 11.99 5 9.5S7.01 5 9.5 5 14 7.01 14 9.5 11.99 14 9.5 14z\"></path></svg></span></accordion-entry-search-icon><div class=\"kjGX2\"><span><div class=\"BNeawe s3v9rd AP7Wnd lRVwie\">hoho卡</div></span></div></a></div></div><div class=\"x54gtf\"></div><div><div class=\"gGQDvd iIWm4b\"><a class=\"Q71vJc\" href=\"/search?q=hoho%E6%B0%B4%E6%99%B6%E8%A9%95%E5%83%B9&amp;sa=X&amp;ved=2ahUKEwjd19e05rD1AhXQ_WEKHTWDCycQ1QJ6BAgGEBA\"><accordion-entry-search-icon><span class=\"ieB2Dd S003Ke ZoN4Lb z1asCe MZy1Rb\" style=\"height:20px;line-height:20px;width:20px\"><svg focusable=\"false\" viewbox=\"0 0 24 24\" xmlns=\"http://www.w3.org/2000/svg\"><path d=\"M15.5 14h-.79l-.28-.27A6.471 6.471 0 0 0 16 9.5 6.5 6.5 0 1 0 9.5 16c1.61 0 3.09-.59 4.23-1.57l.27.28v.79l5 4.99L20.49 19l-4.99-5zm-6 0C7.01 14 5 11.99 5 9.5S7.01 5 9.5 5 14 7.01 14 9.5 11.99 14 9.5 14z\"></path></svg></span></accordion-entry-search-icon><div class=\"kjGX2\"><span><div class=\"BNeawe s3v9rd AP7Wnd lRVwie\">hoho水晶評價</div></span></div></a></div></div></div></div><footer> <div> <div class=\"ZINbbc xpd O9g5cc uUPGi BmP5tf\"><div class=\"nMymef MUxGbd lyLwlc\"><a aria-label=\"下一頁\" class=\"nBDE1b G5eFlf\" href=\"/search?q=hoho&amp;ei=CjHhYd2qPND7hwO1hq64Ag&amp;start=10&amp;sa=N\">下一頁 &gt;</a></div></div> </div> <div id=\"EOlPnc\"><div class=\"Srfpq\"><span class=\"unknown_loc\"></span><span id=\"xxxXMc\">內湖區 台北市</span><span id=\"ttWoPb\"> - </span><span>根據你的 IP 位址</span><span> - </span><a href=\"/url?url=https://support.google.com/websearch%3Fp%3Dws_settings_location%26hl%3Dzh-TW&amp;rct=j&amp;q=&amp;esrc=s&amp;sa=U&amp;ved=0ahUKEwjd19e05rD1AhXQ_WEKHTWDCycQty4IcA&amp;usg=AOvVaw0tIjGFC0nL57SMja5XFrER\">瞭解詳情</a></div><div><a href=\"/url?url=https://accounts.google.com/ServiceLogin%3Fcontinue%3Dhttps://www.google.com.tw/search%253Fq%253Dhoho%26hl%3Dzh-TW&amp;rct=j&amp;q=&amp;esrc=s&amp;sa=U&amp;ved=0ahUKEwjd19e05rD1AhXQ_WEKHTWDCycQxs8CCHE&amp;usg=AOvVaw1mIyFwpLHu-zGbaGEcUxHn\">登入</a></div><div><a class=\"xeDNfc\" href=\"https://www.google.com.tw/preferences?hl=zh-TW&amp;fg=1&amp;sa=X&amp;ved=0ahUKEwjd19e05rD1AhXQ_WEKHTWDCycQ5fUCCHI\">設定</a><a class=\"xeDNfc\" href=\"https://policies.google.com/privacy?hl=zh-TW&amp;fg=1\">隱私權</a><a class=\"xeDNfc\" href=\"https://policies.google.com/terms?hl=zh-TW&amp;fg=1\">服務條款</a></div></div> </footer><script nonce=\"fX2y+hV59VRMdplkU9rEVA==\">(function(){var hl='zh-TW';(function(){\n",
       " var f=this||self,g=function(a){return a};var h,k=function(){if(void 0===h){var a=null,b=f.trustedTypes;if(b&&b.createPolicy){try{a=b.createPolicy(\"goog#html\",{createHTML:g,createScript:g,createScriptURL:g})}catch(c){f.console&&f.console.error(c.message)}h=a}else h=a}return h};var n=function(a,b){this.h=a===l&&b||\"\";this.g=m},p=function(a){return a instanceof n&&a.constructor===n&&a.g===m?a.h:\"type_error:Const\"},m={},l={};var r=function(a,b){this.g=b===q?a:\"\"};r.prototype.toString=function(){return this.g+\"\"};var t=function(a){return a instanceof r&&a.constructor===r?a.g:\"type_error:TrustedResourceUrl\"},x=function(){var a={},b=p(new n(l,\"/complete/search\"));if(!u.test(b))throw Error(\"a`\"+b);var c=b.replace(v,function(e,d){if(!Object.prototype.hasOwnProperty.call(a,d))throw Error(\"b`\"+d+\"`\"+b+\"`\"+JSON.stringify(a));e=a[d];return e instanceof n?p(e):encodeURIComponent(String(e))});return w(c)},v=/%{(\\w+)}/g,u=RegExp(\"^((https:)?//[0-9a-z.:[\\\\]-]+/|/[^/\\\\\\\\]|[^:/\\\\\\\\%]+/|[^:/\\\\\\\\%]*[?#]|about:blank#)\",\"i\"),y=/^([^?#]*)(\\?[^#]*)?(#[\\s\\S]*)?/,q={},w=function(a){var b=k();a=b?b.createScriptURL(a):a;return new r(a,q)},z=function(a,b,c){if(null==c)return b;if(\"string\"===typeof c)return c?a+encodeURIComponent(c):\"\";for(var e in c)if(Object.prototype.hasOwnProperty.call(c,e)){var d=c[e];d=Array.isArray(d)?d:[d];for(var D=0;D<d.length;D++){var P=d[D];null!=P&&(b||(b=a),b+=(b.length>a.length?\"&\":\"\")+encodeURIComponent(e)+\"=\"+encodeURIComponent(String(P)))}}return b};var A={},B=function(a,b,c){this.g=c===A?a:\"\"};B.prototype.toString=function(){return this.g.toString()};var C=function(a){var b=k();a=b?b.createHTML(a):a;return new B(a,null,A)};\n",
       " function E(a,b){if(null!==a&&void 0!==a.tagName){if(\"script\"===a.tagName.toLowerCase())throw Error(\"c\");if(\"style\"===a.tagName.toLowerCase())throw Error(\"d\");}a.innerHTML=b instanceof B&&b.constructor===B?b.g:\"type_error:SafeHtml\"};var F=document.querySelector(\".l\"),G=document.querySelector(\"#sf\"),H=G.querySelector(\".sbc\"),I=G.querySelector(\"[type=text]\"),J=G.querySelector(\"[type=submit]\"),K=G.querySelector(\".sc\"),L=G.querySelector(\".x\"),M=I.value,N=[],O=-1,Q=M,R,S,T;M||(L&&(L.style.display=\"none\"),U(!1));function U(a){if(H.classList.contains(\"esbc\")){var b=H.classList.contains(\"chsbc\"),c=H.classList.contains(\"rtlsbc\");a&&(K.style.display=\"block\",b?(G.style.borderRadius=\"20px 20px 0 0\",K.style.borderBottom=\"1px solid #DFE1E5\",J.style.borderRadius=c?\"20px 0 0 0\":\"0 20px 0 0\"):H.style.borderRadius=c?\"0 8px 0 0\":\"8px 0 0 0\");a||(K.style.display=\"none\",b?(G.style.borderRadius=\"20px\",K.style.borderBottom=\"none\",J.style.borderRadius=c?\"20px 0 0 20px\":\"0 20px 20px 0\"):H.style.borderRadius=c?\"0 8px 8px 0\":\"8px 0 0 8px\")}}function V(){G.querySelector(\"[name=oq]\").value=Q;G.querySelector(\"[name=aqs]\").value=\"heirloom-srp.\"+(0<=O?O:\"\")+\".\"+(0<N.length?\"0l\"+N.length:\"\")}\n",
       " function W(){R=null;if(S){var a={client:\"heirloom-srp\",hl:hl,json:\"t\",callback:\"hS\",q:S};\"undefined\"!==typeof ds&&ds&&(a.ds=ds);var b=document;var c=\"SCRIPT\";\"application/xhtml+xml\"===b.contentType&&(c=c.toLowerCase());c=b.createElement(c);b=x();b=y.exec(t(b).toString());var e=b[3]||\"\";a=w(b[1]+z(\"?\",b[2]||\"\",a)+z(\"#\",e,void 0));c.src=t(a);var d;a=(c.ownerDocument&&c.ownerDocument.defaultView||window).document;(d=(b=null===(d=a.querySelector)||void 0===d?void 0:d.call(a,\"script[nonce]\"))?b.nonce||\n",
       " b.getAttribute(\"nonce\")||\"\":\"\")&&c.setAttribute(\"nonce\",d);document.body.appendChild(c);S=null;R=setTimeout(W,500)}}function X(){for(;K.firstChild;)K.removeChild(K.firstChild);N=[];O=-1;U(!1)}function Y(){var a=K.querySelector(\".scs\");a&&(a.className=\"\");0<=O?(a=K.childNodes[O],a.className=\"scs\",M=a.textContent):M=Q;I.value=M}I.addEventListener(\"blur\",function(){X();F&&(F.style.display=\"\")},!1);I.addEventListener(\"input\",function(){var a=M=I.value;a?(L&&(L.style.display=\"\"),S=a,R||W(),Q=a):(L&&(L.style.display=\"none\"),U(!1),X(),Q=\"\",T=!0)},!1);I.addEventListener(\"keyup\",function(a){M=I.value;T=!1;13===a.which?V():27===a.which?(X(),F&&(F.style.display=\"\"),M=Q,I.value=M):40===a.which?(O++,O>=N.length&&(O=-1),Y()):38===a.which&&(O--,-1>O&&(O=N.length-1),Y())},!1);J.addEventListener(\"click\",V,!1);H.addEventListener(\"click\",function(){I.focus()},!1);window.hS=function(a){if(!T){X();0===a[1].length&&U(!1);for(var b=0;b<a[1].length;b++){var c=a[1][b][0],e=document.createElement(\"div\");E(e,C(c));e.addEventListener(\"mousedown\",function(d){d.preventDefault();return!1},!1);c=c.replace(/<\\/?b>/g,\"\");e.addEventListener(\"click\",function(d){return function(){O=d;V();Y();X();G.submit()}}(b),!1);e.addEventListener(\"mouseover\",function(d){return function(){O!==d&&(O=d,Y())}}(b),!1);K.appendChild(e);U(!0);N.push(c)}}};}).call(this);})();(function(){\n",
       " window.prh=function(d,a){a=a.split(\",\");for(var b=0;b<a.length;b++){var c=document.createElement(\"link\");c.rel=d;c.href=a[b];(document.head||document.querySelector(\"head\")).appendChild(c)}};}).call(this);(function(){\n",
       " function b(a){for(a=a.target||a.srcElement;a&&\"A\"!==a.nodeName;)a=a.parentElement;a&&(a.href||\"\").match(/\\/search.*[?&]tbm=isch/)&&(a.href+=\"&biw=\"+document.documentElement.clientWidth,a.href+=\"&bih=\"+document.documentElement.clientHeight)}document.addEventListener(\"click\",b,!1);document.addEventListener(\"touchStart\",b,!1);}).call(this);</script></div><!-- cctlcm 0 cctlcm --><textarea class=\"csi\" name=\"csi\" style=\"display:none\"></textarea><script nonce=\"fX2y+hV59VRMdplkU9rEVA==\">(function(){var e='CjHhYd2qPND7hwO1hq64Ag';var sn='web';var timl=false;(function(){\n",
       " function y(a){if(!a||z(a))return 0;if(!a.getBoundingClientRect)return 1;var c=function(b){return b.getBoundingClientRect()};return A(a,c)?0:I(a,c)}function A(a,c){var b;a:{for(b=a;b&&null!==b;b=b.parentElement)if(\"hidden\"===b.style.overflow)break a;b=null}if(!b)return!1;a=c(a);c=c(b);return a.bottom<c.top||a.top>=c.bottom||a.right<c.left||a.left>=c.right}\n",
       " function z(a){return\"none\"===a.style.display?!0:document.defaultView&&document.defaultView.getComputedStyle?(a=document.defaultView.getComputedStyle(a),!!a&&(\"hidden\"===a.visibility||\"0px\"===a.height&&\"0px\"===a.width)):!1}\n",
       " function I(a,c){var b=c(a);a=b.left+window.pageXOffset;c=b.top+window.pageYOffset;var f=b.width;b=b.height;var g=0;if(0>=b&&0>=f)return g;var p=window.innerHeight||document.documentElement.clientHeight;0>c+b?g=2:c>=p&&(g=4);if(0>a+f||a>=(window.innerWidth||document.documentElement.clientWidth))g|=8;g||(g=1,c+b>p&&(g|=4));return g};var J=e,K=sn,L=\"undefined\"===typeof de?!0:!1!==de,M=[];function N(a,c,b){a=\"/gen_204?atyp=csi&s=\"+(K||\"web\")+\"&t=\"+a+(\"&lite=1&ei=\"+J+\"&conn=\"+(window.navigator&&window.navigator.connection?window.navigator.connection.type:-1)+c);c=\"&rt=\";for(var f in b)a+=\"\"+c+f+\".\"+b[f],c=\",\";return a}function O(a){a={prt:a};window.wsrt&&(a.wsrt=window.wsrt);return a}function P(a){window.ping?window.ping(a):(new Image).src=a}\n",
       " (function(){for(var a=(new Date).getTime()-window.start,c=O(a),b=0,f=0,g=0,p=document.getElementsByTagName(\"img\"),q=L?\"&biw=\"+window.innerWidth+\"&bih=\"+window.innerHeight:\"\",Q=function(h,r){h.onload=function(){f=(new Date).getTime()-window.start;r&&++u==g&&(b=f,B());h.onload=null}},B=function(){q+=\"&ima=\"+g;c.aft=b;P(N(\"aft\",q,c))},u=0,R=0,d=void 0;d=p[R++];){var t=y(d),n=!!(t&1);n&&++g;var m=d.hasAttribute(\"data-ilite\"),v=d.hasAttribute(\"data-deferred\")||m,C=d.getAttribute(\"data-src\")||d.getAttribute(\"data-lzysrc\"),D=!v&&C;M.push([t,v,D,google.ldi&&d.id&&google.ldi[d.id]||m&&C]);m=(t=d.complete&&(m||!v&&!(n&&D)))&&Number(d.getAttribute(\"data-iml\"))||0;t&&m?(n&&++u,m&&(d=m-window.start,n&&(b=Math.max(b,d)),f=Math.max(f,d))):Q(d,n)}b||(b=a);f||(f=b);u==g&&B();google.rglh&&google.rglh();window.addEventListener(\"load\",function(){window.setTimeout(function(){c.ol=(new Date).getTime()-window.start;timl&&(c.iml=f);var h=window.performance&&window.performance.timing;h&&(c.rqst=h.responseEnd-h.requestStart,c.rspt=h.responseEnd-\n",
       " h.responseStart);for(var r=h=0,E=0,F=0,G=0,S=0,k;k=M[S++];){var l=k[0],w=k[1],T=k[2];k=k[3];var U=0==l,x=l&8,H=l&4;l=1==l||2==l||x&&!H;!l||x||w&&!k||++E;w&&(l&&k&&++h,H&&!k&&++r);U||x?T||++G:w||++F}q+=\"&ime=\"+E+(\"&imex=\"+F+\"&imeh=\"+G)+(\"&imea=\"+h+\"&imeb=\"+r);P(N(\"all\",q,c))},0)},!1)})();}).call(this);})();</script><script nonce=\"fX2y+hV59VRMdplkU9rEVA==\">(function(){prh('preconnect', 'http://www.googleadservices.com/')})();\n",
       " function _setImagesSrc(e,d){function f(b){b.onerror=function(){b.style.display=\"none\"};b.src=d}for(var g=0,a=void 0;a=e[g++];){var c=document.getElementById(a)||document.querySelector('img[data-iid=\"'+a+'\"]');c?(a=void 0,(null==(a=google.c)?0:a.setup)&&google.c.setup(c),f(c)):(google.iir=google.iir||{},google.iir[a]=d)}}\"undefined\"==typeof window.google&&(window.google={});</script><script nonce=\"fX2y+hV59VRMdplkU9rEVA==\">(function(){var s='data:image/jpeg;base64,/9j/4AAQSkZJRgABAQAAAQABAAD/4QAqRXhpZgAASUkqAAgAAAABADEBAgAHAAAAGgAAAAAAAABHb29nbGUAAP/bAIQAAwICAwIODQ0PDQQNDg0ICgoOCA4ODQ8NCAgICAoQCggIDRANDQgKCAgNCggIDggNDQ0LDgoICg0ODQgPCA4KDgEDBAQGBQYKBgYKDw4KDg0QDxANEQ8ODw4PDg8NDw0QDhAPEA8QEA8PDQ0NDw0PDQ8QDhEODQ0PDQ4NDw0NDw4O/8AAEQgASABIAwERAAIRAQMRAf/EABsAAAEFAQEAAAAAAAAAAAAAAAYDBAUHCAIB/8QAOxAAAgECBAQDBQUFCQAAAAAAAQIDBBEABRIhBgcTMSJBURQycYGRCCNh0dIVQlJioRYkVJKissPT8f/EABwBAAAHAQEAAAAAAAAAAAAAAAABAgMEBQYHCP/EADwRAAEDAgQDAwkGBgMBAAAAAAEAAhEDBAUSITFBUWEGEyIHMlJxgZGSodEVI0Ji4fAXorHB0tMzcuIU/9oADAMBAAIRAxEAPwDfEcYxHTqdIgwaKEuFGAhC80KcEjS0aKMGiSyqBg0SB+YuQR0S9TW51SjwECy6gx2Pfbtg6jYbKOk6XQhjLCnquIwU0olofH6fnhabKnUkOCzpmE4jYnB5gihOkS+DDgglBHgZggu9JGFSiXAYjBoigfm+kVbEAdVhMp7kdlf0IPyw9VMMHsSaPnoU4WzLg7KwBLJWKxIsiLqNtgCx8W5v7oAPe+o7CH3rPxGCpcPPmjRWB7RwtCPC2aMfQgL9brt9D8Dhfg4T+/Ym5d0QonMDMPSl+h/Vjyb/ABNxb0KPwv8A81ufsa35u94+icx8wMx/hpfof1YSfKfiw/BR+F/+aH2NQ5u94+icx8wMy/hpfof1YT/FHFvQo/C//Yk/Y1Dm73j6JZeYOY+lL9D+rBjyo4v6FH4X/wCxJODUObvePoiThriF8+DXCgrbcdiDfy3IIt64692H7XVcdZVZcMDalOCS2cpDpjQkkERrqZ3HJUOI2LbcgsOh5qRJOOsNKpChDjuWkRPH1COoNha997dwRiQ+MglM05zmEARyq5Om3fZdybeesgrb12FsQcpd5n1U6QPORjl9GsNrib5C1/W17n5Yeaz0gfYEhzuUIC4V5+8G8XvlqLHBqzDL5q1RqiPsSQ00EjRVQBv1CJ9A2sGjc7YylfszglOK9W1ohtNpMljQ0NjUuEZTA1l0xuFIZe3J8LXuJJ5mZ6fop7j3mXwpyqWGfSjLLmdLRGTVoWnaumCddy1kEUAPUPbwg2Itik7P4D2fNwb7DqX3jXHUioAMwkFrXgCIPgc0RB0PKVd3N2G91WOhHTWOZHzCbU32muAITWl5KRI6esgpPaFPWGYTT0Ec2ilSJXlmdFd0MSK7fcyNYBTbcjC7Md79yz73/k8Ih+mXxc9OHUnclVffVDl8R8O2u3HRGVPScN5/AJ4nRo5IVmjmVrrJHIoMZT1V7i3nv8scX7R+T3BrLDbm6pZmPY0vaS+RIGjIO4cfCJl0nfgtDaYpcVKzGGCCYOnz9m6jeHuJX4e1G0ZuBe/kFvvjifZjtPVwF1R1KmHmoGjUkRBMRHOVobyzFyACSIRJwxxn/a3UQqBVIGsXs7HuF/lUW8Xnfa/fHqrsviGI4hSNe+otpDTK0El3rdO3CBvrrEQcdfUKVEhrHEnihTm3mtRlkTMsNVOVlU9CNkVmXe7AuyR2X3iNV7drnbHRGtDhBVAXFpkLLXEP2xYMlcJ7BmiNqVdLdA3Ymw2Dad9vM/PDD3AaBvvDU+wk6z/VXbV8XV9GyBhk9mhLl4yzCJhp+6kVIVIc3NgAR4GuRtdrKCYKcDjBUJy8+yBwnwaculg/ZaPTZdLTSVMUCRtmsk1LEntE5B16w0UkxRjI15HBI3bFddUaOJ2b6WaadWmRmafwuG7TqNjI/onmOfb1Q6PE07HmOaLuavLrJOY4hjqJafwZhSVjRrHqSZcvl1CmkFin94J0sp3K6gqm2Mnb17TCLlzsSvmOrupNHiDaYFKmXRoCfEXPcSZ8R81oDSrF1OpcUx3FIhgdznxGOfAAD1cTqhKv5BZXw871dJVZbTu2ZJXQIKdZYYQ2Vx0k0L06ukkgkTqzFkaKRJH/AHrMr6W7xqxs6DbmvWYKToDXToc20RM85GzZJ0EqEyzrVHmm1pzDfpHyR1wdR5dwLSpSxtUS2kmkkqJF0mWoqamSaeYLYIvXllklCr4UVggtpsOHdve21he2H/w2DhULyMzsphgaQRGYDxOI0ImGzxIWjwzDKtKr3tXSNhI1nnHLlz6JxT8NHirw3IA3b+YeQ/8Afj5Yx/k1w2nd31R9RoORoIngSdx16qzxOuaVMRxVhZLllPkqhVAAH9T6n8Tj1pTYGNgLBPcXGShXjKKrrg6oCzX924G199yQMWDDsoDxMrNXEn2euKM8ljk6Ass8bM2uLYJIC22u5IAOwwbmyibIWr8ly3K8vYm0XutvbyPywoJ4lY+zTjnmcEfRRZYW9sIRXY6PZwjn2hxrB6pIRbLY3fcC18ePbZmHt7qm+/rNptZmhpIy1CQCGiIGhOvTfVdNebjUtpNmYn8vXXXlCmKHi/mYomHs+VjTVOsIXbqUvUqNDveQjq6VpS3uLqkew2sKJ9hg80vvn60wXzrD4ZIHh82S+NzAEniXs1x4paN9Oo1677JfNuIOZ1OajRFlNhLH0H3+8iZW6nWu4OtCos1gPvBsdJOG6Frgzm0TVqVNWu7wcjIy5fCdDJ4nzeqU43EuAA4ZfVxnVTU2dceShwq0gbpx6S1tJkvF1ASHd7b1H7lvAtiLXeEy3woOYajnFuZ0gTMeLLuAODOPEz+VR72DAEx7J06+v973FyhmrZVu/v8AQQuNrCSw1AWJHe/Ykfie+OmeTMUxiN2KPmZdPVnMfL1Kjxqe5ZO8/wBkehjj0qFi0H5vWy0zsQIGIPus2kWuLnVpcAjvuLfivfD7SdA0gHmZI+Wqiu4yCegifmgbktW8ZRCrSslWVvb6iamIiCiOhdVKU8LCNUk6VpPvN5LbnYDDV/TvraiLjwOpQS4sJqPbrA8AgyZmIMbSU/QqW1Wp3QLg7TRzcoPTMdDHGCi/gKu4PzVBV9OpZnUXYOWMcSxljGwV9LmPW+qJQx1NYK1hiHYXJqDK9xLoBktAAkTlkCMw4id+ikXFBrXHINJjfeDvrwQQuS5wfKh+rfkMeeR5MKnG5/k/9LbHGqfolOY+Hc6f/AfRv1DDrfJceNyfhH1SDjTPRPvThOF89bzy3/I5/wCQYfHksp8bh3uCR9tt9D5/opei4LzRu8lAPhG3/acSW+Sq1/FcVP5fomzjg4M+f6I54U4d/ZCkkglj3tbwjsAN++53J/pjpPZrsraYDTeLfMXPIzOcZJA2GgAAEk7cdSdIob2+fdOE6AcFJOAmNmqxVtxLn0GWyPdkW+3lfS9h238Jva9rfTFdiTrtlu51kAaoggHYidR7WzxHRCgKZqxVPh/f917DmMFS6GxUaGu0J0l/dCsRcA6d/Pe+w2scvZ9saEFt+w0XhwadCRJBOojM3zeIPrVnVwx+9E5hv++B36KQh69ewSM0kioBKFZdLK5kJIIAVrkjUSytcm5vfG6o3lOrS72i4PZzaQZ93FU9SmWuyvBB6yFOR0FOPJcIyhPSnUcUK+QwcIJXpp6DBoLpdK4CJKTVb4CCae0M2AgqZ5qV4p+t7uzJ/vjw4zcKO7coKyfiqpy83U/FDuD62+NhuLHbFfimDWuJ0+7uGzycNHA8DPSToZGuykW91UoGWH2cEbZNxrQZ5sfCwI79r+qN5H6H444viHZjFcFebjDajnM5t0eB+ZmzvYD/ANQtTRv7e6GSsADyO3sPBWolU5x3KVlksJmODQSiVOAguhU3waC9aa+Agm3V+GCRqiebtSoM/wCDRn/XF+eHae4UZ+5VYPXqmJSblSVBn0Xnb4/ngISv/9k\\x3d';var i=['dimg_1'];_setImagesSrc(i,s);})();</script><script nonce=\"fX2y+hV59VRMdplkU9rEVA==\">(function(){var s='data:image/png;base64,iVBORw0KGgoAAAANSUhEUgAAADAAAAAwBAMAAAClLOS0AAAAMFBMVEVChfRChfRChfRChfRChfRChfRChfRChfRChfRChfRChfRChfRChfRChfRChfRChfTP4QxqAAAAD3RSTlMAV+zrVFv8gKwUU+fl+1Ddcms0AAAAtElEQVR4Xr3NoQ0CURBF0UEQLEHQBgYPihLwWMyWgMbRB72g0JSBATIk8//LTV5W77M3ZyYm3mo7HubDezkajpmncZAp4gBiAGIAYgBiAGIA4gDi4CLiYCFiIAMCqFAEQBABXBsWAdzkIet+hJDnCpseOJWfCrseKhfIb4UDIRvIV4XZQGjgtw99V2jgGSGiAOhEAQCpASAOIA4gACcAJwAnAAjACcAIwAnACMCJgO/+iGn3B1LoV1bI8vckAAAAAElFTkSuQmCC';var i=['dimg_3'];_setImagesSrc(i,s);})();</script><script nonce=\"fX2y+hV59VRMdplkU9rEVA==\">(function(){var s='data:image/png;base64,iVBORw0KGgoAAAANSUhEUgAAADAAAAAwCAMAAABg3Am1AAABVlBMVEVChfRChfRChfRChfRChfRChfRChfRChfRChfRChfRChfRChfRChfRChfRChfRChfRChfRChfRChfRChfRChfRChfRChfRChfRChfRChfRChfRChfRChfRChfRChfRChfRChfRChfRChfRChfRChfRChfRChfRChfRChfRChfRChfRChfRChfRChfRChfRChfRChfRChfRChfRChfRChfRChfRChfRChfRChfRChfRChfRChfRChfRChfRChfRChfRChfRChfRChfRChfRChfRChfRChfRChfRChfRChfRChfRChfRChfRChfRChfRChfRChfRChfRChfRChfRChfRChfRChfRChfRChfRChfRChfRChfRChfRChfRChfRChfRChfRChfRChfRChfRChfRChfRChfRChfRChfRChfRChfRChfRChfRChfRChfRChfRChfRChfTpT98bAAAAcXRSTlMAAjl6rtTt+nk4Horl5IgdFpv5mBRd7lkFnQQKuGHZtfNy9ZyvK9smzljv7BP2lnMb2odk4gHoCfI2Tad4yGarMYA10hEV6+pP6TRlZ6aqdwto4YkG34Z19LF7+Br3LbIkM5PeKPC7VS+UswMMrWo6HJh0w+MAAAHlSURBVHhe3dBrU9NAAIXhE2iTchNIaltTlYpQVCoqUAuKVtraekcqoFi8gYqCt/3/N890MjvZzSb9zvvtzOyT2SzOZNbQcCptO46dTmVGrIFgdGxchJo4N5kIpqYdoeV62XhwPicM2XmYK1wQMXm+CRQvimiXLvfHTNHwfdP5Evwrs33hQ++qMDQHYL4smBf5X2EotwCWvSbYde09bxjuM8fzfVHmWqwoYFqoQWn+JsVSGIw6iQC3CNzbITAmkoF/h2IZMmt8AMAKwWpVziGhdVcHtTWKdTmH9fP3oHefYEOuFNeDAMDcQ4K6XGmuR5uJoEHQlMvmamEzCTwmaMvlcFmgiAcFAlcBBYBCrfNEAl8BNlcFBvE05kpprmcwiZifTnE9hxQm8EJ51gzXS0hhAq84tuQa4VqrSWEAr0scDQmsCc4VBJnANke3Ctkb7nIhHuzscuxBhkmH4m0w3olws/sLwHuO3gFCeQQfPqLfJ6GW+/zF5ThEuKxNcTQFhq/fNPG9y9FpQSkvWDMQ+yUR6RhanmC7P4IVAT+h588I1svsGMHJKSIVKdjR9q8oOKnBkO8FD/n7z1/tPqcwl18UhjrHiK2y5Oqgd9hCUv+WV8Ogu3eAQVnrG/Vm23XbzfpWo4qz2H/PsWmExFfJAQAAAABJRU5ErkJggg\\x3d\\x3d';var i=['dimg_5'];_setImagesSrc(i,s);})();</script><script nonce=\"fX2y+hV59VRMdplkU9rEVA==\">(function(){var e='CjHhYd2qPND7hwO1hq64Ag';(function(){\n",
       " var a=e;2===(window.performance&&window.performance.navigation&&window.performance.navigation.type)&&window.ping(\"/gen_204?ct=backbutton&ei=\"+a);}).call(this);})();(function(){\n",
       " var b=[function(){google.tick&&google.tick(\"load\",\"dcl\")}];google.dclc=function(a){b.length?b.push(a):a()};function c(){for(var a=b.shift();a;)a(),a=b.shift()}window.addEventListener?(document.addEventListener(\"DOMContentLoaded\",c,!1),window.addEventListener(\"load\",c,!1)):window.attachEvent&&window.attachEvent(\"onload\",c);}).call(this);\n",
       " window.jsl=window.jsl||{};window.jsl.dh=function(a,c,e){try{var f=document.getElementById(a);if(f)f.innerHTML=c,e&&e();else{var b={id:a,script:String(!!e),milestone:String(google.jslm||0)};google.jsla&&(b.async=google.jsla);var g=document.createElement(\"div\");g.innerHTML=c;var d=g.children[0];if(d){b.tag=d.tagName;b[\"class\"]=String(d.className||null);b.name=String(d.getAttribute(\"jsname\"));var h=a.indexOf(\"_\");if(0<h){c=[];var k=document.querySelectorAll('[id^=\"'+a.substring(0,h)+'_\"]');for(a=0;a<k.length;++a)c.push(k[a].id);b.ids=c.join(\",\")}}google.ml(Error(\"Missing ID.\"),!1,b)}}catch(l){google.ml(l,!0,{\"jsl.dh\":!0})}};(function(){var x=false;\n",
       " google.jslm=x?2:1;})();(function(){(function(){google.csct={};google.csct.ps='AOvVaw32CoHYU0tlCa-6iIP7hzIh\\x26ust\\x3d1642234507029736';})();})();(function(){(function(){google.csct.rd=true;})();})();(function(){(function(){google.csct.rw=true;})();})();(function(){(function(){google.csct.rl=true;})();})();google.drty&&google.drty(undefined,true);</script></body>]"
      ]
     },
     "execution_count": 122,
     "metadata": {},
     "output_type": "execute_result"
    }
   ],
   "source": [
    "ttt = soup.select(\"body\")\n",
    "ttt"
   ]
  },
  {
   "cell_type": "code",
   "execution_count": 118,
   "metadata": {},
   "outputs": [
    {
     "data": {
      "text/plain": [
       "[]"
      ]
     },
     "execution_count": 118,
     "metadata": {},
     "output_type": "execute_result"
    }
   ],
   "source": [
    "ggg = soup.find_all(\"div\", id=\"gac_scont\")\n",
    "ggg"
   ]
  },
  {
   "cell_type": "code",
   "execution_count": 114,
   "metadata": {},
   "outputs": [
    {
     "data": {
      "text/plain": [
       "[]"
      ]
     },
     "execution_count": 114,
     "metadata": {},
     "output_type": "execute_result"
    }
   ],
   "source": [
    "ggg = soup.find_all(\"div\", class_=\"main\")\n",
    "ggg"
   ]
  },
  {
   "cell_type": "code",
   "execution_count": 49,
   "metadata": {},
   "outputs": [
    {
     "ename": "AttributeError",
     "evalue": "'int' object has no attribute 'text'",
     "output_type": "error",
     "traceback": [
      "\u001b[1;31m---------------------------------------------------------------------------\u001b[0m",
      "\u001b[1;31mAttributeError\u001b[0m                            Traceback (most recent call last)",
      "\u001b[1;32m<ipython-input-49-2e10c30a2d71>\u001b[0m in \u001b[0;36m<module>\u001b[1;34m\u001b[0m\n\u001b[1;32m----> 1\u001b[1;33m \u001b[0mtitle_list\u001b[0m\u001b[1;33m=\u001b[0m\u001b[1;33m[\u001b[0m\u001b[0mresult\u001b[0m\u001b[1;33m.\u001b[0m\u001b[0mfind\u001b[0m\u001b[1;33m(\u001b[0m\u001b[1;34m\"a\"\u001b[0m\u001b[1;33m)\u001b[0m\u001b[1;33m.\u001b[0m\u001b[0mtext\u001b[0m \u001b[1;32mfor\u001b[0m \u001b[0mresult\u001b[0m \u001b[1;32min\u001b[0m \u001b[0msearch_text\u001b[0m\u001b[1;33m]\u001b[0m\u001b[1;33m\u001b[0m\u001b[1;33m\u001b[0m\u001b[0m\n\u001b[0m\u001b[0;32m      2\u001b[0m \u001b[0mtitle_list\u001b[0m\u001b[1;33m\u001b[0m\u001b[1;33m\u001b[0m\u001b[0m\n",
      "\u001b[1;32m<ipython-input-49-2e10c30a2d71>\u001b[0m in \u001b[0;36m<listcomp>\u001b[1;34m(.0)\u001b[0m\n\u001b[1;32m----> 1\u001b[1;33m \u001b[0mtitle_list\u001b[0m\u001b[1;33m=\u001b[0m\u001b[1;33m[\u001b[0m\u001b[0mresult\u001b[0m\u001b[1;33m.\u001b[0m\u001b[0mfind\u001b[0m\u001b[1;33m(\u001b[0m\u001b[1;34m\"a\"\u001b[0m\u001b[1;33m)\u001b[0m\u001b[1;33m.\u001b[0m\u001b[0mtext\u001b[0m \u001b[1;32mfor\u001b[0m \u001b[0mresult\u001b[0m \u001b[1;32min\u001b[0m \u001b[0msearch_text\u001b[0m\u001b[1;33m]\u001b[0m\u001b[1;33m\u001b[0m\u001b[1;33m\u001b[0m\u001b[0m\n\u001b[0m\u001b[0;32m      2\u001b[0m \u001b[0mtitle_list\u001b[0m\u001b[1;33m\u001b[0m\u001b[1;33m\u001b[0m\u001b[0m\n",
      "\u001b[1;31mAttributeError\u001b[0m: 'int' object has no attribute 'text'"
     ]
    }
   ],
   "source": [
    "title_list=[result.find(\"a\").text for result in search_text]\n",
    "title_list"
   ]
  },
  {
   "cell_type": "code",
   "execution_count": 53,
   "metadata": {},
   "outputs": [
    {
     "data": {
      "text/plain": [
       "['全部影片圖片新聞',\n",
       " '',\n",
       " '',\n",
       " '全部影片圖片新聞',\n",
       " 'HoHo好服務 清潔送洗到府服務 - HoHo好服務 首選居家預約平台  廣告  -  www.hohoho.com.tw/hoho好服務/居家清潔     全台優質多元化居家生活服務網，價格透明不亂加價，千位網友口碑推薦，登入會員立即預約生活服務   ',\n",
       " '   全台優質多元化居家生活服務網，價格透明不亂加價，千位網友口碑推薦，登入會員立即預約生活服務   ',\n",
       " '全台NO1 即時預約24HR - 鐘點清潔 3 小時1200  廣告  -  www.jackercleaning.com/     居家清潔範圍涵蓋 大台北、桃竹、台中、高雄、台南、基隆   ',\n",
       " '   居家清潔範圍涵蓋 大台北、桃竹、台中、高雄、台南、基隆   ',\n",
       " '呼叫黃背心，解決居家大小事 - 專業居家清潔 家電清潔、修繕 - yellow885.com.tw  廣告  -  www.yellow885.com.tw/     提供多元化居家服務，價格透明決不亂喊價， 多年經驗專業師傅為您服務。為您把關生活品質   ',\n",
       " '   提供多元化居家服務，價格透明決不亂喊價， 多年經驗專業師傅為您服務。為您把關生活品質   ',\n",
       " 'HoHo好服務｜居家清潔、家電清洗、整理收納首選預約服務平台  www.hohoho.com.tw     HoHo為全台首選居家服務預約平台，提供您居家清潔打掃、冷氣與洗衣機清洗、整理收納等服務，輕鬆預約家庭所需要的清潔與清洗服務。價格公開且擁有上萬筆好評，讓HoHo帶\\xa0...  居家清潔服務  ·  鐘點清潔  ·  大掃除、裝潢清潔  ·  大掃除清潔服務(大台北   ',\n",
       " '   HoHo為全台首選居家服務預約平台，提供您居家清潔打掃、冷氣與洗衣機清洗、整理收納等服務，輕鬆預約家庭所需要的清潔與清洗服務。價格公開且擁有上萬筆好評，讓HoHo帶\\xa0...  居家清潔服務  ·  鐘點清潔  ·  大掃除、裝潢清潔  ·  大掃除清潔服務(大台北   ',\n",
       " 'HOHO   水晶寶寶 - 繁體中文  www.crystalhoho111.com › categories › 能量商品     HOHO   水晶寶寶. 商品排序. 商品排序; 上架時間: 由新到舊; 上架時間: 由舊到新; 價格: 由高至低; 價格: 由低至高. 每頁顯示24 個.  天使羽翼藍針白水晶  ·  整組水瓶瓶身  ·  HO療癒卡  ·  礦石の感應   ',\n",
       " '   HOHO   水晶寶寶. 商品排序. 商品排序; 上架時間: 由新到舊; 上架時間: 由舊到新; 價格: 由高至低; 價格: 由低至高. 每頁顯示24 個.  天使羽翼藍針白水晶  ·  整組水瓶瓶身  ·  HO療癒卡  ·  礦石の感應   ',\n",
       " 'HoHo - 好服務、好生活 - Facebook  www.facebook.com › Pages › Other › Brand › Product/service     HoHo - 好服務、好生活, 內湖區. 26162 likes · 290 talking about this. 提供多項到府清潔服務。 服務價格透明，對清潔服務人員品質有一定的要求，希望可以提供你一個\\xa0...   ',\n",
       " '   HoHo - 好服務、好生活, 內湖區. 26162 likes · 290 talking about this. 提供多項到府清潔服務。 服務價格透明，對清潔服務人員品質有一定的要求，希望可以提供你一個\\xa0...   ',\n",
       " 'HoHo - 好服務、好生活- 首頁 - Facebook  zh-tw.facebook.com › 粉絲專頁 › 其他 › 品牌 › 商品／服務     HoHo - 好服務、好生活， 內湖區。 26138 個讚· 286 人正在談論這個。提供多項到府清潔服務。 服務價格透明，對清潔服務人員品質有一定的要求，希望可以提供你一個隨時\\xa0...   ',\n",
       " '   HoHo - 好服務、好生活， 內湖區。 26138 個讚· 286 人正在談論這個。提供多項到府清潔服務。 服務價格透明，對清潔服務人員品質有一定的要求，希望可以提供你一個隨時\\xa0...   ',\n",
       " \"Ho'Ho - 首頁NEW  www.hoho2021.com › products     party time你最耀眼毛衣. NT$680 · 美背附襯墊細帶背心. NT$290 · 這個微辣兩件式套裝. NT$650 · 五角領附襯墊上衣. NT$390 · 率性字母連帽套裝. NT$680 · 時髦派對羊羔毛兩穿\\xa0...   \",\n",
       " '   party time你最耀眼毛衣. NT$680 · 美背附襯墊細帶背心. NT$290 · 這個微辣兩件式套裝. NT$650 · 五角領附襯墊上衣. NT$390 · 率性字母連帽套裝. NT$680 · 時髦派對羊羔毛兩穿\\xa0...   ',\n",
       " 'hoho (@hohoiiv) • Instagram photos and videos  www.instagram.com › hohoiiv     12.8k Followers, 1007 Following, 313 Posts - See Instagram photos and videos from hoho (@hohoiiv)   ',\n",
       " '   12.8k Followers, 1007 Following, 313 Posts - See Instagram photos and videos from hoho (@hohoiiv)   ',\n",
       " 'HoHo居家生活館, 線上商店 - 蝦皮購物  shopee.tw › daweizhao     HoHo 居家生活館  歡迎光臨✨Hoho 居家生活館✨ 全平台最便宜又齊全居家生活用品銷售   當然很多人問[ 便宜有用嗎？品質不好也沒用] 我們敢說——只要用過我們家產品的\\xa0...   ',\n",
       " '   HoHo 居家生活館  歡迎光臨✨Hoho 居家生活館✨ 全平台最便宜又齊全居家生活用品銷售   當然很多人問[ 便宜有用嗎？品質不好也沒用] 我們敢說——只要用過我們家產品的\\xa0...   ',\n",
       " 'HoHo好服務好生活  www.youtube.com › channel     HoHo廠商推薦給我們這條【3D魔法布】   https://bit.ly/32IBKgp *比市售抹布高出8倍吸水力*是一條不挑髒汙的抹布，油汙、水漬、灰塵都很好擦*任意裁剪大小也不會解體真\\xa0...   ',\n",
       " '   HoHo廠商推薦給我們這條【3D魔法布】   https://bit.ly/32IBKgp *比市售抹布高出8倍吸水力*是一條不挑髒汙的抹布，油汙、水漬、灰塵都很好擦*任意裁剪大小也不會解體真\\xa0...   ',\n",
       " '陳小春曬「一家四口」全家福么兒Hoho終於曝光！網驚長太像  www.ctwant.com › 娛樂     2021年2月13日  ·  藝人陳小春2020年與應采兒結婚，育有7歲的兒子Jasper和不到2歲的次子Hoho，雖然他曾帶著Jasper一起上陸綜真人秀《爸爸去哪兒》，但Hoho卻極少曝光。   ',\n",
       " '   2021年2月13日  ·  藝人陳小春2020年與應采兒結婚，育有7歲的兒子Jasper和不到2歲的次子Hoho，雖然他曾帶著Jasper一起上陸綜真人秀《爸爸去哪兒》，但Hoho卻極少曝光。   ',\n",
       " '合邦商網股份有限公司 - 104人力銀行  www.104.com.tw › company     HoHo好服務、好生活，於2017年成立，為鑫聯大控股集團（股票代號3709）之一員， 目前為全台首選居家平台，提供多樣化的居家生活服務， 更積極籌畫發展新的商業模式，\\xa0...   ',\n",
       " '   HoHo好服務、好生活，於2017年成立，為鑫聯大控股集團（股票代號3709）之一員， 目前為全台首選居家平台，提供多樣化的居家生活服務， 更積極籌畫發展新的商業模式，\\xa0...   ',\n",
       " '  相關搜尋    hoho評價  >  hoho清潔評價  >  hoho是誰  >  hoho評價ptt  >  hoho服飾  >  hoho卡  >  hoho應采兒  >  hoho水瓶  >  hoho官網  >  hoho洗冷氣  >',\n",
       " '>',\n",
       " '>',\n",
       " '>',\n",
       " '>',\n",
       " '>',\n",
       " '>',\n",
       " '>',\n",
       " '>',\n",
       " '>',\n",
       " '>',\n",
       " '>',\n",
       " '>',\n",
       " '>',\n",
       " '>',\n",
       " '>',\n",
       " '>',\n",
       " '>',\n",
       " '>',\n",
       " '>',\n",
       " '>',\n",
       " '內湖區 台北市\\xa0-\\xa0根據你的 IP 位址\\xa0-\\xa0瞭解詳情登入設定隱私權服務條款',\n",
       " '內湖區 台北市\\xa0-\\xa0根據你的 IP 位址\\xa0-\\xa0瞭解詳情']"
      ]
     },
     "execution_count": 53,
     "metadata": {},
     "output_type": "execute_result"
    }
   ],
   "source": [
    "search_text"
   ]
  },
  {
   "cell_type": "code",
   "execution_count": null,
   "metadata": {},
   "outputs": [],
   "source": []
  },
  {
   "cell_type": "code",
   "execution_count": 46,
   "metadata": {
    "scrolled": true
   },
   "outputs": [
    {
     "name": "stdout",
     "output_type": "stream",
     "text": [
      "全部影片圖片新聞\n",
      "\n",
      "\n",
      "全部影片圖片新聞\n",
      "HoHo好服務 清潔送洗到府服務 - HoHo好服務 首選居家預約平台  廣告  -  www.hohoho.com.tw/hoho好服務/居家清潔     全台優質多元化居家生活服務網，價格透明不亂加價，千位網友口碑推薦，登入會員立即預約生活服務   \n",
      "   全台優質多元化居家生活服務網，價格透明不亂加價，千位網友口碑推薦，登入會員立即預約生活服務   \n",
      "全台NO1 即時預約24HR - 鐘點清潔 3 小時1200  廣告  -  www.jackercleaning.com/     居家清潔範圍涵蓋 大台北、桃竹、台中、高雄、台南、基隆   \n",
      "   居家清潔範圍涵蓋 大台北、桃竹、台中、高雄、台南、基隆   \n",
      "呼叫黃背心，解決居家大小事 - 專業居家清潔 家電清潔、修繕 - yellow885.com.tw  廣告  -  www.yellow885.com.tw/     提供多元化居家服務，價格透明決不亂喊價， 多年經驗專業師傅為您服務。為您把關生活品質   \n",
      "   提供多元化居家服務，價格透明決不亂喊價， 多年經驗專業師傅為您服務。為您把關生活品質   \n",
      "HoHo好服務｜居家清潔、家電清洗、整理收納首選預約服務平台  www.hohoho.com.tw     HoHo為全台首選居家服務預約平台，提供您居家清潔打掃、冷氣與洗衣機清洗、整理收納等服務，輕鬆預約家庭所需要的清潔與清洗服務。價格公開且擁有上萬筆好評，讓HoHo帶 ...  居家清潔服務  ·  鐘點清潔  ·  大掃除、裝潢清潔  ·  大掃除清潔服務(大台北   \n",
      "   HoHo為全台首選居家服務預約平台，提供您居家清潔打掃、冷氣與洗衣機清洗、整理收納等服務，輕鬆預約家庭所需要的清潔與清洗服務。價格公開且擁有上萬筆好評，讓HoHo帶 ...  居家清潔服務  ·  鐘點清潔  ·  大掃除、裝潢清潔  ·  大掃除清潔服務(大台北   \n",
      "HOHO   水晶寶寶 - 繁體中文  www.crystalhoho111.com › categories › 能量商品     HOHO   水晶寶寶. 商品排序. 商品排序; 上架時間: 由新到舊; 上架時間: 由舊到新; 價格: 由高至低; 價格: 由低至高. 每頁顯示24 個.  天使羽翼藍針白水晶  ·  整組水瓶瓶身  ·  HO療癒卡  ·  礦石の感應   \n",
      "   HOHO   水晶寶寶. 商品排序. 商品排序; 上架時間: 由新到舊; 上架時間: 由舊到新; 價格: 由高至低; 價格: 由低至高. 每頁顯示24 個.  天使羽翼藍針白水晶  ·  整組水瓶瓶身  ·  HO療癒卡  ·  礦石の感應   \n",
      "HoHo - 好服務、好生活 - Facebook  www.facebook.com › Pages › Other › Brand › Product/service     HoHo - 好服務、好生活, 內湖區. 26162 likes · 290 talking about this. 提供多項到府清潔服務。 服務價格透明，對清潔服務人員品質有一定的要求，希望可以提供你一個 ...   \n",
      "   HoHo - 好服務、好生活, 內湖區. 26162 likes · 290 talking about this. 提供多項到府清潔服務。 服務價格透明，對清潔服務人員品質有一定的要求，希望可以提供你一個 ...   \n",
      "HoHo - 好服務、好生活- 首頁 - Facebook  zh-tw.facebook.com › 粉絲專頁 › 其他 › 品牌 › 商品／服務     HoHo - 好服務、好生活， 內湖區。 26138 個讚· 286 人正在談論這個。提供多項到府清潔服務。 服務價格透明，對清潔服務人員品質有一定的要求，希望可以提供你一個隨時 ...   \n",
      "   HoHo - 好服務、好生活， 內湖區。 26138 個讚· 286 人正在談論這個。提供多項到府清潔服務。 服務價格透明，對清潔服務人員品質有一定的要求，希望可以提供你一個隨時 ...   \n",
      "Ho'Ho - 首頁NEW  www.hoho2021.com › products     party time你最耀眼毛衣. NT$680 · 美背附襯墊細帶背心. NT$290 · 這個微辣兩件式套裝. NT$650 · 五角領附襯墊上衣. NT$390 · 率性字母連帽套裝. NT$680 · 時髦派對羊羔毛兩穿 ...   \n",
      "   party time你最耀眼毛衣. NT$680 · 美背附襯墊細帶背心. NT$290 · 這個微辣兩件式套裝. NT$650 · 五角領附襯墊上衣. NT$390 · 率性字母連帽套裝. NT$680 · 時髦派對羊羔毛兩穿 ...   \n",
      "hoho (@hohoiiv) • Instagram photos and videos  www.instagram.com › hohoiiv     12.8k Followers, 1007 Following, 313 Posts - See Instagram photos and videos from hoho (@hohoiiv)   \n",
      "   12.8k Followers, 1007 Following, 313 Posts - See Instagram photos and videos from hoho (@hohoiiv)   \n",
      "HoHo居家生活館, 線上商店 - 蝦皮購物  shopee.tw › daweizhao     HoHo 居家生活館  歡迎光臨✨Hoho 居家生活館✨ 全平台最便宜又齊全居家生活用品銷售   當然很多人問[ 便宜有用嗎？品質不好也沒用] 我們敢說——只要用過我們家產品的 ...   \n",
      "   HoHo 居家生活館  歡迎光臨✨Hoho 居家生活館✨ 全平台最便宜又齊全居家生活用品銷售   當然很多人問[ 便宜有用嗎？品質不好也沒用] 我們敢說——只要用過我們家產品的 ...   \n",
      "HoHo好服務好生活  www.youtube.com › channel     HoHo廠商推薦給我們這條【3D魔法布】   https://bit.ly/32IBKgp *比市售抹布高出8倍吸水力*是一條不挑髒汙的抹布，油汙、水漬、灰塵都很好擦*任意裁剪大小也不會解體真 ...   \n",
      "   HoHo廠商推薦給我們這條【3D魔法布】   https://bit.ly/32IBKgp *比市售抹布高出8倍吸水力*是一條不挑髒汙的抹布，油汙、水漬、灰塵都很好擦*任意裁剪大小也不會解體真 ...   \n",
      "陳小春曬「一家四口」全家福么兒Hoho終於曝光！網驚長太像  www.ctwant.com › 娛樂     2021年2月13日  ·  藝人陳小春2020年與應采兒結婚，育有7歲的兒子Jasper和不到2歲的次子Hoho，雖然他曾帶著Jasper一起上陸綜真人秀《爸爸去哪兒》，但Hoho卻極少曝光。   \n",
      "   2021年2月13日  ·  藝人陳小春2020年與應采兒結婚，育有7歲的兒子Jasper和不到2歲的次子Hoho，雖然他曾帶著Jasper一起上陸綜真人秀《爸爸去哪兒》，但Hoho卻極少曝光。   \n",
      "合邦商網股份有限公司 - 104人力銀行  www.104.com.tw › company     HoHo好服務、好生活，於2017年成立，為鑫聯大控股集團（股票代號3709）之一員， 目前為全台首選居家平台，提供多樣化的居家生活服務， 更積極籌畫發展新的商業模式， ...   \n",
      "   HoHo好服務、好生活，於2017年成立，為鑫聯大控股集團（股票代號3709）之一員， 目前為全台首選居家平台，提供多樣化的居家生活服務， 更積極籌畫發展新的商業模式， ...   \n",
      "  相關搜尋    hoho評價  >  hoho清潔評價  >  hoho是誰  >  hoho評價ptt  >  hoho服飾  >  hoho卡  >  hoho應采兒  >  hoho水瓶  >  hoho官網  >  hoho洗冷氣  >\n",
      ">\n",
      ">\n",
      ">\n",
      ">\n",
      ">\n",
      ">\n",
      ">\n",
      ">\n",
      ">\n",
      ">\n",
      ">\n",
      ">\n",
      ">\n",
      ">\n",
      ">\n",
      ">\n",
      ">\n",
      ">\n",
      ">\n",
      ">\n",
      "內湖區 台北市 - 根據你的 IP 位址 - 瞭解詳情登入設定隱私權服務條款\n",
      "內湖區 台北市 - 根據你的 IP 位址 - 瞭解詳情\n"
     ]
    }
   ],
   "source": [
    "regex = re.compile('[a-zA-Z]')\n",
    "for EachPart in soup.find_all(\"div\", {\"class\" : regex}):\n",
    "    print(EachPart.get_text())"
   ]
  },
  {
   "cell_type": "code",
   "execution_count": null,
   "metadata": {},
   "outputs": [],
   "source": []
  }
 ],
 "metadata": {
  "kernelspec": {
   "display_name": "Python 3",
   "language": "python",
   "name": "python3"
  },
  "language_info": {
   "codemirror_mode": {
    "name": "ipython",
    "version": 3
   },
   "file_extension": ".py",
   "mimetype": "text/x-python",
   "name": "python",
   "nbconvert_exporter": "python",
   "pygments_lexer": "ipython3",
   "version": "3.8.5"
  }
 },
 "nbformat": 4,
 "nbformat_minor": 4
}
